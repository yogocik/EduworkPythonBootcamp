{
 "cells": [
  {
   "attachments": {},
   "cell_type": "markdown",
   "metadata": {},
   "source": [
    "## 1. Membuat array 1D dengan 5 elemen acak"
   ]
  },
  {
   "cell_type": "code",
   "execution_count": 1,
   "metadata": {},
   "outputs": [],
   "source": [
    "import numpy as np"
   ]
  },
  {
   "cell_type": "code",
   "execution_count": 2,
   "metadata": {},
   "outputs": [
    {
     "name": "stdout",
     "output_type": "stream",
     "text": [
      "[2 3 5 7 9]\n"
     ]
    }
   ],
   "source": [
    "number = [2,3,5,7,9]\n",
    "new_number = np.array(number)\n",
    "print(new_number)"
   ]
  },
  {
   "attachments": {},
   "cell_type": "markdown",
   "metadata": {},
   "source": [
    "## 2. Jumlah, rata-rata, minimum, dan maximum pada array"
   ]
  },
  {
   "cell_type": "code",
   "execution_count": 8,
   "metadata": {},
   "outputs": [
    {
     "name": "stdout",
     "output_type": "stream",
     "text": [
      "Total elemen in array: 5\n",
      "Mean result in array: 5.2\n",
      "The minimum element in array: 2\n",
      "The maximum element in array: 9\n"
     ]
    }
   ],
   "source": [
    "number = np.array([2,3,5,7,9])\n",
    "\n",
    "size_num = np.size(number)\n",
    "mean_num = np.mean(number)\n",
    "min_num = np.min(number)\n",
    "max_num = np.max(number)\n",
    "\n",
    "print('Total elemen in array:',size_num)\n",
    "print('Mean result in array:',mean_num)\n",
    "print('The minimum element in array:',min_num)\n",
    "print('The maximum element in array:',max_num)"
   ]
  },
  {
   "attachments": {},
   "cell_type": "markdown",
   "metadata": {},
   "source": [
    "## 3. Membuat 2 array numpy 2D berukuran 3x3"
   ]
  },
  {
   "cell_type": "code",
   "execution_count": 18,
   "metadata": {},
   "outputs": [
    {
     "name": "stdout",
     "output_type": "stream",
     "text": [
      "[[2 4 6]\n",
      " [1 7 3]\n",
      " [5 8 9]]\n",
      "[[1 3 5]\n",
      " [3 4 6]\n",
      " [7 9 8]]\n"
     ]
    }
   ],
   "source": [
    "value1 = np.array([[2,4,6],[1,7,3],[5,8,9]])\n",
    "value2 = np.array([[1,3,5],[3,4,6],[7,9,8]])\n",
    "print(value1)\n",
    "print(value2)"
   ]
  },
  {
   "attachments": {},
   "cell_type": "markdown",
   "metadata": {},
   "source": [
    "## 4. Melakukan operasi matematika terhadap kedua array"
   ]
  },
  {
   "cell_type": "code",
   "execution_count": 19,
   "metadata": {},
   "outputs": [
    {
     "name": "stdout",
     "output_type": "stream",
     "text": [
      "[[ 3  7 11]\n",
      " [ 4 11  9]\n",
      " [12 17 17]]\n",
      "[[ 1  1  1]\n",
      " [-2  3 -3]\n",
      " [-2 -1  1]]\n",
      "[[ 2 12 30]\n",
      " [ 3 28 18]\n",
      " [35 72 72]]\n",
      "[[2.         1.33333333 1.2       ]\n",
      " [0.33333333 1.75       0.5       ]\n",
      " [0.71428571 0.88888889 1.125     ]]\n"
     ]
    }
   ],
   "source": [
    "total_value = value1 + value2\n",
    "less_value = value1 - value2\n",
    "multiple_value = value1 * value2\n",
    "divide_value = value1 / value2\n",
    "\n",
    "print(total_value)\n",
    "print(less_value)\n",
    "print(multiple_value)\n",
    "print(divide_value)"
   ]
  },
  {
   "attachments": {},
   "cell_type": "markdown",
   "metadata": {},
   "source": [
    "## 5. Menghitung nilai determinan dari salah satu array"
   ]
  },
  {
   "cell_type": "code",
   "execution_count": 20,
   "metadata": {},
   "outputs": [
    {
     "data": {
      "text/plain": [
       "26.99999999999999"
      ]
     },
     "execution_count": 20,
     "metadata": {},
     "output_type": "execute_result"
    }
   ],
   "source": [
    "np.linalg.det(value2)"
   ]
  },
  {
   "attachments": {},
   "cell_type": "markdown",
   "metadata": {},
   "source": [
    "## 6. Membuat array numpy 1D dengan 10 elemen"
   ]
  },
  {
   "cell_type": "code",
   "execution_count": 22,
   "metadata": {},
   "outputs": [
    {
     "name": "stdout",
     "output_type": "stream",
     "text": [
      "[ 1  2  3  4  5  6  7  8  9 10]\n"
     ]
    }
   ],
   "source": [
    "test = [1,2,3,4,5,6,7,8,9,10]\n",
    "test_array = np.array(test)\n",
    "print(test_array)"
   ]
  },
  {
   "attachments": {},
   "cell_type": "markdown",
   "metadata": {},
   "source": [
    "## 7. Menampilkan elemen dengan indeks genap"
   ]
  },
  {
   "cell_type": "code",
   "execution_count": 27,
   "metadata": {},
   "outputs": [
    {
     "name": "stdout",
     "output_type": "stream",
     "text": [
      "[ 2  4  6  8 10]\n"
     ]
    }
   ],
   "source": [
    "even_number = np.arange(2,11,2)\n",
    "print(even_number)"
   ]
  },
  {
   "attachments": {},
   "cell_type": "markdown",
   "metadata": {},
   "source": [
    "## 8. Subset array numpy > 5"
   ]
  },
  {
   "cell_type": "code",
   "execution_count": 34,
   "metadata": {},
   "outputs": [
    {
     "name": "stdout",
     "output_type": "stream",
     "text": [
      "[-- -- -- -- 5 6 7 8 9 10]\n"
     ]
    }
   ],
   "source": [
    "import numpy.ma as ma\n",
    "test = [1,2,3,4,5,6,7,8,9,10]\n",
    "test_array = np.array(test)\n",
    "mask_value = ma.masked_less(test_array, 5)\n",
    "print(mask_value)"
   ]
  },
  {
   "attachments": {},
   "cell_type": "markdown",
   "metadata": {},
   "source": [
    "## 9. Array numpy 2D berukuran 4x4"
   ]
  },
  {
   "cell_type": "code",
   "execution_count": 42,
   "metadata": {},
   "outputs": [
    {
     "data": {
      "text/plain": [
       "array([[1, 2, 3, 4],\n",
       "       [5, 6, 7, 8],\n",
       "       [1, 3, 5, 7],\n",
       "       [2, 4, 6, 5]])"
      ]
     },
     "execution_count": 42,
     "metadata": {},
     "output_type": "execute_result"
    }
   ],
   "source": [
    "new_data = np.array([[1,2,3,4],[5,6,7,8],[1,3,5,7],[2,4,6,5]])\n",
    "new_data"
   ]
  },
  {
   "attachments": {},
   "cell_type": "markdown",
   "metadata": {},
   "source": [
    "### 10. Mencari nilai mean, standar deviasi, median, dan koefisien korelasi"
   ]
  },
  {
   "cell_type": "code",
   "execution_count": 48,
   "metadata": {},
   "outputs": [
    {
     "name": "stdout",
     "output_type": "stream",
     "text": [
      "4.3125\n",
      "2.1130176880471208\n",
      "4.5\n",
      "[[1.         1.         1.         0.83152184]\n",
      " [1.         1.         1.         0.83152184]\n",
      " [1.         1.         1.         0.83152184]\n",
      " [0.83152184 0.83152184 0.83152184 1.        ]]\n"
     ]
    }
   ],
   "source": [
    "new_mean = np.mean(new_data)\n",
    "new_std = np.std(new_data)\n",
    "new_median = np.median(new_data)\n",
    "new_corcoef = np.corrcoef(new_data)\n",
    "\n",
    "print(new_mean)\n",
    "print(new_std)\n",
    "print(new_median)\n",
    "print(new_corcoef)"
   ]
  },
  {
   "attachments": {},
   "cell_type": "markdown",
   "metadata": {},
   "source": [
    "### 11. Array numpy 1D bernilai 0 hingga 3.14 dengan interval 0.1"
   ]
  },
  {
   "cell_type": "code",
   "execution_count": 57,
   "metadata": {},
   "outputs": [
    {
     "name": "stdout",
     "output_type": "stream",
     "text": [
      "[0.  0.1 0.2 0.3 0.4 0.5 0.6 0.7 0.8 0.9 1.  1.1 1.2 1.3 1.4 1.5 1.6 1.7\n",
      " 1.8 1.9 2.  2.1 2.2 2.3 2.4 2.5 2.6 2.7 2.8 2.9 3.  3.1]\n"
     ]
    }
   ],
   "source": [
    "new_value = np.arange(0,3.14,0.1)\n",
    "print(new_value)"
   ]
  },
  {
   "attachments": {},
   "cell_type": "markdown",
   "metadata": {},
   "source": [
    "## 12. Mencari nilai trigonometri dalam array (sin,cos, dan tan)"
   ]
  },
  {
   "cell_type": "code",
   "execution_count": 58,
   "metadata": {},
   "outputs": [
    {
     "data": {
      "text/plain": [
       "array([0.        , 0.09983342, 0.19866933, 0.29552021, 0.38941834,\n",
       "       0.47942554, 0.56464247, 0.64421769, 0.71735609, 0.78332691,\n",
       "       0.84147098, 0.89120736, 0.93203909, 0.96355819, 0.98544973,\n",
       "       0.99749499, 0.9995736 , 0.99166481, 0.97384763, 0.94630009,\n",
       "       0.90929743, 0.86320937, 0.8084964 , 0.74570521, 0.67546318,\n",
       "       0.59847214, 0.51550137, 0.42737988, 0.33498815, 0.23924933,\n",
       "       0.14112001, 0.04158066])"
      ]
     },
     "execution_count": 58,
     "metadata": {},
     "output_type": "execute_result"
    }
   ],
   "source": [
    "np.sin(new_value)"
   ]
  },
  {
   "cell_type": "code",
   "execution_count": 59,
   "metadata": {},
   "outputs": [
    {
     "data": {
      "text/plain": [
       "array([ 1.        ,  0.99500417,  0.98006658,  0.95533649,  0.92106099,\n",
       "        0.87758256,  0.82533561,  0.76484219,  0.69670671,  0.62160997,\n",
       "        0.54030231,  0.45359612,  0.36235775,  0.26749883,  0.16996714,\n",
       "        0.0707372 , -0.02919952, -0.12884449, -0.22720209, -0.32328957,\n",
       "       -0.41614684, -0.5048461 , -0.58850112, -0.66627602, -0.73739372,\n",
       "       -0.80114362, -0.85688875, -0.90407214, -0.94222234, -0.97095817,\n",
       "       -0.9899925 , -0.99913515])"
      ]
     },
     "execution_count": 59,
     "metadata": {},
     "output_type": "execute_result"
    }
   ],
   "source": [
    "np.cos(new_value)"
   ]
  },
  {
   "cell_type": "code",
   "execution_count": 60,
   "metadata": {},
   "outputs": [
    {
     "data": {
      "text/plain": [
       "array([  0.        ,   0.10033467,   0.20271004,   0.30933625,\n",
       "         0.42279322,   0.54630249,   0.68413681,   0.84228838,\n",
       "         1.02963856,   1.26015822,   1.55740772,   1.96475966,\n",
       "         2.57215162,   3.60210245,   5.79788372,  14.10141995,\n",
       "       -34.23253274,  -7.69660214,  -4.28626167,  -2.92709751,\n",
       "        -2.18503986,  -1.70984654,  -1.37382306,  -1.11921364,\n",
       "        -0.91601429,  -0.7470223 ,  -0.60159661,  -0.47272763,\n",
       "        -0.35552983,  -0.24640539,  -0.14254654,  -0.04161665])"
      ]
     },
     "execution_count": 60,
     "metadata": {},
     "output_type": "execute_result"
    }
   ],
   "source": [
    "np.tan(new_value)"
   ]
  },
  {
   "attachments": {},
   "cell_type": "markdown",
   "metadata": {},
   "source": [
    "## 13. Mencari nilai max dan min dari sin"
   ]
  },
  {
   "cell_type": "code",
   "execution_count": 64,
   "metadata": {},
   "outputs": [
    {
     "data": {
      "text/plain": [
       "(0.0, 0.9995736030415051)"
      ]
     },
     "execution_count": 64,
     "metadata": {},
     "output_type": "execute_result"
    }
   ],
   "source": [
    "sin_value = np.sin(new_value)\n",
    "np.min(sin_value),np.max(sin_value)"
   ]
  }
 ],
 "metadata": {
  "kernelspec": {
   "display_name": "Python 3",
   "language": "python",
   "name": "python3"
  },
  "language_info": {
   "codemirror_mode": {
    "name": "ipython",
    "version": 3
   },
   "file_extension": ".py",
   "mimetype": "text/x-python",
   "name": "python",
   "nbconvert_exporter": "python",
   "pygments_lexer": "ipython3",
   "version": "3.12.1"
  },
  "orig_nbformat": 4
 },
 "nbformat": 4,
 "nbformat_minor": 2
}
