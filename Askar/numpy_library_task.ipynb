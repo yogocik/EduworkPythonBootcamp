{
 "cells": [
  {
   "attachments": {},
   "cell_type": "markdown",
   "metadata": {},
   "source": [
    "## 1. Membuat array 1D dengan 5 elemen acak"
   ]
  },
  {
   "cell_type": "code",
   "execution_count": 1,
   "metadata": {},
   "outputs": [],
   "source": [
    "import numpy as np"
   ]
  },
  {
   "cell_type": "code",
   "execution_count": 2,
   "metadata": {},
   "outputs": [
    {
     "name": "stdout",
     "output_type": "stream",
     "text": [
      "[2 3 5 7 9]\n"
     ]
    }
   ],
   "source": [
    "number = [2,3,5,7,9]\n",
    "new_number = np.array(number)\n",
    "print(new_number)"
   ]
  },
  {
   "attachments": {},
   "cell_type": "markdown",
   "metadata": {},
   "source": [
    "## 2. Jumlah, rata-rata, minimum, dan maximum pada array"
   ]
  },
  {
   "cell_type": "code",
   "execution_count": null,
   "metadata": {},
   "outputs": [],
   "source": [
    "number = np.array([2,3,5,7,9])\n",
    "\n",
    "size_num = np.size(number)\n",
    "mean_num = np.mean(number)\n",
    "min_num = np.min(number)\n",
    "max_num = np.max(number)\n",
    "\n",
    "print('Total elemen in array:',size_num)\n",
    "print('Mean result in array:',mean_num)\n",
    "print('The minimum element in array:',min_num)\n",
    "print('The maximum element in array:',max_num)"
   ]
  },
  {
   "attachments": {},
   "cell_type": "markdown",
   "metadata": {},
   "source": [
    "## 3. Membuat 2 array numpy 2D berukuran 3x3"
   ]
  },
  {
   "cell_type": "code",
   "execution_count": null,
   "metadata": {},
   "outputs": [],
   "source": [
    "value1 = np.array([[2,4,6],[1,7,3],[5,8,9]])\n",
    "value2 = np.array([[1,3,5],[3,4,6],[7,9,8]])\n",
    "print(value1)\n",
    "print(value2)"
   ]
  },
  {
   "attachments": {},
   "cell_type": "markdown",
   "metadata": {},
   "source": [
    "## 4. Melakukan operasi matematika terhadap kedua array"
   ]
  },
  {
   "cell_type": "code",
   "execution_count": null,
   "metadata": {},
   "outputs": [],
   "source": [
    "total_value = value1 + value2\n",
    "less_value = value1 - value2\n",
    "multiple_value = value1 * value2\n",
    "divide_value = value1 / value2\n",
    "\n",
    "print(total_value)\n",
    "print(less_value)\n",
    "print(multiple_value)\n",
    "print(divide_value)"
   ]
  },
  {
   "attachments": {},
   "cell_type": "markdown",
   "metadata": {},
   "source": [
    "## 5. Menghitung nilai determinan dari salah satu array"
   ]
  },
  {
   "cell_type": "code",
   "execution_count": null,
   "metadata": {},
   "outputs": [],
   "source": [
    "np.linalg.det(value2)"
   ]
  },
  {
   "attachments": {},
   "cell_type": "markdown",
   "metadata": {},
   "source": [
    "## 6. Membuat array numpy 1D dengan 10 elemen"
   ]
  },
  {
   "cell_type": "code",
   "execution_count": null,
   "metadata": {},
   "outputs": [],
   "source": [
    "test = [1,2,3,4,5,6,7,8,9,10]\n",
    "test_array = np.array(test)\n",
    "print(test_array)"
   ]
  },
  {
   "attachments": {},
   "cell_type": "markdown",
   "metadata": {},
   "source": [
    "## 7. Menampilkan elemen dengan indeks genap"
   ]
  },
  {
   "cell_type": "code",
   "execution_count": null,
   "metadata": {},
   "outputs": [],
   "source": [
    "even_number = np.arange(2,11,2)\n",
    "print(even_number)"
   ]
  },
  {
   "attachments": {},
   "cell_type": "markdown",
   "metadata": {},
   "source": [
    "## 8. Subset array numpy > 5"
   ]
  },
  {
   "cell_type": "code",
   "execution_count": null,
   "metadata": {},
   "outputs": [],
   "source": [
    "import numpy.ma as ma\n",
    "test = [1,2,3,4,5,6,7,8,9,10]\n",
    "test_array = np.array(test)\n",
    "mask_value = ma.masked_less(test_array, 5)\n",
    "print(mask_value)"
   ]
  },
  {
   "attachments": {},
   "cell_type": "markdown",
   "metadata": {},
   "source": [
    "## 9. Array numpy 2D berukuran 4x4"
   ]
  },
  {
   "cell_type": "code",
   "execution_count": null,
   "metadata": {},
   "outputs": [],
   "source": [
    "new_data = np.array([[1,2,3,4],[5,6,7,8],[1,3,5,7],[2,4,6,5]])\n",
    "new_data"
   ]
  },
  {
   "attachments": {},
   "cell_type": "markdown",
   "metadata": {},
   "source": [
    "### 10. Mencari nilai mean, standar deviasi, median, dan koefisien korelasi"
   ]
  },
  {
   "cell_type": "code",
   "execution_count": null,
   "metadata": {},
   "outputs": [],
   "source": [
    "new_mean = np.mean(new_data)\n",
    "new_std = np.std(new_data)\n",
    "new_median = np.median(new_data)\n",
    "new_corcoef = np.corrcoef(new_data)\n",
    "\n",
    "print(new_mean)\n",
    "print(new_std)\n",
    "print(new_median)\n",
    "print(new_corcoef)"
   ]
  },
  {
   "attachments": {},
   "cell_type": "markdown",
   "metadata": {},
   "source": [
    "### 11. Array numpy 1D bernilai 0 hingga 3.14 dengan interval 0.1"
   ]
  },
  {
   "cell_type": "code",
   "execution_count": null,
   "metadata": {},
   "outputs": [],
   "source": [
    "new_value = np.arange(0,3.14,0.1)\n",
    "print(new_value)"
   ]
  },
  {
   "attachments": {},
   "cell_type": "markdown",
   "metadata": {},
   "source": [
    "## 12. Mencari nilai trigonometri dalam array (sin,cos, dan tan)"
   ]
  },
  {
   "cell_type": "code",
   "execution_count": null,
   "metadata": {},
   "outputs": [],
   "source": [
    "np.sin(new_value)"
   ]
  },
  {
   "cell_type": "code",
   "execution_count": null,
   "metadata": {},
   "outputs": [],
   "source": [
    "np.cos(new_value)"
   ]
  },
  {
   "cell_type": "code",
   "execution_count": null,
   "metadata": {},
   "outputs": [],
   "source": [
    "np.tan(new_value)"
   ]
  },
  {
   "attachments": {},
   "cell_type": "markdown",
   "metadata": {},
   "source": [
    "## 13. Mencari nilai max dan min dari sin"
   ]
  },
  {
   "cell_type": "code",
   "execution_count": null,
   "metadata": {},
   "outputs": [],
   "source": [
    "sin_value = np.sin(new_value)\n",
    "np.min(sin_value),np.max(sin_value)"
   ]
  }
 ],
 "metadata": {
  "kernelspec": {
   "display_name": "Python 3",
   "language": "python",
   "name": "python3"
  },
  "language_info": {
   "codemirror_mode": {
    "name": "ipython",
    "version": 3
   },
   "file_extension": ".py",
   "mimetype": "text/x-python",
   "name": "python",
   "nbconvert_exporter": "python",
   "pygments_lexer": "ipython3",
   "version": "3.12.1"
  },
  "orig_nbformat": 4
 },
 "nbformat": 4,
 "nbformat_minor": 2
}
