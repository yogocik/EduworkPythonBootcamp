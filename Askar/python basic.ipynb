{
 "cells": [
  {
   "attachments": {},
   "cell_type": "markdown",
   "metadata": {},
   "source": [
    "## Soal 1: Manipulasi List dan Fungsi"
   ]
  },
  {
   "cell_type": "code",
   "execution_count": 10,
   "metadata": {},
   "outputs": [
    {
     "name": "stdout",
     "output_type": "stream",
     "text": [
      "3.6\n"
     ]
    }
   ],
   "source": [
    "def find_average(numbers):\n",
    "    total = sum(numbers)\n",
    "    average = total/len(numbers)\n",
    "\n",
    "    return average\n",
    "\n",
    "my_numbers = [2,3,1,7,5]\n",
    "result = find_average(my_numbers)\n",
    "\n",
    "print(result)"
   ]
  },
  {
   "attachments": {},
   "cell_type": "markdown",
   "metadata": {},
   "source": [
    "## Soal 2: Pemahaman String dan Fungsi"
   ]
  },
  {
   "cell_type": "code",
   "execution_count": 1,
   "metadata": {},
   "outputs": [
    {
     "name": "stdout",
     "output_type": "stream",
     "text": [
      "Kalimat Original: Hallo nama saya askar\n",
      "Kalimat Terbalik: raksa ayas aman ollaH\n"
     ]
    }
   ],
   "source": [
    "def reverse_words(sentence):\n",
    "    reverse_sentence = sentence[::-1]\n",
    "    return reverse_sentence\n",
    "\n",
    "original_sentence = \"Hallo nama saya askar\"\n",
    "result = reverse_words(original_sentence)\n",
    "\n",
    "print(f\"Kalimat Original:\", original_sentence)\n",
    "print(f\"Kalimat Terbalik:\", result)"
   ]
  },
  {
   "attachments": {},
   "cell_type": "markdown",
   "metadata": {},
   "source": [
    "## Soal 3: Pemahaman Data Casting dan Fungsi"
   ]
  },
  {
   "cell_type": "code",
   "execution_count": 42,
   "metadata": {},
   "outputs": [
    {
     "name": "stdout",
     "output_type": "stream",
     "text": [
      "30 derajat celsius adalah 86.00 derajat fahrenheit\n",
      "75 derajat fahrenheit adalah 23.89 derajat celsius\n"
     ]
    }
   ],
   "source": [
    "def convert_temperature(degrees, from_unit, to_unit):\n",
    "    def celsius_to_fahrenheit(celsius_degrees):\n",
    "        celsius_to_fahrenheit = (celsius_degrees * 9/5) + 32\n",
    "        \n",
    "        return celsius_to_fahrenheit\n",
    "    \n",
    "    def fahrenheit_to_celsius(fahrenheit_degrees):\n",
    "        fahrenheit_to_celsius = (fahrenheit_degrees - 32) * 5/9\n",
    "\n",
    "        return fahrenheit_to_celsius\n",
    "    \n",
    "    if from_unit == \"C\" and to_unit == \"F\":\n",
    "        return celsius_to_fahrenheit(degrees)\n",
    "    elif from_unit == \"F\" and to_unit == \"C\":\n",
    "        return fahrenheit_to_celsius(degrees)\n",
    "    else:\n",
    "        return degrees\n",
    "    \n",
    "celsius = 30\n",
    "fahrenheit = 75\n",
    "\n",
    "convert_temperature_1 = convert_temperature(celsius,'C','F')\n",
    "convert_temperature_2 = convert_temperature(fahrenheit,'F','C')\n",
    "\n",
    "print(f\"{celsius} derajat celsius adalah {convert_temperature_1:.2f} derajat fahrenheit\")\n",
    "print(f\"{fahrenheit} derajat fahrenheit adalah {convert_temperature_2:.2f} derajat celsius\")"
   ]
  },
  {
   "attachments": {},
   "cell_type": "markdown",
   "metadata": {},
   "source": [
    "## Soal 4: Manipulasi Dictionary dan Fungsi"
   ]
  },
  {
   "cell_type": "code",
   "execution_count": 33,
   "metadata": {},
   "outputs": [
    {
     "name": "stdout",
     "output_type": "stream",
     "text": [
      "{'N': 1, 'a': 6, 'm': 1, ' ': 2, 's': 2, 'y': 1, 'k': 1, 'r': 1}\n"
     ]
    }
   ],
   "source": [
    "def count_characters(string):\n",
    "    my_char = {}\n",
    "    for char in string:\n",
    "        if char in my_char:\n",
    "            my_char[char] += 1\n",
    "        else:\n",
    "            my_char[char] = 1\n",
    "    return my_char\n",
    "\n",
    "my_sentence = \"Nama saya askar\"\n",
    "result = count_characters(my_sentence)\n",
    "\n",
    "print(result)"
   ]
  },
  {
   "attachments": {},
   "cell_type": "markdown",
   "metadata": {},
   "source": [
    "## Soal 5: Pemahaman List Comprehension dan Fungsi"
   ]
  },
  {
   "cell_type": "code",
   "execution_count": 43,
   "metadata": {},
   "outputs": [
    {
     "name": "stdout",
     "output_type": "stream",
     "text": [
      "[4, 16, 36, 64, 100, 144]\n"
     ]
    }
   ],
   "source": [
    "even_square_numbers = [n*n for n in range(1,13) if n%2 == 0]\n",
    "print(even_square_numbers)"
   ]
  }
 ],
 "metadata": {
  "kernelspec": {
   "display_name": "Python 3",
   "language": "python",
   "name": "python3"
  },
  "language_info": {
   "codemirror_mode": {
    "name": "ipython",
    "version": 3
   },
   "file_extension": ".py",
   "mimetype": "text/x-python",
   "name": "python",
   "nbconvert_exporter": "python",
   "pygments_lexer": "ipython3",
   "version": "3.12.0"
  },
  "orig_nbformat": 4
 },
 "nbformat": 4,
 "nbformat_minor": 2
}
