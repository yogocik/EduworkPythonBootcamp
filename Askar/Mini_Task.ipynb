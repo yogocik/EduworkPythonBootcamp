{
 "cells": [
  {
   "cell_type": "code",
   "execution_count": 1,
   "metadata": {},
   "outputs": [],
   "source": [
    "import duckdb as db\n",
    "import pandas as pd"
   ]
  },
  {
   "cell_type": "code",
   "execution_count": 2,
   "metadata": {},
   "outputs": [],
   "source": [
    "orders_df = pd.read_csv('./order_items.csv')\n",
    "user_df = pd.read_csv('./users.csv')"
   ]
  },
  {
   "cell_type": "code",
   "execution_count": 3,
   "metadata": {},
   "outputs": [
    {
     "data": {
      "text/html": [
       "<div>\n",
       "<style scoped>\n",
       "    .dataframe tbody tr th:only-of-type {\n",
       "        vertical-align: middle;\n",
       "    }\n",
       "\n",
       "    .dataframe tbody tr th {\n",
       "        vertical-align: top;\n",
       "    }\n",
       "\n",
       "    .dataframe thead th {\n",
       "        text-align: right;\n",
       "    }\n",
       "</style>\n",
       "<table border=\"1\" class=\"dataframe\">\n",
       "  <thead>\n",
       "    <tr style=\"text-align: right;\">\n",
       "      <th></th>\n",
       "      <th>id</th>\n",
       "      <th>first_name</th>\n",
       "      <th>last_name</th>\n",
       "      <th>email</th>\n",
       "      <th>age</th>\n",
       "      <th>gender</th>\n",
       "      <th>state</th>\n",
       "      <th>street_address</th>\n",
       "      <th>postal_code</th>\n",
       "      <th>city</th>\n",
       "      <th>country</th>\n",
       "      <th>latitude</th>\n",
       "      <th>longitude</th>\n",
       "      <th>traffic_source</th>\n",
       "      <th>created_at</th>\n",
       "    </tr>\n",
       "  </thead>\n",
       "  <tbody>\n",
       "    <tr>\n",
       "      <th>0</th>\n",
       "      <td>40112</td>\n",
       "      <td>Robert</td>\n",
       "      <td>Martin</td>\n",
       "      <td>robertmartin@example.com</td>\n",
       "      <td>41</td>\n",
       "      <td>M</td>\n",
       "      <td>Mie</td>\n",
       "      <td>8560 Paul Station Apt. 589</td>\n",
       "      <td>513-0836</td>\n",
       "      <td>Suzuka City</td>\n",
       "      <td>Japan</td>\n",
       "      <td>34.851814</td>\n",
       "      <td>136.508713</td>\n",
       "      <td>Search</td>\n",
       "      <td>2019-03-01 01:22:00 UTC</td>\n",
       "    </tr>\n",
       "    <tr>\n",
       "      <th>1</th>\n",
       "      <td>4646</td>\n",
       "      <td>Stephen</td>\n",
       "      <td>Dudley</td>\n",
       "      <td>stephendudley@example.net</td>\n",
       "      <td>60</td>\n",
       "      <td>M</td>\n",
       "      <td>Acre</td>\n",
       "      <td>6531 Dixon Trace</td>\n",
       "      <td>69917-400</td>\n",
       "      <td>Rio Branco</td>\n",
       "      <td>Brasil</td>\n",
       "      <td>-9.945568</td>\n",
       "      <td>-67.835610</td>\n",
       "      <td>Search</td>\n",
       "      <td>2023-02-14 18:56:00 UTC</td>\n",
       "    </tr>\n",
       "    <tr>\n",
       "      <th>2</th>\n",
       "      <td>5801</td>\n",
       "      <td>David</td>\n",
       "      <td>Smith</td>\n",
       "      <td>davidsmith@example.com</td>\n",
       "      <td>38</td>\n",
       "      <td>M</td>\n",
       "      <td>Acre</td>\n",
       "      <td>403 Chris Island</td>\n",
       "      <td>69917-400</td>\n",
       "      <td>Rio Branco</td>\n",
       "      <td>Brasil</td>\n",
       "      <td>-9.945568</td>\n",
       "      <td>-67.835610</td>\n",
       "      <td>Search</td>\n",
       "      <td>2023-08-13 00:55:22.961196 UTC</td>\n",
       "    </tr>\n",
       "    <tr>\n",
       "      <th>3</th>\n",
       "      <td>22001</td>\n",
       "      <td>Timothy</td>\n",
       "      <td>Anderson</td>\n",
       "      <td>timothyanderson@example.org</td>\n",
       "      <td>14</td>\n",
       "      <td>M</td>\n",
       "      <td>Acre</td>\n",
       "      <td>494 Anna Unions Suite 031</td>\n",
       "      <td>69917-400</td>\n",
       "      <td>Rio Branco</td>\n",
       "      <td>Brasil</td>\n",
       "      <td>-9.945568</td>\n",
       "      <td>-67.835610</td>\n",
       "      <td>Search</td>\n",
       "      <td>2022-12-03 11:15:00 UTC</td>\n",
       "    </tr>\n",
       "    <tr>\n",
       "      <th>4</th>\n",
       "      <td>39207</td>\n",
       "      <td>Erik</td>\n",
       "      <td>Johnson</td>\n",
       "      <td>erikjohnson@example.net</td>\n",
       "      <td>21</td>\n",
       "      <td>M</td>\n",
       "      <td>Acre</td>\n",
       "      <td>01619 Jermaine Summit</td>\n",
       "      <td>69917-400</td>\n",
       "      <td>Rio Branco</td>\n",
       "      <td>Brasil</td>\n",
       "      <td>-9.945568</td>\n",
       "      <td>-67.835610</td>\n",
       "      <td>Search</td>\n",
       "      <td>2021-08-21 18:41:00 UTC</td>\n",
       "    </tr>\n",
       "  </tbody>\n",
       "</table>\n",
       "</div>"
      ],
      "text/plain": [
       "      id first_name last_name                        email  age gender state  \\\n",
       "0  40112     Robert    Martin     robertmartin@example.com   41      M   Mie   \n",
       "1   4646    Stephen    Dudley    stephendudley@example.net   60      M  Acre   \n",
       "2   5801      David     Smith       davidsmith@example.com   38      M  Acre   \n",
       "3  22001    Timothy  Anderson  timothyanderson@example.org   14      M  Acre   \n",
       "4  39207       Erik   Johnson      erikjohnson@example.net   21      M  Acre   \n",
       "\n",
       "               street_address postal_code         city country   latitude  \\\n",
       "0  8560 Paul Station Apt. 589    513-0836  Suzuka City   Japan  34.851814   \n",
       "1            6531 Dixon Trace   69917-400   Rio Branco  Brasil  -9.945568   \n",
       "2            403 Chris Island   69917-400   Rio Branco  Brasil  -9.945568   \n",
       "3   494 Anna Unions Suite 031   69917-400   Rio Branco  Brasil  -9.945568   \n",
       "4       01619 Jermaine Summit   69917-400   Rio Branco  Brasil  -9.945568   \n",
       "\n",
       "    longitude traffic_source                      created_at  \n",
       "0  136.508713         Search         2019-03-01 01:22:00 UTC  \n",
       "1  -67.835610         Search         2023-02-14 18:56:00 UTC  \n",
       "2  -67.835610         Search  2023-08-13 00:55:22.961196 UTC  \n",
       "3  -67.835610         Search         2022-12-03 11:15:00 UTC  \n",
       "4  -67.835610         Search         2021-08-21 18:41:00 UTC  "
      ]
     },
     "execution_count": 3,
     "metadata": {},
     "output_type": "execute_result"
    }
   ],
   "source": [
    "user_df.head()"
   ]
  },
  {
   "cell_type": "code",
   "execution_count": 4,
   "metadata": {},
   "outputs": [
    {
     "data": {
      "text/html": [
       "<div>\n",
       "<style scoped>\n",
       "    .dataframe tbody tr th:only-of-type {\n",
       "        vertical-align: middle;\n",
       "    }\n",
       "\n",
       "    .dataframe tbody tr th {\n",
       "        vertical-align: top;\n",
       "    }\n",
       "\n",
       "    .dataframe thead th {\n",
       "        text-align: right;\n",
       "    }\n",
       "</style>\n",
       "<table border=\"1\" class=\"dataframe\">\n",
       "  <thead>\n",
       "    <tr style=\"text-align: right;\">\n",
       "      <th></th>\n",
       "      <th>id</th>\n",
       "      <th>order_id</th>\n",
       "      <th>user_id</th>\n",
       "      <th>product_id</th>\n",
       "      <th>inventory_item_id</th>\n",
       "      <th>status</th>\n",
       "      <th>created_at</th>\n",
       "      <th>shipped_at</th>\n",
       "      <th>delivered_at</th>\n",
       "      <th>returned_at</th>\n",
       "      <th>sale_price</th>\n",
       "    </tr>\n",
       "  </thead>\n",
       "  <tbody>\n",
       "    <tr>\n",
       "      <th>0</th>\n",
       "      <td>16000</td>\n",
       "      <td>10975</td>\n",
       "      <td>8831</td>\n",
       "      <td>13606</td>\n",
       "      <td>43216</td>\n",
       "      <td>Complete</td>\n",
       "      <td>2020-09-14 17:59:04 UTC</td>\n",
       "      <td>2020-09-16 12:05:00 UTC</td>\n",
       "      <td>2020-09-17 21:47:00 UTC</td>\n",
       "      <td>NaN</td>\n",
       "      <td>2.5</td>\n",
       "    </tr>\n",
       "    <tr>\n",
       "      <th>1</th>\n",
       "      <td>58903</td>\n",
       "      <td>40591</td>\n",
       "      <td>32637</td>\n",
       "      <td>13606</td>\n",
       "      <td>159361</td>\n",
       "      <td>Complete</td>\n",
       "      <td>2023-07-26 06:59:00 UTC</td>\n",
       "      <td>2023-07-28 07:38:00 UTC</td>\n",
       "      <td>2023-08-01 06:03:00 UTC</td>\n",
       "      <td>NaN</td>\n",
       "      <td>2.5</td>\n",
       "    </tr>\n",
       "    <tr>\n",
       "      <th>2</th>\n",
       "      <td>160715</td>\n",
       "      <td>110826</td>\n",
       "      <td>88857</td>\n",
       "      <td>13606</td>\n",
       "      <td>434265</td>\n",
       "      <td>Returned</td>\n",
       "      <td>2023-07-11 05:19:49 UTC</td>\n",
       "      <td>2023-07-12 13:45:00 UTC</td>\n",
       "      <td>2023-07-12 21:41:00 UTC</td>\n",
       "      <td>2023-07-13 21:15:00 UTC</td>\n",
       "      <td>2.5</td>\n",
       "    </tr>\n",
       "    <tr>\n",
       "      <th>3</th>\n",
       "      <td>40331</td>\n",
       "      <td>27796</td>\n",
       "      <td>22443</td>\n",
       "      <td>28951</td>\n",
       "      <td>109154</td>\n",
       "      <td>Shipped</td>\n",
       "      <td>2023-06-01 17:44:45 UTC</td>\n",
       "      <td>2023-06-04 17:26:00 UTC</td>\n",
       "      <td>NaN</td>\n",
       "      <td>NaN</td>\n",
       "      <td>3.0</td>\n",
       "    </tr>\n",
       "    <tr>\n",
       "      <th>4</th>\n",
       "      <td>83959</td>\n",
       "      <td>57928</td>\n",
       "      <td>46609</td>\n",
       "      <td>28951</td>\n",
       "      <td>227036</td>\n",
       "      <td>Shipped</td>\n",
       "      <td>2023-06-28 05:57:34 UTC</td>\n",
       "      <td>2023-06-29 16:56:00 UTC</td>\n",
       "      <td>NaN</td>\n",
       "      <td>NaN</td>\n",
       "      <td>3.0</td>\n",
       "    </tr>\n",
       "  </tbody>\n",
       "</table>\n",
       "</div>"
      ],
      "text/plain": [
       "       id  order_id  user_id  product_id  inventory_item_id    status  \\\n",
       "0   16000     10975     8831       13606              43216  Complete   \n",
       "1   58903     40591    32637       13606             159361  Complete   \n",
       "2  160715    110826    88857       13606             434265  Returned   \n",
       "3   40331     27796    22443       28951             109154   Shipped   \n",
       "4   83959     57928    46609       28951             227036   Shipped   \n",
       "\n",
       "                created_at               shipped_at             delivered_at  \\\n",
       "0  2020-09-14 17:59:04 UTC  2020-09-16 12:05:00 UTC  2020-09-17 21:47:00 UTC   \n",
       "1  2023-07-26 06:59:00 UTC  2023-07-28 07:38:00 UTC  2023-08-01 06:03:00 UTC   \n",
       "2  2023-07-11 05:19:49 UTC  2023-07-12 13:45:00 UTC  2023-07-12 21:41:00 UTC   \n",
       "3  2023-06-01 17:44:45 UTC  2023-06-04 17:26:00 UTC                      NaN   \n",
       "4  2023-06-28 05:57:34 UTC  2023-06-29 16:56:00 UTC                      NaN   \n",
       "\n",
       "               returned_at  sale_price  \n",
       "0                      NaN         2.5  \n",
       "1                      NaN         2.5  \n",
       "2  2023-07-13 21:15:00 UTC         2.5  \n",
       "3                      NaN         3.0  \n",
       "4                      NaN         3.0  "
      ]
     },
     "execution_count": 4,
     "metadata": {},
     "output_type": "execute_result"
    }
   ],
   "source": [
    "orders_df.head()"
   ]
  },
  {
   "cell_type": "code",
   "execution_count": 5,
   "metadata": {},
   "outputs": [
    {
     "data": {
      "text/plain": [
       "┌───────┬────────────┬───────────┬───┬──────────────┬──────────────┬────────────────┬──────────────────────┐\n",
       "│  id   │ first_name │ last_name │ … │   latitude   │  longitude   │ traffic_source │      created_at      │\n",
       "│ int64 │  varchar   │  varchar  │   │    double    │    double    │    varchar     │       varchar        │\n",
       "├───────┼────────────┼───────────┼───┼──────────────┼──────────────┼────────────────┼──────────────────────┤\n",
       "│ 40112 │ Robert     │ Martin    │ … │  34.85181443 │  136.5087133 │ Search         │ 2019-03-01 01:22:0…  │\n",
       "│  4646 │ Stephen    │ Dudley    │ … │ -9.945567619 │ -67.83560991 │ Search         │ 2023-02-14 18:56:0…  │\n",
       "│  5801 │ David      │ Smith     │ … │ -9.945567619 │ -67.83560991 │ Search         │ 2023-08-13 00:55:2…  │\n",
       "│ 22001 │ Timothy    │ Anderson  │ … │ -9.945567619 │ -67.83560991 │ Search         │ 2022-12-03 11:15:0…  │\n",
       "│ 39207 │ Erik       │ Johnson   │ … │ -9.945567619 │ -67.83560991 │ Search         │ 2021-08-21 18:41:0…  │\n",
       "│ 42481 │ Shelby     │ Lane      │ … │ -9.945567619 │ -67.83560991 │ Search         │ 2021-06-11 03:59:0…  │\n",
       "│ 63144 │ Jared      │ Taylor    │ … │ -9.945567619 │ -67.83560991 │ Search         │ 2019-03-30 07:01:0…  │\n",
       "│ 66272 │ Melanie    │ Graham    │ … │ -9.945567619 │ -67.83560991 │ Facebook       │ 2021-12-11 09:16:0…  │\n",
       "│ 88228 │ Robert     │ Bonilla   │ … │ -9.945567619 │ -67.83560991 │ Search         │ 2020-03-27 09:53:0…  │\n",
       "│ 89168 │ Alexis     │ Gonzales  │ … │ -9.945567619 │ -67.83560991 │ Search         │ 2023-07-12 01:37:0…  │\n",
       "│   ·   │   ·        │   ·       │ · │       ·      │       ·      │   ·            │          ·           │\n",
       "│   ·   │   ·        │   ·       │ · │       ·      │       ·      │   ·            │          ·           │\n",
       "│   ·   │   ·        │   ·       │ · │       ·      │       ·      │   ·            │          ·           │\n",
       "│ 92154 │ Courtney   │ White     │ … │  43.85274812 │  125.3429264 │ Organic        │ 2019-08-31 09:16:0…  │\n",
       "│ 96909 │ Michael    │ Browning  │ … │  43.85274812 │  125.3429264 │ Search         │ 2021-12-15 08:09:0…  │\n",
       "│  2337 │ Scott      │ Murray    │ … │  43.88109631 │  125.3893404 │ Search         │ 2022-11-29 15:38:0…  │\n",
       "│  4806 │ Amy        │ Nunez     │ … │  43.88109631 │  125.3893404 │ Search         │ 2021-08-24 12:33:0…  │\n",
       "│ 15734 │ Jeffery    │ Rodriguez │ … │  43.88109631 │  125.3893404 │ Search         │ 2021-07-13 18:11:0…  │\n",
       "│ 19627 │ Tiffany    │ Wagner    │ … │  43.88109631 │  125.3893404 │ Email          │ 2022-08-06 06:40:0…  │\n",
       "│ 20209 │ Cheyenne   │ Humphrey  │ … │  43.88109631 │  125.3893404 │ Search         │ 2019-04-07 00:17:0…  │\n",
       "│ 36880 │ Shannon    │ Anthony   │ … │  43.88109631 │  125.3893404 │ Search         │ 2022-03-20 03:37:0…  │\n",
       "│ 40696 │ Robin      │ Perry     │ … │  43.88109631 │  125.3893404 │ Search         │ 2023-01-07 09:31:0…  │\n",
       "│ 41870 │ Nicholas   │ Moreno    │ … │  43.88109631 │  125.3893404 │ Search         │ 2021-12-12 04:27:0…  │\n",
       "├───────┴────────────┴───────────┴───┴──────────────┴──────────────┴────────────────┴──────────────────────┤\n",
       "│ ? rows (>9999 rows, 20 shown)                                                       15 columns (7 shown) │\n",
       "└──────────────────────────────────────────────────────────────────────────────────────────────────────────┘"
      ]
     },
     "execution_count": 5,
     "metadata": {},
     "output_type": "execute_result"
    }
   ],
   "source": [
    "db.sql('SELECT * FROM user_df')"
   ]
  },
  {
   "cell_type": "code",
   "execution_count": 6,
   "metadata": {},
   "outputs": [
    {
     "data": {
      "text/html": [
       "<div>\n",
       "<style scoped>\n",
       "    .dataframe tbody tr th:only-of-type {\n",
       "        vertical-align: middle;\n",
       "    }\n",
       "\n",
       "    .dataframe tbody tr th {\n",
       "        vertical-align: top;\n",
       "    }\n",
       "\n",
       "    .dataframe thead th {\n",
       "        text-align: right;\n",
       "    }\n",
       "</style>\n",
       "<table border=\"1\" class=\"dataframe\">\n",
       "  <thead>\n",
       "    <tr style=\"text-align: right;\">\n",
       "      <th></th>\n",
       "      <th>id</th>\n",
       "      <th>first_name</th>\n",
       "      <th>last_name</th>\n",
       "      <th>email</th>\n",
       "      <th>age</th>\n",
       "      <th>gender</th>\n",
       "      <th>state</th>\n",
       "      <th>street_address</th>\n",
       "      <th>postal_code</th>\n",
       "      <th>city</th>\n",
       "      <th>country</th>\n",
       "      <th>latitude</th>\n",
       "      <th>longitude</th>\n",
       "      <th>traffic_source</th>\n",
       "      <th>created_at</th>\n",
       "    </tr>\n",
       "  </thead>\n",
       "  <tbody>\n",
       "    <tr>\n",
       "      <th>0</th>\n",
       "      <td>40112</td>\n",
       "      <td>Robert</td>\n",
       "      <td>Martin</td>\n",
       "      <td>robertmartin@example.com</td>\n",
       "      <td>41</td>\n",
       "      <td>M</td>\n",
       "      <td>Mie</td>\n",
       "      <td>8560 Paul Station Apt. 589</td>\n",
       "      <td>513-0836</td>\n",
       "      <td>Suzuka City</td>\n",
       "      <td>Japan</td>\n",
       "      <td>34.851814</td>\n",
       "      <td>136.508713</td>\n",
       "      <td>Search</td>\n",
       "      <td>2019-03-01 01:22:00 UTC</td>\n",
       "    </tr>\n",
       "    <tr>\n",
       "      <th>1</th>\n",
       "      <td>4646</td>\n",
       "      <td>Stephen</td>\n",
       "      <td>Dudley</td>\n",
       "      <td>stephendudley@example.net</td>\n",
       "      <td>60</td>\n",
       "      <td>M</td>\n",
       "      <td>Acre</td>\n",
       "      <td>6531 Dixon Trace</td>\n",
       "      <td>69917-400</td>\n",
       "      <td>Rio Branco</td>\n",
       "      <td>Brasil</td>\n",
       "      <td>-9.945568</td>\n",
       "      <td>-67.835610</td>\n",
       "      <td>Search</td>\n",
       "      <td>2023-02-14 18:56:00 UTC</td>\n",
       "    </tr>\n",
       "    <tr>\n",
       "      <th>2</th>\n",
       "      <td>5801</td>\n",
       "      <td>David</td>\n",
       "      <td>Smith</td>\n",
       "      <td>davidsmith@example.com</td>\n",
       "      <td>38</td>\n",
       "      <td>M</td>\n",
       "      <td>Acre</td>\n",
       "      <td>403 Chris Island</td>\n",
       "      <td>69917-400</td>\n",
       "      <td>Rio Branco</td>\n",
       "      <td>Brasil</td>\n",
       "      <td>-9.945568</td>\n",
       "      <td>-67.835610</td>\n",
       "      <td>Search</td>\n",
       "      <td>2023-08-13 00:55:22.961196 UTC</td>\n",
       "    </tr>\n",
       "    <tr>\n",
       "      <th>3</th>\n",
       "      <td>22001</td>\n",
       "      <td>Timothy</td>\n",
       "      <td>Anderson</td>\n",
       "      <td>timothyanderson@example.org</td>\n",
       "      <td>14</td>\n",
       "      <td>M</td>\n",
       "      <td>Acre</td>\n",
       "      <td>494 Anna Unions Suite 031</td>\n",
       "      <td>69917-400</td>\n",
       "      <td>Rio Branco</td>\n",
       "      <td>Brasil</td>\n",
       "      <td>-9.945568</td>\n",
       "      <td>-67.835610</td>\n",
       "      <td>Search</td>\n",
       "      <td>2022-12-03 11:15:00 UTC</td>\n",
       "    </tr>\n",
       "    <tr>\n",
       "      <th>4</th>\n",
       "      <td>39207</td>\n",
       "      <td>Erik</td>\n",
       "      <td>Johnson</td>\n",
       "      <td>erikjohnson@example.net</td>\n",
       "      <td>21</td>\n",
       "      <td>M</td>\n",
       "      <td>Acre</td>\n",
       "      <td>01619 Jermaine Summit</td>\n",
       "      <td>69917-400</td>\n",
       "      <td>Rio Branco</td>\n",
       "      <td>Brasil</td>\n",
       "      <td>-9.945568</td>\n",
       "      <td>-67.835610</td>\n",
       "      <td>Search</td>\n",
       "      <td>2021-08-21 18:41:00 UTC</td>\n",
       "    </tr>\n",
       "    <tr>\n",
       "      <th>...</th>\n",
       "      <td>...</td>\n",
       "      <td>...</td>\n",
       "      <td>...</td>\n",
       "      <td>...</td>\n",
       "      <td>...</td>\n",
       "      <td>...</td>\n",
       "      <td>...</td>\n",
       "      <td>...</td>\n",
       "      <td>...</td>\n",
       "      <td>...</td>\n",
       "      <td>...</td>\n",
       "      <td>...</td>\n",
       "      <td>...</td>\n",
       "      <td>...</td>\n",
       "      <td>...</td>\n",
       "    </tr>\n",
       "    <tr>\n",
       "      <th>99995</th>\n",
       "      <td>56240</td>\n",
       "      <td>Jill</td>\n",
       "      <td>Williams</td>\n",
       "      <td>jillwilliams@example.com</td>\n",
       "      <td>42</td>\n",
       "      <td>F</td>\n",
       "      <td>Jeju Special Self-Governing Province</td>\n",
       "      <td>59475 Gordon Lane</td>\n",
       "      <td>699-920</td>\n",
       "      <td>Seogwipo City</td>\n",
       "      <td>South Korea</td>\n",
       "      <td>33.280208</td>\n",
       "      <td>126.346231</td>\n",
       "      <td>Organic</td>\n",
       "      <td>2020-03-09 16:54:00 UTC</td>\n",
       "    </tr>\n",
       "    <tr>\n",
       "      <th>99996</th>\n",
       "      <td>25529</td>\n",
       "      <td>Gary</td>\n",
       "      <td>Bush</td>\n",
       "      <td>garybush@example.net</td>\n",
       "      <td>70</td>\n",
       "      <td>M</td>\n",
       "      <td>Jeju Special Self-Governing Province</td>\n",
       "      <td>786 Jason Cliff</td>\n",
       "      <td>699-930</td>\n",
       "      <td>Seogwipo City</td>\n",
       "      <td>South Korea</td>\n",
       "      <td>33.220465</td>\n",
       "      <td>126.237860</td>\n",
       "      <td>Facebook</td>\n",
       "      <td>2022-08-25 05:13:00 UTC</td>\n",
       "    </tr>\n",
       "    <tr>\n",
       "      <th>99997</th>\n",
       "      <td>34753</td>\n",
       "      <td>Christine</td>\n",
       "      <td>Villa</td>\n",
       "      <td>christinevilla@example.org</td>\n",
       "      <td>37</td>\n",
       "      <td>F</td>\n",
       "      <td>Jeju Special Self-Governing Province</td>\n",
       "      <td>2904 Joseph Center</td>\n",
       "      <td>699-930</td>\n",
       "      <td>Seogwipo City</td>\n",
       "      <td>South Korea</td>\n",
       "      <td>33.220465</td>\n",
       "      <td>126.237860</td>\n",
       "      <td>Search</td>\n",
       "      <td>2021-05-20 17:21:00 UTC</td>\n",
       "    </tr>\n",
       "    <tr>\n",
       "      <th>99998</th>\n",
       "      <td>41849</td>\n",
       "      <td>Jennifer</td>\n",
       "      <td>Perez</td>\n",
       "      <td>jenniferperez@example.org</td>\n",
       "      <td>70</td>\n",
       "      <td>F</td>\n",
       "      <td>Jeju Special Self-Governing Province</td>\n",
       "      <td>499 Jack Knolls</td>\n",
       "      <td>699-930</td>\n",
       "      <td>Seogwipo City</td>\n",
       "      <td>South Korea</td>\n",
       "      <td>33.220465</td>\n",
       "      <td>126.237860</td>\n",
       "      <td>Search</td>\n",
       "      <td>2019-12-23 04:58:00 UTC</td>\n",
       "    </tr>\n",
       "    <tr>\n",
       "      <th>99999</th>\n",
       "      <td>67772</td>\n",
       "      <td>Justin</td>\n",
       "      <td>Ramirez</td>\n",
       "      <td>justinramirez@example.net</td>\n",
       "      <td>30</td>\n",
       "      <td>M</td>\n",
       "      <td>Jeju Special Self-Governing Province</td>\n",
       "      <td>78251 Emily Freeway</td>\n",
       "      <td>699-940</td>\n",
       "      <td>Seogwipo City</td>\n",
       "      <td>South Korea</td>\n",
       "      <td>33.305744</td>\n",
       "      <td>126.675429</td>\n",
       "      <td>Search</td>\n",
       "      <td>2021-02-24 05:48:00 UTC</td>\n",
       "    </tr>\n",
       "  </tbody>\n",
       "</table>\n",
       "<p>100000 rows × 15 columns</p>\n",
       "</div>"
      ],
      "text/plain": [
       "          id first_name last_name                        email  age gender  \\\n",
       "0      40112     Robert    Martin     robertmartin@example.com   41      M   \n",
       "1       4646    Stephen    Dudley    stephendudley@example.net   60      M   \n",
       "2       5801      David     Smith       davidsmith@example.com   38      M   \n",
       "3      22001    Timothy  Anderson  timothyanderson@example.org   14      M   \n",
       "4      39207       Erik   Johnson      erikjohnson@example.net   21      M   \n",
       "...      ...        ...       ...                          ...  ...    ...   \n",
       "99995  56240       Jill  Williams     jillwilliams@example.com   42      F   \n",
       "99996  25529       Gary      Bush         garybush@example.net   70      M   \n",
       "99997  34753  Christine     Villa   christinevilla@example.org   37      F   \n",
       "99998  41849   Jennifer     Perez    jenniferperez@example.org   70      F   \n",
       "99999  67772     Justin   Ramirez    justinramirez@example.net   30      M   \n",
       "\n",
       "                                      state              street_address  \\\n",
       "0                                       Mie  8560 Paul Station Apt. 589   \n",
       "1                                      Acre            6531 Dixon Trace   \n",
       "2                                      Acre            403 Chris Island   \n",
       "3                                      Acre   494 Anna Unions Suite 031   \n",
       "4                                      Acre       01619 Jermaine Summit   \n",
       "...                                     ...                         ...   \n",
       "99995  Jeju Special Self-Governing Province           59475 Gordon Lane   \n",
       "99996  Jeju Special Self-Governing Province             786 Jason Cliff   \n",
       "99997  Jeju Special Self-Governing Province          2904 Joseph Center   \n",
       "99998  Jeju Special Self-Governing Province             499 Jack Knolls   \n",
       "99999  Jeju Special Self-Governing Province         78251 Emily Freeway   \n",
       "\n",
       "      postal_code           city      country   latitude   longitude  \\\n",
       "0        513-0836    Suzuka City        Japan  34.851814  136.508713   \n",
       "1       69917-400     Rio Branco       Brasil  -9.945568  -67.835610   \n",
       "2       69917-400     Rio Branco       Brasil  -9.945568  -67.835610   \n",
       "3       69917-400     Rio Branco       Brasil  -9.945568  -67.835610   \n",
       "4       69917-400     Rio Branco       Brasil  -9.945568  -67.835610   \n",
       "...           ...            ...          ...        ...         ...   \n",
       "99995     699-920  Seogwipo City  South Korea  33.280208  126.346231   \n",
       "99996     699-930  Seogwipo City  South Korea  33.220465  126.237860   \n",
       "99997     699-930  Seogwipo City  South Korea  33.220465  126.237860   \n",
       "99998     699-930  Seogwipo City  South Korea  33.220465  126.237860   \n",
       "99999     699-940  Seogwipo City  South Korea  33.305744  126.675429   \n",
       "\n",
       "      traffic_source                      created_at  \n",
       "0             Search         2019-03-01 01:22:00 UTC  \n",
       "1             Search         2023-02-14 18:56:00 UTC  \n",
       "2             Search  2023-08-13 00:55:22.961196 UTC  \n",
       "3             Search         2022-12-03 11:15:00 UTC  \n",
       "4             Search         2021-08-21 18:41:00 UTC  \n",
       "...              ...                             ...  \n",
       "99995        Organic         2020-03-09 16:54:00 UTC  \n",
       "99996       Facebook         2022-08-25 05:13:00 UTC  \n",
       "99997         Search         2021-05-20 17:21:00 UTC  \n",
       "99998         Search         2019-12-23 04:58:00 UTC  \n",
       "99999         Search         2021-02-24 05:48:00 UTC  \n",
       "\n",
       "[100000 rows x 15 columns]"
      ]
     },
     "execution_count": 6,
     "metadata": {},
     "output_type": "execute_result"
    }
   ],
   "source": [
    "db.sql('SELECT * FROM user_df').df()"
   ]
  },
  {
   "cell_type": "code",
   "execution_count": 9,
   "metadata": {},
   "outputs": [],
   "source": [
    "def query(sql_query):\n",
    "    return db.sql(sql_query).df()"
   ]
  },
  {
   "cell_type": "code",
   "execution_count": 10,
   "metadata": {},
   "outputs": [
    {
     "data": {
      "text/html": [
       "<div>\n",
       "<style scoped>\n",
       "    .dataframe tbody tr th:only-of-type {\n",
       "        vertical-align: middle;\n",
       "    }\n",
       "\n",
       "    .dataframe tbody tr th {\n",
       "        vertical-align: top;\n",
       "    }\n",
       "\n",
       "    .dataframe thead th {\n",
       "        text-align: right;\n",
       "    }\n",
       "</style>\n",
       "<table border=\"1\" class=\"dataframe\">\n",
       "  <thead>\n",
       "    <tr style=\"text-align: right;\">\n",
       "      <th></th>\n",
       "      <th>id</th>\n",
       "      <th>first_name</th>\n",
       "      <th>last_name</th>\n",
       "      <th>email</th>\n",
       "      <th>age</th>\n",
       "      <th>gender</th>\n",
       "      <th>state</th>\n",
       "      <th>street_address</th>\n",
       "      <th>postal_code</th>\n",
       "      <th>city</th>\n",
       "      <th>country</th>\n",
       "      <th>latitude</th>\n",
       "      <th>longitude</th>\n",
       "      <th>traffic_source</th>\n",
       "      <th>created_at</th>\n",
       "    </tr>\n",
       "  </thead>\n",
       "  <tbody>\n",
       "    <tr>\n",
       "      <th>0</th>\n",
       "      <td>40112</td>\n",
       "      <td>Robert</td>\n",
       "      <td>Martin</td>\n",
       "      <td>robertmartin@example.com</td>\n",
       "      <td>41</td>\n",
       "      <td>M</td>\n",
       "      <td>Mie</td>\n",
       "      <td>8560 Paul Station Apt. 589</td>\n",
       "      <td>513-0836</td>\n",
       "      <td>Suzuka City</td>\n",
       "      <td>Japan</td>\n",
       "      <td>34.851814</td>\n",
       "      <td>136.508713</td>\n",
       "      <td>Search</td>\n",
       "      <td>2019-03-01 01:22:00 UTC</td>\n",
       "    </tr>\n",
       "    <tr>\n",
       "      <th>1</th>\n",
       "      <td>4646</td>\n",
       "      <td>Stephen</td>\n",
       "      <td>Dudley</td>\n",
       "      <td>stephendudley@example.net</td>\n",
       "      <td>60</td>\n",
       "      <td>M</td>\n",
       "      <td>Acre</td>\n",
       "      <td>6531 Dixon Trace</td>\n",
       "      <td>69917-400</td>\n",
       "      <td>Rio Branco</td>\n",
       "      <td>Brasil</td>\n",
       "      <td>-9.945568</td>\n",
       "      <td>-67.835610</td>\n",
       "      <td>Search</td>\n",
       "      <td>2023-02-14 18:56:00 UTC</td>\n",
       "    </tr>\n",
       "    <tr>\n",
       "      <th>2</th>\n",
       "      <td>5801</td>\n",
       "      <td>David</td>\n",
       "      <td>Smith</td>\n",
       "      <td>davidsmith@example.com</td>\n",
       "      <td>38</td>\n",
       "      <td>M</td>\n",
       "      <td>Acre</td>\n",
       "      <td>403 Chris Island</td>\n",
       "      <td>69917-400</td>\n",
       "      <td>Rio Branco</td>\n",
       "      <td>Brasil</td>\n",
       "      <td>-9.945568</td>\n",
       "      <td>-67.835610</td>\n",
       "      <td>Search</td>\n",
       "      <td>2023-08-13 00:55:22.961196 UTC</td>\n",
       "    </tr>\n",
       "    <tr>\n",
       "      <th>3</th>\n",
       "      <td>22001</td>\n",
       "      <td>Timothy</td>\n",
       "      <td>Anderson</td>\n",
       "      <td>timothyanderson@example.org</td>\n",
       "      <td>14</td>\n",
       "      <td>M</td>\n",
       "      <td>Acre</td>\n",
       "      <td>494 Anna Unions Suite 031</td>\n",
       "      <td>69917-400</td>\n",
       "      <td>Rio Branco</td>\n",
       "      <td>Brasil</td>\n",
       "      <td>-9.945568</td>\n",
       "      <td>-67.835610</td>\n",
       "      <td>Search</td>\n",
       "      <td>2022-12-03 11:15:00 UTC</td>\n",
       "    </tr>\n",
       "    <tr>\n",
       "      <th>4</th>\n",
       "      <td>39207</td>\n",
       "      <td>Erik</td>\n",
       "      <td>Johnson</td>\n",
       "      <td>erikjohnson@example.net</td>\n",
       "      <td>21</td>\n",
       "      <td>M</td>\n",
       "      <td>Acre</td>\n",
       "      <td>01619 Jermaine Summit</td>\n",
       "      <td>69917-400</td>\n",
       "      <td>Rio Branco</td>\n",
       "      <td>Brasil</td>\n",
       "      <td>-9.945568</td>\n",
       "      <td>-67.835610</td>\n",
       "      <td>Search</td>\n",
       "      <td>2021-08-21 18:41:00 UTC</td>\n",
       "    </tr>\n",
       "  </tbody>\n",
       "</table>\n",
       "</div>"
      ],
      "text/plain": [
       "      id first_name last_name                        email  age gender state  \\\n",
       "0  40112     Robert    Martin     robertmartin@example.com   41      M   Mie   \n",
       "1   4646    Stephen    Dudley    stephendudley@example.net   60      M  Acre   \n",
       "2   5801      David     Smith       davidsmith@example.com   38      M  Acre   \n",
       "3  22001    Timothy  Anderson  timothyanderson@example.org   14      M  Acre   \n",
       "4  39207       Erik   Johnson      erikjohnson@example.net   21      M  Acre   \n",
       "\n",
       "               street_address postal_code         city country   latitude  \\\n",
       "0  8560 Paul Station Apt. 589    513-0836  Suzuka City   Japan  34.851814   \n",
       "1            6531 Dixon Trace   69917-400   Rio Branco  Brasil  -9.945568   \n",
       "2            403 Chris Island   69917-400   Rio Branco  Brasil  -9.945568   \n",
       "3   494 Anna Unions Suite 031   69917-400   Rio Branco  Brasil  -9.945568   \n",
       "4       01619 Jermaine Summit   69917-400   Rio Branco  Brasil  -9.945568   \n",
       "\n",
       "    longitude traffic_source                      created_at  \n",
       "0  136.508713         Search         2019-03-01 01:22:00 UTC  \n",
       "1  -67.835610         Search         2023-02-14 18:56:00 UTC  \n",
       "2  -67.835610         Search  2023-08-13 00:55:22.961196 UTC  \n",
       "3  -67.835610         Search         2022-12-03 11:15:00 UTC  \n",
       "4  -67.835610         Search         2021-08-21 18:41:00 UTC  "
      ]
     },
     "execution_count": 10,
     "metadata": {},
     "output_type": "execute_result"
    }
   ],
   "source": [
    "male_users = query(\"SELECT * FROM user_df WHERE gender = 'M'\")\n",
    "male_users.head()"
   ]
  },
  {
   "cell_type": "code",
   "execution_count": 11,
   "metadata": {},
   "outputs": [
    {
     "data": {
      "text/html": [
       "<div>\n",
       "<style scoped>\n",
       "    .dataframe tbody tr th:only-of-type {\n",
       "        vertical-align: middle;\n",
       "    }\n",
       "\n",
       "    .dataframe tbody tr th {\n",
       "        vertical-align: top;\n",
       "    }\n",
       "\n",
       "    .dataframe thead th {\n",
       "        text-align: right;\n",
       "    }\n",
       "</style>\n",
       "<table border=\"1\" class=\"dataframe\">\n",
       "  <thead>\n",
       "    <tr style=\"text-align: right;\">\n",
       "      <th></th>\n",
       "      <th>gender</th>\n",
       "      <th>total</th>\n",
       "    </tr>\n",
       "  </thead>\n",
       "  <tbody>\n",
       "    <tr>\n",
       "      <th>0</th>\n",
       "      <td>M</td>\n",
       "      <td>49856</td>\n",
       "    </tr>\n",
       "    <tr>\n",
       "      <th>1</th>\n",
       "      <td>F</td>\n",
       "      <td>50144</td>\n",
       "    </tr>\n",
       "  </tbody>\n",
       "</table>\n",
       "</div>"
      ],
      "text/plain": [
       "  gender  total\n",
       "0      M  49856\n",
       "1      F  50144"
      ]
     },
     "execution_count": 11,
     "metadata": {},
     "output_type": "execute_result"
    }
   ],
   "source": [
    "user_gender = query(\"SELECT gender, COUNT(id) as total FROM user_df GROUP by gender\")\n",
    "user_gender"
   ]
  },
  {
   "cell_type": "code",
   "execution_count": 12,
   "metadata": {},
   "outputs": [
    {
     "data": {
      "text/html": [
       "<div>\n",
       "<style scoped>\n",
       "    .dataframe tbody tr th:only-of-type {\n",
       "        vertical-align: middle;\n",
       "    }\n",
       "\n",
       "    .dataframe tbody tr th {\n",
       "        vertical-align: top;\n",
       "    }\n",
       "\n",
       "    .dataframe thead th {\n",
       "        text-align: right;\n",
       "    }\n",
       "</style>\n",
       "<table border=\"1\" class=\"dataframe\">\n",
       "  <thead>\n",
       "    <tr style=\"text-align: right;\">\n",
       "      <th></th>\n",
       "      <th>gender</th>\n",
       "      <th>total</th>\n",
       "    </tr>\n",
       "  </thead>\n",
       "  <tbody>\n",
       "    <tr>\n",
       "      <th>0</th>\n",
       "      <td>F</td>\n",
       "      <td>50144</td>\n",
       "    </tr>\n",
       "  </tbody>\n",
       "</table>\n",
       "</div>"
      ],
      "text/plain": [
       "  gender  total\n",
       "0      F  50144"
      ]
     },
     "execution_count": 12,
     "metadata": {},
     "output_type": "execute_result"
    }
   ],
   "source": [
    "total_female = query(\n",
    "    \"\"\" \n",
    "        SELECT gender,\n",
    "        COUNT(id) as total FROM user_df\n",
    "        GROUP by gender HAVING gender = 'F'\n",
    "    \"\"\"\n",
    ")\n",
    "total_female"
   ]
  },
  {
   "cell_type": "code",
   "execution_count": 13,
   "metadata": {},
   "outputs": [
    {
     "data": {
      "text/html": [
       "<div>\n",
       "<style scoped>\n",
       "    .dataframe tbody tr th:only-of-type {\n",
       "        vertical-align: middle;\n",
       "    }\n",
       "\n",
       "    .dataframe tbody tr th {\n",
       "        vertical-align: top;\n",
       "    }\n",
       "\n",
       "    .dataframe thead th {\n",
       "        text-align: right;\n",
       "    }\n",
       "</style>\n",
       "<table border=\"1\" class=\"dataframe\">\n",
       "  <thead>\n",
       "    <tr style=\"text-align: right;\">\n",
       "      <th></th>\n",
       "      <th>id</th>\n",
       "      <th>order_id</th>\n",
       "      <th>user_id</th>\n",
       "      <th>product_id</th>\n",
       "      <th>inventory_item_id</th>\n",
       "      <th>status</th>\n",
       "      <th>created_at</th>\n",
       "      <th>shipped_at</th>\n",
       "      <th>delivered_at</th>\n",
       "      <th>returned_at</th>\n",
       "      <th>sale_price</th>\n",
       "    </tr>\n",
       "  </thead>\n",
       "  <tbody>\n",
       "    <tr>\n",
       "      <th>0</th>\n",
       "      <td>16000</td>\n",
       "      <td>10975</td>\n",
       "      <td>8831</td>\n",
       "      <td>13606</td>\n",
       "      <td>43216</td>\n",
       "      <td>Complete</td>\n",
       "      <td>2020-09-14 17:59:04 UTC</td>\n",
       "      <td>2020-09-16 12:05:00 UTC</td>\n",
       "      <td>2020-09-17 21:47:00 UTC</td>\n",
       "      <td>NaN</td>\n",
       "      <td>2.5</td>\n",
       "    </tr>\n",
       "    <tr>\n",
       "      <th>1</th>\n",
       "      <td>58903</td>\n",
       "      <td>40591</td>\n",
       "      <td>32637</td>\n",
       "      <td>13606</td>\n",
       "      <td>159361</td>\n",
       "      <td>Complete</td>\n",
       "      <td>2023-07-26 06:59:00 UTC</td>\n",
       "      <td>2023-07-28 07:38:00 UTC</td>\n",
       "      <td>2023-08-01 06:03:00 UTC</td>\n",
       "      <td>NaN</td>\n",
       "      <td>2.5</td>\n",
       "    </tr>\n",
       "    <tr>\n",
       "      <th>2</th>\n",
       "      <td>160715</td>\n",
       "      <td>110826</td>\n",
       "      <td>88857</td>\n",
       "      <td>13606</td>\n",
       "      <td>434265</td>\n",
       "      <td>Returned</td>\n",
       "      <td>2023-07-11 05:19:49 UTC</td>\n",
       "      <td>2023-07-12 13:45:00 UTC</td>\n",
       "      <td>2023-07-12 21:41:00 UTC</td>\n",
       "      <td>2023-07-13 21:15:00 UTC</td>\n",
       "      <td>2.5</td>\n",
       "    </tr>\n",
       "    <tr>\n",
       "      <th>3</th>\n",
       "      <td>40331</td>\n",
       "      <td>27796</td>\n",
       "      <td>22443</td>\n",
       "      <td>28951</td>\n",
       "      <td>109154</td>\n",
       "      <td>Shipped</td>\n",
       "      <td>2023-06-01 17:44:45 UTC</td>\n",
       "      <td>2023-06-04 17:26:00 UTC</td>\n",
       "      <td>NaN</td>\n",
       "      <td>NaN</td>\n",
       "      <td>3.0</td>\n",
       "    </tr>\n",
       "    <tr>\n",
       "      <th>4</th>\n",
       "      <td>83959</td>\n",
       "      <td>57928</td>\n",
       "      <td>46609</td>\n",
       "      <td>28951</td>\n",
       "      <td>227036</td>\n",
       "      <td>Shipped</td>\n",
       "      <td>2023-06-28 05:57:34 UTC</td>\n",
       "      <td>2023-06-29 16:56:00 UTC</td>\n",
       "      <td>NaN</td>\n",
       "      <td>NaN</td>\n",
       "      <td>3.0</td>\n",
       "    </tr>\n",
       "  </tbody>\n",
       "</table>\n",
       "</div>"
      ],
      "text/plain": [
       "       id  order_id  user_id  product_id  inventory_item_id    status  \\\n",
       "0   16000     10975     8831       13606              43216  Complete   \n",
       "1   58903     40591    32637       13606             159361  Complete   \n",
       "2  160715    110826    88857       13606             434265  Returned   \n",
       "3   40331     27796    22443       28951             109154   Shipped   \n",
       "4   83959     57928    46609       28951             227036   Shipped   \n",
       "\n",
       "                created_at               shipped_at             delivered_at  \\\n",
       "0  2020-09-14 17:59:04 UTC  2020-09-16 12:05:00 UTC  2020-09-17 21:47:00 UTC   \n",
       "1  2023-07-26 06:59:00 UTC  2023-07-28 07:38:00 UTC  2023-08-01 06:03:00 UTC   \n",
       "2  2023-07-11 05:19:49 UTC  2023-07-12 13:45:00 UTC  2023-07-12 21:41:00 UTC   \n",
       "3  2023-06-01 17:44:45 UTC  2023-06-04 17:26:00 UTC                      NaN   \n",
       "4  2023-06-28 05:57:34 UTC  2023-06-29 16:56:00 UTC                      NaN   \n",
       "\n",
       "               returned_at  sale_price  \n",
       "0                      NaN         2.5  \n",
       "1                      NaN         2.5  \n",
       "2  2023-07-13 21:15:00 UTC         2.5  \n",
       "3                      NaN         3.0  \n",
       "4                      NaN         3.0  "
      ]
     },
     "execution_count": 13,
     "metadata": {},
     "output_type": "execute_result"
    }
   ],
   "source": [
    "orders_df.head()"
   ]
  },
  {
   "cell_type": "code",
   "execution_count": 14,
   "metadata": {},
   "outputs": [
    {
     "data": {
      "text/html": [
       "<div>\n",
       "<style scoped>\n",
       "    .dataframe tbody tr th:only-of-type {\n",
       "        vertical-align: middle;\n",
       "    }\n",
       "\n",
       "    .dataframe tbody tr th {\n",
       "        vertical-align: top;\n",
       "    }\n",
       "\n",
       "    .dataframe thead th {\n",
       "        text-align: right;\n",
       "    }\n",
       "</style>\n",
       "<table border=\"1\" class=\"dataframe\">\n",
       "  <thead>\n",
       "    <tr style=\"text-align: right;\">\n",
       "      <th></th>\n",
       "      <th>id</th>\n",
       "      <th>order_id</th>\n",
       "      <th>user_id</th>\n",
       "      <th>status</th>\n",
       "    </tr>\n",
       "  </thead>\n",
       "  <tbody>\n",
       "    <tr>\n",
       "      <th>0</th>\n",
       "      <td>14858</td>\n",
       "      <td>10174</td>\n",
       "      <td>8188</td>\n",
       "      <td>Complete</td>\n",
       "    </tr>\n",
       "    <tr>\n",
       "      <th>1</th>\n",
       "      <td>15162</td>\n",
       "      <td>10390</td>\n",
       "      <td>8346</td>\n",
       "      <td>Complete</td>\n",
       "    </tr>\n",
       "    <tr>\n",
       "      <th>2</th>\n",
       "      <td>15641</td>\n",
       "      <td>10730</td>\n",
       "      <td>8630</td>\n",
       "      <td>Complete</td>\n",
       "    </tr>\n",
       "    <tr>\n",
       "      <th>3</th>\n",
       "      <td>16895</td>\n",
       "      <td>11601</td>\n",
       "      <td>9339</td>\n",
       "      <td>Complete</td>\n",
       "    </tr>\n",
       "    <tr>\n",
       "      <th>4</th>\n",
       "      <td>21356</td>\n",
       "      <td>14679</td>\n",
       "      <td>11804</td>\n",
       "      <td>Complete</td>\n",
       "    </tr>\n",
       "  </tbody>\n",
       "</table>\n",
       "</div>"
      ],
      "text/plain": [
       "      id  order_id  user_id    status\n",
       "0  14858     10174     8188  Complete\n",
       "1  15162     10390     8346  Complete\n",
       "2  15641     10730     8630  Complete\n",
       "3  16895     11601     9339  Complete\n",
       "4  21356     14679    11804  Complete"
      ]
     },
     "execution_count": 14,
     "metadata": {},
     "output_type": "execute_result"
    }
   ],
   "source": [
    "user_orders_df = query(\n",
    "    \"\"\"\n",
    "        SELECT * FROM orders_df\n",
    "        JOIN user_df ON orders_df.user_id = user_df.id \n",
    "    \"\"\"\n",
    ")\n",
    "user_orders_df[['id','order_id','user_id','status']].head()"
   ]
  },
  {
   "cell_type": "code",
   "execution_count": 15,
   "metadata": {},
   "outputs": [
    {
     "data": {
      "text/html": [
       "<div>\n",
       "<style scoped>\n",
       "    .dataframe tbody tr th:only-of-type {\n",
       "        vertical-align: middle;\n",
       "    }\n",
       "\n",
       "    .dataframe tbody tr th {\n",
       "        vertical-align: top;\n",
       "    }\n",
       "\n",
       "    .dataframe thead th {\n",
       "        text-align: right;\n",
       "    }\n",
       "</style>\n",
       "<table border=\"1\" class=\"dataframe\">\n",
       "  <thead>\n",
       "    <tr style=\"text-align: right;\">\n",
       "      <th></th>\n",
       "      <th>id</th>\n",
       "      <th>order_id</th>\n",
       "      <th>user_id</th>\n",
       "      <th>product_id</th>\n",
       "      <th>inventory_item_id</th>\n",
       "      <th>status</th>\n",
       "      <th>created_at</th>\n",
       "      <th>shipped_at</th>\n",
       "      <th>delivered_at</th>\n",
       "      <th>returned_at</th>\n",
       "      <th>...</th>\n",
       "      <th>gender</th>\n",
       "      <th>state</th>\n",
       "      <th>street_address</th>\n",
       "      <th>postal_code</th>\n",
       "      <th>city</th>\n",
       "      <th>country</th>\n",
       "      <th>latitude</th>\n",
       "      <th>longitude</th>\n",
       "      <th>traffic_source</th>\n",
       "      <th>created_at_2</th>\n",
       "    </tr>\n",
       "  </thead>\n",
       "  <tbody>\n",
       "    <tr>\n",
       "      <th>180976</th>\n",
       "      <td>NaN</td>\n",
       "      <td>NaN</td>\n",
       "      <td>NaN</td>\n",
       "      <td>NaN</td>\n",
       "      <td>NaN</td>\n",
       "      <td>None</td>\n",
       "      <td>None</td>\n",
       "      <td>None</td>\n",
       "      <td>None</td>\n",
       "      <td>None</td>\n",
       "      <td>...</td>\n",
       "      <td>M</td>\n",
       "      <td>Acre</td>\n",
       "      <td>189 Spencer Drive</td>\n",
       "      <td>69970-000</td>\n",
       "      <td>Tarauacá</td>\n",
       "      <td>Brasil</td>\n",
       "      <td>-8.325245</td>\n",
       "      <td>-71.553030</td>\n",
       "      <td>Search</td>\n",
       "      <td>2019-11-25 17:36:00 UTC</td>\n",
       "    </tr>\n",
       "    <tr>\n",
       "      <th>180977</th>\n",
       "      <td>NaN</td>\n",
       "      <td>NaN</td>\n",
       "      <td>NaN</td>\n",
       "      <td>NaN</td>\n",
       "      <td>NaN</td>\n",
       "      <td>None</td>\n",
       "      <td>None</td>\n",
       "      <td>None</td>\n",
       "      <td>None</td>\n",
       "      <td>None</td>\n",
       "      <td>...</td>\n",
       "      <td>F</td>\n",
       "      <td>Gifu</td>\n",
       "      <td>6946 Sylvia Trail Apt. 378</td>\n",
       "      <td>509-0206</td>\n",
       "      <td>Visa city</td>\n",
       "      <td>Japan</td>\n",
       "      <td>35.424763</td>\n",
       "      <td>137.015274</td>\n",
       "      <td>Search</td>\n",
       "      <td>2019-04-06 14:04:00 UTC</td>\n",
       "    </tr>\n",
       "    <tr>\n",
       "      <th>180978</th>\n",
       "      <td>NaN</td>\n",
       "      <td>NaN</td>\n",
       "      <td>NaN</td>\n",
       "      <td>NaN</td>\n",
       "      <td>NaN</td>\n",
       "      <td>None</td>\n",
       "      <td>None</td>\n",
       "      <td>None</td>\n",
       "      <td>None</td>\n",
       "      <td>None</td>\n",
       "      <td>...</td>\n",
       "      <td>M</td>\n",
       "      <td>Iowa</td>\n",
       "      <td>0426 Taylor Lane Suite 306</td>\n",
       "      <td>50315</td>\n",
       "      <td>Des Moines</td>\n",
       "      <td>United States</td>\n",
       "      <td>41.544232</td>\n",
       "      <td>-93.620228</td>\n",
       "      <td>Search</td>\n",
       "      <td>2023-01-05 17:28:00 UTC</td>\n",
       "    </tr>\n",
       "    <tr>\n",
       "      <th>180979</th>\n",
       "      <td>NaN</td>\n",
       "      <td>NaN</td>\n",
       "      <td>NaN</td>\n",
       "      <td>NaN</td>\n",
       "      <td>NaN</td>\n",
       "      <td>None</td>\n",
       "      <td>None</td>\n",
       "      <td>None</td>\n",
       "      <td>None</td>\n",
       "      <td>None</td>\n",
       "      <td>...</td>\n",
       "      <td>F</td>\n",
       "      <td>Iowa</td>\n",
       "      <td>20888 Martin Courts</td>\n",
       "      <td>50613</td>\n",
       "      <td>Cedar Falls</td>\n",
       "      <td>United States</td>\n",
       "      <td>42.530587</td>\n",
       "      <td>-92.493777</td>\n",
       "      <td>Search</td>\n",
       "      <td>2021-07-23 16:25:00 UTC</td>\n",
       "    </tr>\n",
       "    <tr>\n",
       "      <th>180980</th>\n",
       "      <td>NaN</td>\n",
       "      <td>NaN</td>\n",
       "      <td>NaN</td>\n",
       "      <td>NaN</td>\n",
       "      <td>NaN</td>\n",
       "      <td>None</td>\n",
       "      <td>None</td>\n",
       "      <td>None</td>\n",
       "      <td>None</td>\n",
       "      <td>None</td>\n",
       "      <td>...</td>\n",
       "      <td>M</td>\n",
       "      <td>Iowa</td>\n",
       "      <td>087 Berry Circles Suite 458</td>\n",
       "      <td>50613</td>\n",
       "      <td>Cedar Falls</td>\n",
       "      <td>United States</td>\n",
       "      <td>42.530587</td>\n",
       "      <td>-92.493777</td>\n",
       "      <td>Search</td>\n",
       "      <td>2021-05-31 02:51:00 UTC</td>\n",
       "    </tr>\n",
       "  </tbody>\n",
       "</table>\n",
       "<p>5 rows × 26 columns</p>\n",
       "</div>"
      ],
      "text/plain": [
       "        id  order_id  user_id  product_id  inventory_item_id status  \\\n",
       "180976 NaN       NaN      NaN         NaN                NaN   None   \n",
       "180977 NaN       NaN      NaN         NaN                NaN   None   \n",
       "180978 NaN       NaN      NaN         NaN                NaN   None   \n",
       "180979 NaN       NaN      NaN         NaN                NaN   None   \n",
       "180980 NaN       NaN      NaN         NaN                NaN   None   \n",
       "\n",
       "       created_at shipped_at delivered_at returned_at  ...  gender  state  \\\n",
       "180976       None       None         None        None  ...       M   Acre   \n",
       "180977       None       None         None        None  ...       F   Gifu   \n",
       "180978       None       None         None        None  ...       M   Iowa   \n",
       "180979       None       None         None        None  ...       F   Iowa   \n",
       "180980       None       None         None        None  ...       M   Iowa   \n",
       "\n",
       "                     street_address postal_code         city        country  \\\n",
       "180976            189 Spencer Drive   69970-000     Tarauacá         Brasil   \n",
       "180977   6946 Sylvia Trail Apt. 378    509-0206    Visa city          Japan   \n",
       "180978   0426 Taylor Lane Suite 306       50315   Des Moines  United States   \n",
       "180979          20888 Martin Courts       50613  Cedar Falls  United States   \n",
       "180980  087 Berry Circles Suite 458       50613  Cedar Falls  United States   \n",
       "\n",
       "         latitude   longitude traffic_source             created_at_2  \n",
       "180976  -8.325245  -71.553030         Search  2019-11-25 17:36:00 UTC  \n",
       "180977  35.424763  137.015274         Search  2019-04-06 14:04:00 UTC  \n",
       "180978  41.544232  -93.620228         Search  2023-01-05 17:28:00 UTC  \n",
       "180979  42.530587  -92.493777         Search  2021-07-23 16:25:00 UTC  \n",
       "180980  42.530587  -92.493777         Search  2021-05-31 02:51:00 UTC  \n",
       "\n",
       "[5 rows x 26 columns]"
      ]
     },
     "execution_count": 15,
     "metadata": {},
     "output_type": "execute_result"
    }
   ],
   "source": [
    "user_orders_df = query(\n",
    "    \"\"\"\n",
    "        SELECT * FROM orders_df\n",
    "        FULL JOIN user_df ON orders_df.user_id = user_df.id\n",
    "    \"\"\"\n",
    ")\n",
    "user_orders_df[user_orders_df['user_id'].isna() | user_orders_df['id'].isna()].head()"
   ]
  },
  {
   "cell_type": "code",
   "execution_count": 16,
   "metadata": {},
   "outputs": [
    {
     "data": {
      "text/html": [
       "<div>\n",
       "<style scoped>\n",
       "    .dataframe tbody tr th:only-of-type {\n",
       "        vertical-align: middle;\n",
       "    }\n",
       "\n",
       "    .dataframe tbody tr th {\n",
       "        vertical-align: top;\n",
       "    }\n",
       "\n",
       "    .dataframe thead th {\n",
       "        text-align: right;\n",
       "    }\n",
       "</style>\n",
       "<table border=\"1\" class=\"dataframe\">\n",
       "  <thead>\n",
       "    <tr style=\"text-align: right;\">\n",
       "      <th></th>\n",
       "      <th>id</th>\n",
       "      <th>order_id</th>\n",
       "      <th>user_id</th>\n",
       "      <th>product_id</th>\n",
       "      <th>inventory_item_id</th>\n",
       "      <th>status</th>\n",
       "      <th>created_at</th>\n",
       "      <th>shipped_at</th>\n",
       "      <th>delivered_at</th>\n",
       "      <th>returned_at</th>\n",
       "      <th>sale_price</th>\n",
       "    </tr>\n",
       "  </thead>\n",
       "  <tbody>\n",
       "    <tr>\n",
       "      <th>0</th>\n",
       "      <td>16000</td>\n",
       "      <td>10975</td>\n",
       "      <td>8831</td>\n",
       "      <td>13606</td>\n",
       "      <td>43216</td>\n",
       "      <td>Complete</td>\n",
       "      <td>2020-09-14 17:59:04 UTC</td>\n",
       "      <td>2020-09-16 12:05:00 UTC</td>\n",
       "      <td>2020-09-17 21:47:00 UTC</td>\n",
       "      <td>NaN</td>\n",
       "      <td>2.5</td>\n",
       "    </tr>\n",
       "    <tr>\n",
       "      <th>1</th>\n",
       "      <td>58903</td>\n",
       "      <td>40591</td>\n",
       "      <td>32637</td>\n",
       "      <td>13606</td>\n",
       "      <td>159361</td>\n",
       "      <td>Complete</td>\n",
       "      <td>2023-07-26 06:59:00 UTC</td>\n",
       "      <td>2023-07-28 07:38:00 UTC</td>\n",
       "      <td>2023-08-01 06:03:00 UTC</td>\n",
       "      <td>NaN</td>\n",
       "      <td>2.5</td>\n",
       "    </tr>\n",
       "    <tr>\n",
       "      <th>2</th>\n",
       "      <td>160715</td>\n",
       "      <td>110826</td>\n",
       "      <td>88857</td>\n",
       "      <td>13606</td>\n",
       "      <td>434265</td>\n",
       "      <td>Returned</td>\n",
       "      <td>2023-07-11 05:19:49 UTC</td>\n",
       "      <td>2023-07-12 13:45:00 UTC</td>\n",
       "      <td>2023-07-12 21:41:00 UTC</td>\n",
       "      <td>2023-07-13 21:15:00 UTC</td>\n",
       "      <td>2.5</td>\n",
       "    </tr>\n",
       "    <tr>\n",
       "      <th>3</th>\n",
       "      <td>40331</td>\n",
       "      <td>27796</td>\n",
       "      <td>22443</td>\n",
       "      <td>28951</td>\n",
       "      <td>109154</td>\n",
       "      <td>Shipped</td>\n",
       "      <td>2023-06-01 17:44:45 UTC</td>\n",
       "      <td>2023-06-04 17:26:00 UTC</td>\n",
       "      <td>NaN</td>\n",
       "      <td>NaN</td>\n",
       "      <td>3.0</td>\n",
       "    </tr>\n",
       "    <tr>\n",
       "      <th>4</th>\n",
       "      <td>83959</td>\n",
       "      <td>57928</td>\n",
       "      <td>46609</td>\n",
       "      <td>28951</td>\n",
       "      <td>227036</td>\n",
       "      <td>Shipped</td>\n",
       "      <td>2023-06-28 05:57:34 UTC</td>\n",
       "      <td>2023-06-29 16:56:00 UTC</td>\n",
       "      <td>NaN</td>\n",
       "      <td>NaN</td>\n",
       "      <td>3.0</td>\n",
       "    </tr>\n",
       "  </tbody>\n",
       "</table>\n",
       "</div>"
      ],
      "text/plain": [
       "       id  order_id  user_id  product_id  inventory_item_id    status  \\\n",
       "0   16000     10975     8831       13606              43216  Complete   \n",
       "1   58903     40591    32637       13606             159361  Complete   \n",
       "2  160715    110826    88857       13606             434265  Returned   \n",
       "3   40331     27796    22443       28951             109154   Shipped   \n",
       "4   83959     57928    46609       28951             227036   Shipped   \n",
       "\n",
       "                created_at               shipped_at             delivered_at  \\\n",
       "0  2020-09-14 17:59:04 UTC  2020-09-16 12:05:00 UTC  2020-09-17 21:47:00 UTC   \n",
       "1  2023-07-26 06:59:00 UTC  2023-07-28 07:38:00 UTC  2023-08-01 06:03:00 UTC   \n",
       "2  2023-07-11 05:19:49 UTC  2023-07-12 13:45:00 UTC  2023-07-12 21:41:00 UTC   \n",
       "3  2023-06-01 17:44:45 UTC  2023-06-04 17:26:00 UTC                      NaN   \n",
       "4  2023-06-28 05:57:34 UTC  2023-06-29 16:56:00 UTC                      NaN   \n",
       "\n",
       "               returned_at  sale_price  \n",
       "0                      NaN         2.5  \n",
       "1                      NaN         2.5  \n",
       "2  2023-07-13 21:15:00 UTC         2.5  \n",
       "3                      NaN         3.0  \n",
       "4                      NaN         3.0  "
      ]
     },
     "execution_count": 16,
     "metadata": {},
     "output_type": "execute_result"
    }
   ],
   "source": [
    "orders_df.head()"
   ]
  },
  {
   "attachments": {},
   "cell_type": "markdown",
   "metadata": {},
   "source": [
    "## How much top 10 ordered products shares in the earliest year?\n"
   ]
  },
  {
   "cell_type": "code",
   "execution_count": 17,
   "metadata": {},
   "outputs": [
    {
     "data": {
      "text/html": [
       "<div>\n",
       "<style scoped>\n",
       "    .dataframe tbody tr th:only-of-type {\n",
       "        vertical-align: middle;\n",
       "    }\n",
       "\n",
       "    .dataframe tbody tr th {\n",
       "        vertical-align: top;\n",
       "    }\n",
       "\n",
       "    .dataframe thead th {\n",
       "        text-align: right;\n",
       "    }\n",
       "</style>\n",
       "<table border=\"1\" class=\"dataframe\">\n",
       "  <thead>\n",
       "    <tr style=\"text-align: right;\">\n",
       "      <th></th>\n",
       "      <th>product_id</th>\n",
       "      <th>total_product</th>\n",
       "    </tr>\n",
       "  </thead>\n",
       "  <tbody>\n",
       "    <tr>\n",
       "      <th>0</th>\n",
       "      <td>24032</td>\n",
       "      <td>4</td>\n",
       "    </tr>\n",
       "    <tr>\n",
       "      <th>1</th>\n",
       "      <td>28031</td>\n",
       "      <td>3</td>\n",
       "    </tr>\n",
       "    <tr>\n",
       "      <th>2</th>\n",
       "      <td>27346</td>\n",
       "      <td>3</td>\n",
       "    </tr>\n",
       "    <tr>\n",
       "      <th>3</th>\n",
       "      <td>24036</td>\n",
       "      <td>3</td>\n",
       "    </tr>\n",
       "    <tr>\n",
       "      <th>4</th>\n",
       "      <td>23043</td>\n",
       "      <td>3</td>\n",
       "    </tr>\n",
       "    <tr>\n",
       "      <th>5</th>\n",
       "      <td>21378</td>\n",
       "      <td>3</td>\n",
       "    </tr>\n",
       "    <tr>\n",
       "      <th>6</th>\n",
       "      <td>20804</td>\n",
       "      <td>3</td>\n",
       "    </tr>\n",
       "    <tr>\n",
       "      <th>7</th>\n",
       "      <td>19339</td>\n",
       "      <td>3</td>\n",
       "    </tr>\n",
       "    <tr>\n",
       "      <th>8</th>\n",
       "      <td>18587</td>\n",
       "      <td>3</td>\n",
       "    </tr>\n",
       "    <tr>\n",
       "      <th>9</th>\n",
       "      <td>7052</td>\n",
       "      <td>3</td>\n",
       "    </tr>\n",
       "  </tbody>\n",
       "</table>\n",
       "</div>"
      ],
      "text/plain": [
       "   product_id  total_product\n",
       "0       24032              4\n",
       "1       28031              3\n",
       "2       27346              3\n",
       "3       24036              3\n",
       "4       23043              3\n",
       "5       21378              3\n",
       "6       20804              3\n",
       "7       19339              3\n",
       "8       18587              3\n",
       "9        7052              3"
      ]
     },
     "execution_count": 17,
     "metadata": {},
     "output_type": "execute_result"
    }
   ],
   "source": [
    "top_10_2019 = query(\n",
    "    \"\"\"\n",
    "    SELECT product_id,\n",
    "    COUNT(product_id) as total_product\n",
    "    FROM\n",
    "        (SELECT product_id, created_at[:4]::INT FROM orders_df\n",
    "        WHERE created_at[:4]::INT = 2019)\n",
    "    GROUP BY product_id\n",
    "    ORDER BY 2 DESC, 1 DESC\n",
    "    LIMIT 10\n",
    "    \"\"\"\n",
    ")\n",
    "top_10_2019"
   ]
  },
  {
   "cell_type": "code",
   "execution_count": 18,
   "metadata": {},
   "outputs": [
    {
     "data": {
      "text/html": [
       "<div>\n",
       "<style scoped>\n",
       "    .dataframe tbody tr th:only-of-type {\n",
       "        vertical-align: middle;\n",
       "    }\n",
       "\n",
       "    .dataframe tbody tr th {\n",
       "        vertical-align: top;\n",
       "    }\n",
       "\n",
       "    .dataframe thead th {\n",
       "        text-align: right;\n",
       "    }\n",
       "</style>\n",
       "<table border=\"1\" class=\"dataframe\">\n",
       "  <thead>\n",
       "    <tr style=\"text-align: right;\">\n",
       "      <th></th>\n",
       "      <th>product_id</th>\n",
       "      <th>total_product</th>\n",
       "    </tr>\n",
       "  </thead>\n",
       "  <tbody>\n",
       "    <tr>\n",
       "      <th>0</th>\n",
       "      <td>25142</td>\n",
       "      <td>6</td>\n",
       "    </tr>\n",
       "    <tr>\n",
       "      <th>1</th>\n",
       "      <td>6894</td>\n",
       "      <td>6</td>\n",
       "    </tr>\n",
       "    <tr>\n",
       "      <th>2</th>\n",
       "      <td>23981</td>\n",
       "      <td>5</td>\n",
       "    </tr>\n",
       "    <tr>\n",
       "      <th>3</th>\n",
       "      <td>23930</td>\n",
       "      <td>5</td>\n",
       "    </tr>\n",
       "    <tr>\n",
       "      <th>4</th>\n",
       "      <td>16811</td>\n",
       "      <td>5</td>\n",
       "    </tr>\n",
       "    <tr>\n",
       "      <th>5</th>\n",
       "      <td>16064</td>\n",
       "      <td>5</td>\n",
       "    </tr>\n",
       "    <tr>\n",
       "      <th>6</th>\n",
       "      <td>11009</td>\n",
       "      <td>5</td>\n",
       "    </tr>\n",
       "    <tr>\n",
       "      <th>7</th>\n",
       "      <td>7650</td>\n",
       "      <td>5</td>\n",
       "    </tr>\n",
       "    <tr>\n",
       "      <th>8</th>\n",
       "      <td>27975</td>\n",
       "      <td>4</td>\n",
       "    </tr>\n",
       "    <tr>\n",
       "      <th>9</th>\n",
       "      <td>27839</td>\n",
       "      <td>4</td>\n",
       "    </tr>\n",
       "  </tbody>\n",
       "</table>\n",
       "</div>"
      ],
      "text/plain": [
       "   product_id  total_product\n",
       "0       25142              6\n",
       "1        6894              6\n",
       "2       23981              5\n",
       "3       23930              5\n",
       "4       16811              5\n",
       "5       16064              5\n",
       "6       11009              5\n",
       "7        7650              5\n",
       "8       27975              4\n",
       "9       27839              4"
      ]
     },
     "execution_count": 18,
     "metadata": {},
     "output_type": "execute_result"
    }
   ],
   "source": [
    "top_10_2020 = query(\n",
    "    \"\"\"\n",
    "    SELECT product_id,\n",
    "    COUNT(product_id) as total_product\n",
    "    FROM\n",
    "        (SELECT product_id, created_at[:4]::INT FROM orders_df\n",
    "        WHERE created_at[:4]::INT = 2020)\n",
    "    GROUP BY product_id\n",
    "    ORDER BY 2 DESC, 1 DESC\n",
    "    LIMIT 10\n",
    "    \"\"\"\n",
    ")\n",
    "top_10_2020"
   ]
  },
  {
   "cell_type": "code",
   "execution_count": 19,
   "metadata": {},
   "outputs": [
    {
     "data": {
      "application/vnd.plotly.v1+json": {
       "config": {
        "plotlyServerURL": "https://plot.ly"
       },
       "data": [
        {
         "domain": {
          "x": [
           0,
           0.45
          ],
          "y": [
           0,
           1
          ]
         },
         "hole": 0.4,
         "hoverinfo": "label+percent+name",
         "labels": [
          24032,
          28031,
          27346,
          24036,
          23043,
          21378,
          20804,
          19339,
          18587,
          7052
         ],
         "name": "2019",
         "type": "pie",
         "values": [
          4,
          3,
          3,
          3,
          3,
          3,
          3,
          3,
          3,
          3
         ]
        },
        {
         "domain": {
          "x": [
           0.55,
           1
          ],
          "y": [
           0,
           1
          ]
         },
         "hole": 0.4,
         "hoverinfo": "label+percent+name",
         "labels": [
          25142,
          6894,
          23981,
          23930,
          16811,
          16064,
          11009,
          7650,
          27975,
          27839
         ],
         "name": "2020",
         "type": "pie",
         "values": [
          6,
          6,
          5,
          5,
          5,
          5,
          5,
          5,
          4,
          4
         ]
        }
       ],
       "layout": {
        "annotations": [
         {
          "font": {
           "size": 20
          },
          "showarrow": false,
          "text": "2019",
          "x": 0.18,
          "y": 0.5
         },
         {
          "font": {
           "size": 20
          },
          "showarrow": false,
          "text": "2020",
          "x": 0.82,
          "y": 0.5
         }
        ],
        "template": {
         "data": {
          "bar": [
           {
            "error_x": {
             "color": "#2a3f5f"
            },
            "error_y": {
             "color": "#2a3f5f"
            },
            "marker": {
             "line": {
              "color": "#E5ECF6",
              "width": 0.5
             },
             "pattern": {
              "fillmode": "overlay",
              "size": 10,
              "solidity": 0.2
             }
            },
            "type": "bar"
           }
          ],
          "barpolar": [
           {
            "marker": {
             "line": {
              "color": "#E5ECF6",
              "width": 0.5
             },
             "pattern": {
              "fillmode": "overlay",
              "size": 10,
              "solidity": 0.2
             }
            },
            "type": "barpolar"
           }
          ],
          "carpet": [
           {
            "aaxis": {
             "endlinecolor": "#2a3f5f",
             "gridcolor": "white",
             "linecolor": "white",
             "minorgridcolor": "white",
             "startlinecolor": "#2a3f5f"
            },
            "baxis": {
             "endlinecolor": "#2a3f5f",
             "gridcolor": "white",
             "linecolor": "white",
             "minorgridcolor": "white",
             "startlinecolor": "#2a3f5f"
            },
            "type": "carpet"
           }
          ],
          "choropleth": [
           {
            "colorbar": {
             "outlinewidth": 0,
             "ticks": ""
            },
            "type": "choropleth"
           }
          ],
          "contour": [
           {
            "colorbar": {
             "outlinewidth": 0,
             "ticks": ""
            },
            "colorscale": [
             [
              0,
              "#0d0887"
             ],
             [
              0.1111111111111111,
              "#46039f"
             ],
             [
              0.2222222222222222,
              "#7201a8"
             ],
             [
              0.3333333333333333,
              "#9c179e"
             ],
             [
              0.4444444444444444,
              "#bd3786"
             ],
             [
              0.5555555555555556,
              "#d8576b"
             ],
             [
              0.6666666666666666,
              "#ed7953"
             ],
             [
              0.7777777777777778,
              "#fb9f3a"
             ],
             [
              0.8888888888888888,
              "#fdca26"
             ],
             [
              1,
              "#f0f921"
             ]
            ],
            "type": "contour"
           }
          ],
          "contourcarpet": [
           {
            "colorbar": {
             "outlinewidth": 0,
             "ticks": ""
            },
            "type": "contourcarpet"
           }
          ],
          "heatmap": [
           {
            "colorbar": {
             "outlinewidth": 0,
             "ticks": ""
            },
            "colorscale": [
             [
              0,
              "#0d0887"
             ],
             [
              0.1111111111111111,
              "#46039f"
             ],
             [
              0.2222222222222222,
              "#7201a8"
             ],
             [
              0.3333333333333333,
              "#9c179e"
             ],
             [
              0.4444444444444444,
              "#bd3786"
             ],
             [
              0.5555555555555556,
              "#d8576b"
             ],
             [
              0.6666666666666666,
              "#ed7953"
             ],
             [
              0.7777777777777778,
              "#fb9f3a"
             ],
             [
              0.8888888888888888,
              "#fdca26"
             ],
             [
              1,
              "#f0f921"
             ]
            ],
            "type": "heatmap"
           }
          ],
          "heatmapgl": [
           {
            "colorbar": {
             "outlinewidth": 0,
             "ticks": ""
            },
            "colorscale": [
             [
              0,
              "#0d0887"
             ],
             [
              0.1111111111111111,
              "#46039f"
             ],
             [
              0.2222222222222222,
              "#7201a8"
             ],
             [
              0.3333333333333333,
              "#9c179e"
             ],
             [
              0.4444444444444444,
              "#bd3786"
             ],
             [
              0.5555555555555556,
              "#d8576b"
             ],
             [
              0.6666666666666666,
              "#ed7953"
             ],
             [
              0.7777777777777778,
              "#fb9f3a"
             ],
             [
              0.8888888888888888,
              "#fdca26"
             ],
             [
              1,
              "#f0f921"
             ]
            ],
            "type": "heatmapgl"
           }
          ],
          "histogram": [
           {
            "marker": {
             "pattern": {
              "fillmode": "overlay",
              "size": 10,
              "solidity": 0.2
             }
            },
            "type": "histogram"
           }
          ],
          "histogram2d": [
           {
            "colorbar": {
             "outlinewidth": 0,
             "ticks": ""
            },
            "colorscale": [
             [
              0,
              "#0d0887"
             ],
             [
              0.1111111111111111,
              "#46039f"
             ],
             [
              0.2222222222222222,
              "#7201a8"
             ],
             [
              0.3333333333333333,
              "#9c179e"
             ],
             [
              0.4444444444444444,
              "#bd3786"
             ],
             [
              0.5555555555555556,
              "#d8576b"
             ],
             [
              0.6666666666666666,
              "#ed7953"
             ],
             [
              0.7777777777777778,
              "#fb9f3a"
             ],
             [
              0.8888888888888888,
              "#fdca26"
             ],
             [
              1,
              "#f0f921"
             ]
            ],
            "type": "histogram2d"
           }
          ],
          "histogram2dcontour": [
           {
            "colorbar": {
             "outlinewidth": 0,
             "ticks": ""
            },
            "colorscale": [
             [
              0,
              "#0d0887"
             ],
             [
              0.1111111111111111,
              "#46039f"
             ],
             [
              0.2222222222222222,
              "#7201a8"
             ],
             [
              0.3333333333333333,
              "#9c179e"
             ],
             [
              0.4444444444444444,
              "#bd3786"
             ],
             [
              0.5555555555555556,
              "#d8576b"
             ],
             [
              0.6666666666666666,
              "#ed7953"
             ],
             [
              0.7777777777777778,
              "#fb9f3a"
             ],
             [
              0.8888888888888888,
              "#fdca26"
             ],
             [
              1,
              "#f0f921"
             ]
            ],
            "type": "histogram2dcontour"
           }
          ],
          "mesh3d": [
           {
            "colorbar": {
             "outlinewidth": 0,
             "ticks": ""
            },
            "type": "mesh3d"
           }
          ],
          "parcoords": [
           {
            "line": {
             "colorbar": {
              "outlinewidth": 0,
              "ticks": ""
             }
            },
            "type": "parcoords"
           }
          ],
          "pie": [
           {
            "automargin": true,
            "type": "pie"
           }
          ],
          "scatter": [
           {
            "fillpattern": {
             "fillmode": "overlay",
             "size": 10,
             "solidity": 0.2
            },
            "type": "scatter"
           }
          ],
          "scatter3d": [
           {
            "line": {
             "colorbar": {
              "outlinewidth": 0,
              "ticks": ""
             }
            },
            "marker": {
             "colorbar": {
              "outlinewidth": 0,
              "ticks": ""
             }
            },
            "type": "scatter3d"
           }
          ],
          "scattercarpet": [
           {
            "marker": {
             "colorbar": {
              "outlinewidth": 0,
              "ticks": ""
             }
            },
            "type": "scattercarpet"
           }
          ],
          "scattergeo": [
           {
            "marker": {
             "colorbar": {
              "outlinewidth": 0,
              "ticks": ""
             }
            },
            "type": "scattergeo"
           }
          ],
          "scattergl": [
           {
            "marker": {
             "colorbar": {
              "outlinewidth": 0,
              "ticks": ""
             }
            },
            "type": "scattergl"
           }
          ],
          "scattermapbox": [
           {
            "marker": {
             "colorbar": {
              "outlinewidth": 0,
              "ticks": ""
             }
            },
            "type": "scattermapbox"
           }
          ],
          "scatterpolar": [
           {
            "marker": {
             "colorbar": {
              "outlinewidth": 0,
              "ticks": ""
             }
            },
            "type": "scatterpolar"
           }
          ],
          "scatterpolargl": [
           {
            "marker": {
             "colorbar": {
              "outlinewidth": 0,
              "ticks": ""
             }
            },
            "type": "scatterpolargl"
           }
          ],
          "scatterternary": [
           {
            "marker": {
             "colorbar": {
              "outlinewidth": 0,
              "ticks": ""
             }
            },
            "type": "scatterternary"
           }
          ],
          "surface": [
           {
            "colorbar": {
             "outlinewidth": 0,
             "ticks": ""
            },
            "colorscale": [
             [
              0,
              "#0d0887"
             ],
             [
              0.1111111111111111,
              "#46039f"
             ],
             [
              0.2222222222222222,
              "#7201a8"
             ],
             [
              0.3333333333333333,
              "#9c179e"
             ],
             [
              0.4444444444444444,
              "#bd3786"
             ],
             [
              0.5555555555555556,
              "#d8576b"
             ],
             [
              0.6666666666666666,
              "#ed7953"
             ],
             [
              0.7777777777777778,
              "#fb9f3a"
             ],
             [
              0.8888888888888888,
              "#fdca26"
             ],
             [
              1,
              "#f0f921"
             ]
            ],
            "type": "surface"
           }
          ],
          "table": [
           {
            "cells": {
             "fill": {
              "color": "#EBF0F8"
             },
             "line": {
              "color": "white"
             }
            },
            "header": {
             "fill": {
              "color": "#C8D4E3"
             },
             "line": {
              "color": "white"
             }
            },
            "type": "table"
           }
          ]
         },
         "layout": {
          "annotationdefaults": {
           "arrowcolor": "#2a3f5f",
           "arrowhead": 0,
           "arrowwidth": 1
          },
          "autotypenumbers": "strict",
          "coloraxis": {
           "colorbar": {
            "outlinewidth": 0,
            "ticks": ""
           }
          },
          "colorscale": {
           "diverging": [
            [
             0,
             "#8e0152"
            ],
            [
             0.1,
             "#c51b7d"
            ],
            [
             0.2,
             "#de77ae"
            ],
            [
             0.3,
             "#f1b6da"
            ],
            [
             0.4,
             "#fde0ef"
            ],
            [
             0.5,
             "#f7f7f7"
            ],
            [
             0.6,
             "#e6f5d0"
            ],
            [
             0.7,
             "#b8e186"
            ],
            [
             0.8,
             "#7fbc41"
            ],
            [
             0.9,
             "#4d9221"
            ],
            [
             1,
             "#276419"
            ]
           ],
           "sequential": [
            [
             0,
             "#0d0887"
            ],
            [
             0.1111111111111111,
             "#46039f"
            ],
            [
             0.2222222222222222,
             "#7201a8"
            ],
            [
             0.3333333333333333,
             "#9c179e"
            ],
            [
             0.4444444444444444,
             "#bd3786"
            ],
            [
             0.5555555555555556,
             "#d8576b"
            ],
            [
             0.6666666666666666,
             "#ed7953"
            ],
            [
             0.7777777777777778,
             "#fb9f3a"
            ],
            [
             0.8888888888888888,
             "#fdca26"
            ],
            [
             1,
             "#f0f921"
            ]
           ],
           "sequentialminus": [
            [
             0,
             "#0d0887"
            ],
            [
             0.1111111111111111,
             "#46039f"
            ],
            [
             0.2222222222222222,
             "#7201a8"
            ],
            [
             0.3333333333333333,
             "#9c179e"
            ],
            [
             0.4444444444444444,
             "#bd3786"
            ],
            [
             0.5555555555555556,
             "#d8576b"
            ],
            [
             0.6666666666666666,
             "#ed7953"
            ],
            [
             0.7777777777777778,
             "#fb9f3a"
            ],
            [
             0.8888888888888888,
             "#fdca26"
            ],
            [
             1,
             "#f0f921"
            ]
           ]
          },
          "colorway": [
           "#636efa",
           "#EF553B",
           "#00cc96",
           "#ab63fa",
           "#FFA15A",
           "#19d3f3",
           "#FF6692",
           "#B6E880",
           "#FF97FF",
           "#FECB52"
          ],
          "font": {
           "color": "#2a3f5f"
          },
          "geo": {
           "bgcolor": "white",
           "lakecolor": "white",
           "landcolor": "#E5ECF6",
           "showlakes": true,
           "showland": true,
           "subunitcolor": "white"
          },
          "hoverlabel": {
           "align": "left"
          },
          "hovermode": "closest",
          "mapbox": {
           "style": "light"
          },
          "paper_bgcolor": "white",
          "plot_bgcolor": "#E5ECF6",
          "polar": {
           "angularaxis": {
            "gridcolor": "white",
            "linecolor": "white",
            "ticks": ""
           },
           "bgcolor": "#E5ECF6",
           "radialaxis": {
            "gridcolor": "white",
            "linecolor": "white",
            "ticks": ""
           }
          },
          "scene": {
           "xaxis": {
            "backgroundcolor": "#E5ECF6",
            "gridcolor": "white",
            "gridwidth": 2,
            "linecolor": "white",
            "showbackground": true,
            "ticks": "",
            "zerolinecolor": "white"
           },
           "yaxis": {
            "backgroundcolor": "#E5ECF6",
            "gridcolor": "white",
            "gridwidth": 2,
            "linecolor": "white",
            "showbackground": true,
            "ticks": "",
            "zerolinecolor": "white"
           },
           "zaxis": {
            "backgroundcolor": "#E5ECF6",
            "gridcolor": "white",
            "gridwidth": 2,
            "linecolor": "white",
            "showbackground": true,
            "ticks": "",
            "zerolinecolor": "white"
           }
          },
          "shapedefaults": {
           "line": {
            "color": "#2a3f5f"
           }
          },
          "ternary": {
           "aaxis": {
            "gridcolor": "white",
            "linecolor": "white",
            "ticks": ""
           },
           "baxis": {
            "gridcolor": "white",
            "linecolor": "white",
            "ticks": ""
           },
           "bgcolor": "#E5ECF6",
           "caxis": {
            "gridcolor": "white",
            "linecolor": "white",
            "ticks": ""
           }
          },
          "title": {
           "x": 0.05
          },
          "xaxis": {
           "automargin": true,
           "gridcolor": "white",
           "linecolor": "white",
           "ticks": "",
           "title": {
            "standoff": 15
           },
           "zerolinecolor": "white",
           "zerolinewidth": 2
          },
          "yaxis": {
           "automargin": true,
           "gridcolor": "white",
           "linecolor": "white",
           "ticks": "",
           "title": {
            "standoff": 15
           },
           "zerolinecolor": "white",
           "zerolinewidth": 2
          }
         }
        },
        "title": {
         "text": "Ordered Product Shares"
        }
       }
      }
     },
     "metadata": {},
     "output_type": "display_data"
    }
   ],
   "source": [
    "from plotly.subplots import make_subplots\n",
    "import plotly.graph_objects as go\n",
    "\n",
    "fig = make_subplots(rows=1, cols=2, specs=[[{'type':'domain'}, {'type':'domain'}]])\n",
    "\n",
    "fig.add_trace(go.Pie(labels = top_10_2019['product_id'], values= top_10_2019['total_product'], name = 2019),\n",
    "              row=1, col=1)\n",
    "\n",
    "fig.add_trace(go.Pie(labels = top_10_2020['product_id'], values= top_10_2020['total_product'], name = 2020),\n",
    "              row=1, col=2)\n",
    "\n",
    "fig.update_traces(hole = .4, hoverinfo = \"label+percent+name\")\n",
    "\n",
    "fig.update_layout(title = \"Ordered Product Shares\",\n",
    "                  annotations = [\n",
    "                    dict(text='2019', x=0.18, y=0.5, font_size=20, showarrow=False),\n",
    "                    dict(text='2020', x=0.82, y=0.5, font_size=20, showarrow=False)\n",
    "                  ])\n",
    "\n",
    "fig.show()"
   ]
  },
  {
   "cell_type": "code",
   "execution_count": 20,
   "metadata": {},
   "outputs": [
    {
     "data": {
      "text/html": [
       "<div>\n",
       "<style scoped>\n",
       "    .dataframe tbody tr th:only-of-type {\n",
       "        vertical-align: middle;\n",
       "    }\n",
       "\n",
       "    .dataframe tbody tr th {\n",
       "        vertical-align: top;\n",
       "    }\n",
       "\n",
       "    .dataframe thead th {\n",
       "        text-align: right;\n",
       "    }\n",
       "</style>\n",
       "<table border=\"1\" class=\"dataframe\">\n",
       "  <thead>\n",
       "    <tr style=\"text-align: right;\">\n",
       "      <th></th>\n",
       "      <th>id</th>\n",
       "      <th>order_id</th>\n",
       "      <th>user_id</th>\n",
       "      <th>product_id</th>\n",
       "      <th>inventory_item_id</th>\n",
       "      <th>status</th>\n",
       "      <th>created_at</th>\n",
       "      <th>shipped_at</th>\n",
       "      <th>delivered_at</th>\n",
       "      <th>returned_at</th>\n",
       "      <th>sale_price</th>\n",
       "    </tr>\n",
       "  </thead>\n",
       "  <tbody>\n",
       "    <tr>\n",
       "      <th>0</th>\n",
       "      <td>16000</td>\n",
       "      <td>10975</td>\n",
       "      <td>8831</td>\n",
       "      <td>13606</td>\n",
       "      <td>43216</td>\n",
       "      <td>Complete</td>\n",
       "      <td>2020-09-14 17:59:04 UTC</td>\n",
       "      <td>2020-09-16 12:05:00 UTC</td>\n",
       "      <td>2020-09-17 21:47:00 UTC</td>\n",
       "      <td>NaN</td>\n",
       "      <td>2.5</td>\n",
       "    </tr>\n",
       "    <tr>\n",
       "      <th>1</th>\n",
       "      <td>58903</td>\n",
       "      <td>40591</td>\n",
       "      <td>32637</td>\n",
       "      <td>13606</td>\n",
       "      <td>159361</td>\n",
       "      <td>Complete</td>\n",
       "      <td>2023-07-26 06:59:00 UTC</td>\n",
       "      <td>2023-07-28 07:38:00 UTC</td>\n",
       "      <td>2023-08-01 06:03:00 UTC</td>\n",
       "      <td>NaN</td>\n",
       "      <td>2.5</td>\n",
       "    </tr>\n",
       "    <tr>\n",
       "      <th>2</th>\n",
       "      <td>160715</td>\n",
       "      <td>110826</td>\n",
       "      <td>88857</td>\n",
       "      <td>13606</td>\n",
       "      <td>434265</td>\n",
       "      <td>Returned</td>\n",
       "      <td>2023-07-11 05:19:49 UTC</td>\n",
       "      <td>2023-07-12 13:45:00 UTC</td>\n",
       "      <td>2023-07-12 21:41:00 UTC</td>\n",
       "      <td>2023-07-13 21:15:00 UTC</td>\n",
       "      <td>2.5</td>\n",
       "    </tr>\n",
       "    <tr>\n",
       "      <th>3</th>\n",
       "      <td>40331</td>\n",
       "      <td>27796</td>\n",
       "      <td>22443</td>\n",
       "      <td>28951</td>\n",
       "      <td>109154</td>\n",
       "      <td>Shipped</td>\n",
       "      <td>2023-06-01 17:44:45 UTC</td>\n",
       "      <td>2023-06-04 17:26:00 UTC</td>\n",
       "      <td>NaN</td>\n",
       "      <td>NaN</td>\n",
       "      <td>3.0</td>\n",
       "    </tr>\n",
       "    <tr>\n",
       "      <th>4</th>\n",
       "      <td>83959</td>\n",
       "      <td>57928</td>\n",
       "      <td>46609</td>\n",
       "      <td>28951</td>\n",
       "      <td>227036</td>\n",
       "      <td>Shipped</td>\n",
       "      <td>2023-06-28 05:57:34 UTC</td>\n",
       "      <td>2023-06-29 16:56:00 UTC</td>\n",
       "      <td>NaN</td>\n",
       "      <td>NaN</td>\n",
       "      <td>3.0</td>\n",
       "    </tr>\n",
       "  </tbody>\n",
       "</table>\n",
       "</div>"
      ],
      "text/plain": [
       "       id  order_id  user_id  product_id  inventory_item_id    status  \\\n",
       "0   16000     10975     8831       13606              43216  Complete   \n",
       "1   58903     40591    32637       13606             159361  Complete   \n",
       "2  160715    110826    88857       13606             434265  Returned   \n",
       "3   40331     27796    22443       28951             109154   Shipped   \n",
       "4   83959     57928    46609       28951             227036   Shipped   \n",
       "\n",
       "                created_at               shipped_at             delivered_at  \\\n",
       "0  2020-09-14 17:59:04 UTC  2020-09-16 12:05:00 UTC  2020-09-17 21:47:00 UTC   \n",
       "1  2023-07-26 06:59:00 UTC  2023-07-28 07:38:00 UTC  2023-08-01 06:03:00 UTC   \n",
       "2  2023-07-11 05:19:49 UTC  2023-07-12 13:45:00 UTC  2023-07-12 21:41:00 UTC   \n",
       "3  2023-06-01 17:44:45 UTC  2023-06-04 17:26:00 UTC                      NaN   \n",
       "4  2023-06-28 05:57:34 UTC  2023-06-29 16:56:00 UTC                      NaN   \n",
       "\n",
       "               returned_at  sale_price  \n",
       "0                      NaN         2.5  \n",
       "1                      NaN         2.5  \n",
       "2  2023-07-13 21:15:00 UTC         2.5  \n",
       "3                      NaN         3.0  \n",
       "4                      NaN         3.0  "
      ]
     },
     "execution_count": 20,
     "metadata": {},
     "output_type": "execute_result"
    }
   ],
   "source": [
    "orders_df.head()"
   ]
  },
  {
   "cell_type": "code",
   "execution_count": 21,
   "metadata": {},
   "outputs": [
    {
     "data": {
      "text/html": [
       "<div>\n",
       "<style scoped>\n",
       "    .dataframe tbody tr th:only-of-type {\n",
       "        vertical-align: middle;\n",
       "    }\n",
       "\n",
       "    .dataframe tbody tr th {\n",
       "        vertical-align: top;\n",
       "    }\n",
       "\n",
       "    .dataframe thead th {\n",
       "        text-align: right;\n",
       "    }\n",
       "</style>\n",
       "<table border=\"1\" class=\"dataframe\">\n",
       "  <thead>\n",
       "    <tr style=\"text-align: right;\">\n",
       "      <th></th>\n",
       "      <th>id</th>\n",
       "      <th>first_name</th>\n",
       "      <th>last_name</th>\n",
       "      <th>email</th>\n",
       "      <th>age</th>\n",
       "      <th>gender</th>\n",
       "      <th>state</th>\n",
       "      <th>street_address</th>\n",
       "      <th>postal_code</th>\n",
       "      <th>city</th>\n",
       "      <th>country</th>\n",
       "      <th>latitude</th>\n",
       "      <th>longitude</th>\n",
       "      <th>traffic_source</th>\n",
       "      <th>created_at</th>\n",
       "    </tr>\n",
       "  </thead>\n",
       "  <tbody>\n",
       "    <tr>\n",
       "      <th>0</th>\n",
       "      <td>40112</td>\n",
       "      <td>Robert</td>\n",
       "      <td>Martin</td>\n",
       "      <td>robertmartin@example.com</td>\n",
       "      <td>41</td>\n",
       "      <td>M</td>\n",
       "      <td>Mie</td>\n",
       "      <td>8560 Paul Station Apt. 589</td>\n",
       "      <td>513-0836</td>\n",
       "      <td>Suzuka City</td>\n",
       "      <td>Japan</td>\n",
       "      <td>34.851814</td>\n",
       "      <td>136.508713</td>\n",
       "      <td>Search</td>\n",
       "      <td>2019-03-01 01:22:00 UTC</td>\n",
       "    </tr>\n",
       "    <tr>\n",
       "      <th>1</th>\n",
       "      <td>4646</td>\n",
       "      <td>Stephen</td>\n",
       "      <td>Dudley</td>\n",
       "      <td>stephendudley@example.net</td>\n",
       "      <td>60</td>\n",
       "      <td>M</td>\n",
       "      <td>Acre</td>\n",
       "      <td>6531 Dixon Trace</td>\n",
       "      <td>69917-400</td>\n",
       "      <td>Rio Branco</td>\n",
       "      <td>Brasil</td>\n",
       "      <td>-9.945568</td>\n",
       "      <td>-67.835610</td>\n",
       "      <td>Search</td>\n",
       "      <td>2023-02-14 18:56:00 UTC</td>\n",
       "    </tr>\n",
       "    <tr>\n",
       "      <th>2</th>\n",
       "      <td>5801</td>\n",
       "      <td>David</td>\n",
       "      <td>Smith</td>\n",
       "      <td>davidsmith@example.com</td>\n",
       "      <td>38</td>\n",
       "      <td>M</td>\n",
       "      <td>Acre</td>\n",
       "      <td>403 Chris Island</td>\n",
       "      <td>69917-400</td>\n",
       "      <td>Rio Branco</td>\n",
       "      <td>Brasil</td>\n",
       "      <td>-9.945568</td>\n",
       "      <td>-67.835610</td>\n",
       "      <td>Search</td>\n",
       "      <td>2023-08-13 00:55:22.961196 UTC</td>\n",
       "    </tr>\n",
       "    <tr>\n",
       "      <th>3</th>\n",
       "      <td>22001</td>\n",
       "      <td>Timothy</td>\n",
       "      <td>Anderson</td>\n",
       "      <td>timothyanderson@example.org</td>\n",
       "      <td>14</td>\n",
       "      <td>M</td>\n",
       "      <td>Acre</td>\n",
       "      <td>494 Anna Unions Suite 031</td>\n",
       "      <td>69917-400</td>\n",
       "      <td>Rio Branco</td>\n",
       "      <td>Brasil</td>\n",
       "      <td>-9.945568</td>\n",
       "      <td>-67.835610</td>\n",
       "      <td>Search</td>\n",
       "      <td>2022-12-03 11:15:00 UTC</td>\n",
       "    </tr>\n",
       "    <tr>\n",
       "      <th>4</th>\n",
       "      <td>39207</td>\n",
       "      <td>Erik</td>\n",
       "      <td>Johnson</td>\n",
       "      <td>erikjohnson@example.net</td>\n",
       "      <td>21</td>\n",
       "      <td>M</td>\n",
       "      <td>Acre</td>\n",
       "      <td>01619 Jermaine Summit</td>\n",
       "      <td>69917-400</td>\n",
       "      <td>Rio Branco</td>\n",
       "      <td>Brasil</td>\n",
       "      <td>-9.945568</td>\n",
       "      <td>-67.835610</td>\n",
       "      <td>Search</td>\n",
       "      <td>2021-08-21 18:41:00 UTC</td>\n",
       "    </tr>\n",
       "  </tbody>\n",
       "</table>\n",
       "</div>"
      ],
      "text/plain": [
       "      id first_name last_name                        email  age gender state  \\\n",
       "0  40112     Robert    Martin     robertmartin@example.com   41      M   Mie   \n",
       "1   4646    Stephen    Dudley    stephendudley@example.net   60      M  Acre   \n",
       "2   5801      David     Smith       davidsmith@example.com   38      M  Acre   \n",
       "3  22001    Timothy  Anderson  timothyanderson@example.org   14      M  Acre   \n",
       "4  39207       Erik   Johnson      erikjohnson@example.net   21      M  Acre   \n",
       "\n",
       "               street_address postal_code         city country   latitude  \\\n",
       "0  8560 Paul Station Apt. 589    513-0836  Suzuka City   Japan  34.851814   \n",
       "1            6531 Dixon Trace   69917-400   Rio Branco  Brasil  -9.945568   \n",
       "2            403 Chris Island   69917-400   Rio Branco  Brasil  -9.945568   \n",
       "3   494 Anna Unions Suite 031   69917-400   Rio Branco  Brasil  -9.945568   \n",
       "4       01619 Jermaine Summit   69917-400   Rio Branco  Brasil  -9.945568   \n",
       "\n",
       "    longitude traffic_source                      created_at  \n",
       "0  136.508713         Search         2019-03-01 01:22:00 UTC  \n",
       "1  -67.835610         Search         2023-02-14 18:56:00 UTC  \n",
       "2  -67.835610         Search  2023-08-13 00:55:22.961196 UTC  \n",
       "3  -67.835610         Search         2022-12-03 11:15:00 UTC  \n",
       "4  -67.835610         Search         2021-08-21 18:41:00 UTC  "
      ]
     },
     "execution_count": 21,
     "metadata": {},
     "output_type": "execute_result"
    }
   ],
   "source": [
    "user_df.head()"
   ]
  },
  {
   "attachments": {},
   "cell_type": "markdown",
   "metadata": {},
   "source": [
    "# How much the ratio of male and female in 2020’s orders history?"
   ]
  },
  {
   "cell_type": "code",
   "execution_count": 22,
   "metadata": {},
   "outputs": [
    {
     "data": {
      "text/html": [
       "<div>\n",
       "<style scoped>\n",
       "    .dataframe tbody tr th:only-of-type {\n",
       "        vertical-align: middle;\n",
       "    }\n",
       "\n",
       "    .dataframe tbody tr th {\n",
       "        vertical-align: top;\n",
       "    }\n",
       "\n",
       "    .dataframe thead th {\n",
       "        text-align: right;\n",
       "    }\n",
       "</style>\n",
       "<table border=\"1\" class=\"dataframe\">\n",
       "  <thead>\n",
       "    <tr style=\"text-align: right;\">\n",
       "      <th></th>\n",
       "      <th>year</th>\n",
       "      <th>gender</th>\n",
       "      <th>total_user</th>\n",
       "    </tr>\n",
       "  </thead>\n",
       "  <tbody>\n",
       "    <tr>\n",
       "      <th>0</th>\n",
       "      <td>2020</td>\n",
       "      <td>F</td>\n",
       "      <td>4591</td>\n",
       "    </tr>\n",
       "    <tr>\n",
       "      <th>1</th>\n",
       "      <td>2020</td>\n",
       "      <td>M</td>\n",
       "      <td>4533</td>\n",
       "    </tr>\n",
       "  </tbody>\n",
       "</table>\n",
       "</div>"
      ],
      "text/plain": [
       "   year gender  total_user\n",
       "0  2020      F        4591\n",
       "1  2020      M        4533"
      ]
     },
     "execution_count": 22,
     "metadata": {},
     "output_type": "execute_result"
    }
   ],
   "source": [
    "gender_rasio = query(\n",
    "    \"\"\"\n",
    "    SELECT\n",
    "        year,\n",
    "        gender,\n",
    "        COUNT(DISTINCT id) as total_user \n",
    "    FROM\n",
    "        (SELECT UD.id, UD.gender, OD.created_at[:4]::INT as year\n",
    "        FROM orders_df OD JOIN user_df UD ON OD.user_id = UD.id)\n",
    "    GROUP BY 1,2\n",
    "    HAVING year = 2020\n",
    "    ORDER BY 2 ASC\n",
    "    LIMIT 10\n",
    "    \"\"\"\n",
    ")\n",
    "gender_rasio.head()"
   ]
  },
  {
   "attachments": {},
   "cell_type": "markdown",
   "metadata": {},
   "source": [
    "# How much the ratio of orders created by male and female in 2020’s?"
   ]
  },
  {
   "cell_type": "code",
   "execution_count": 23,
   "metadata": {},
   "outputs": [
    {
     "data": {
      "text/html": [
       "<div>\n",
       "<style scoped>\n",
       "    .dataframe tbody tr th:only-of-type {\n",
       "        vertical-align: middle;\n",
       "    }\n",
       "\n",
       "    .dataframe tbody tr th {\n",
       "        vertical-align: top;\n",
       "    }\n",
       "\n",
       "    .dataframe thead th {\n",
       "        text-align: right;\n",
       "    }\n",
       "</style>\n",
       "<table border=\"1\" class=\"dataframe\">\n",
       "  <thead>\n",
       "    <tr style=\"text-align: right;\">\n",
       "      <th></th>\n",
       "      <th>year</th>\n",
       "      <th>gender</th>\n",
       "      <th>total_orders</th>\n",
       "    </tr>\n",
       "  </thead>\n",
       "  <tbody>\n",
       "    <tr>\n",
       "      <th>0</th>\n",
       "      <td>2020</td>\n",
       "      <td>F</td>\n",
       "      <td>7470</td>\n",
       "    </tr>\n",
       "    <tr>\n",
       "      <th>1</th>\n",
       "      <td>2020</td>\n",
       "      <td>M</td>\n",
       "      <td>7439</td>\n",
       "    </tr>\n",
       "  </tbody>\n",
       "</table>\n",
       "</div>"
      ],
      "text/plain": [
       "   year gender  total_orders\n",
       "0  2020      F          7470\n",
       "1  2020      M          7439"
      ]
     },
     "execution_count": 23,
     "metadata": {},
     "output_type": "execute_result"
    }
   ],
   "source": [
    "gender_rasio = query(\n",
    "    \"\"\"\n",
    "    SELECT\n",
    "        year,\n",
    "        gender,\n",
    "        COUNT(id) as total_orders \n",
    "    FROM\n",
    "        (SELECT OD.id, UD.gender, OD.created_at[:4]::INT as year\n",
    "        FROM orders_df OD JOIN user_df UD ON OD.user_id = UD.id)\n",
    "    GROUP BY 1,2\n",
    "    HAVING year = 2020\n",
    "    ORDER BY 2 ASC\n",
    "    LIMIT 10\n",
    "    \"\"\"\n",
    ")\n",
    "gender_rasio.head()"
   ]
  },
  {
   "attachments": {},
   "cell_type": "markdown",
   "metadata": {},
   "source": [
    "# How much the ratio of number of products ordered by male and female in 2020?"
   ]
  },
  {
   "cell_type": "code",
   "execution_count": 27,
   "metadata": {},
   "outputs": [
    {
     "data": {
      "text/html": [
       "<div>\n",
       "<style scoped>\n",
       "    .dataframe tbody tr th:only-of-type {\n",
       "        vertical-align: middle;\n",
       "    }\n",
       "\n",
       "    .dataframe tbody tr th {\n",
       "        vertical-align: top;\n",
       "    }\n",
       "\n",
       "    .dataframe thead th {\n",
       "        text-align: right;\n",
       "    }\n",
       "</style>\n",
       "<table border=\"1\" class=\"dataframe\">\n",
       "  <thead>\n",
       "    <tr style=\"text-align: right;\">\n",
       "      <th></th>\n",
       "      <th>year</th>\n",
       "      <th>gender</th>\n",
       "      <th>total_unique_product</th>\n",
       "    </tr>\n",
       "  </thead>\n",
       "  <tbody>\n",
       "    <tr>\n",
       "      <th>0</th>\n",
       "      <td>2020</td>\n",
       "      <td>F</td>\n",
       "      <td>5837</td>\n",
       "    </tr>\n",
       "    <tr>\n",
       "      <th>1</th>\n",
       "      <td>2020</td>\n",
       "      <td>M</td>\n",
       "      <td>5882</td>\n",
       "    </tr>\n",
       "  </tbody>\n",
       "</table>\n",
       "</div>"
      ],
      "text/plain": [
       "   year gender  total_unique_product\n",
       "0  2020      F                  5837\n",
       "1  2020      M                  5882"
      ]
     },
     "execution_count": 27,
     "metadata": {},
     "output_type": "execute_result"
    }
   ],
   "source": [
    "product_rasio = query(\n",
    "    \"\"\"\n",
    "    SELECT\n",
    "        year,\n",
    "        gender,\n",
    "        COUNT(DISTINCT product_id) as total_unique_product\n",
    "    FROM\n",
    "        (SELECT OD.product_id, UD.gender, OD.created_at[:4]::INT as year\n",
    "        FROM orders_df OD JOIN user_df UD ON OD.product_id = UD.id)\n",
    "    GROUP BY 1,2\n",
    "    HAVING year = 2020\n",
    "    ORDER BY 2\n",
    "    LIMIT 10\n",
    "    \"\"\"\n",
    ")\n",
    "product_rasio"
   ]
  }
 ],
 "metadata": {
  "kernelspec": {
   "display_name": "Python 3",
   "language": "python",
   "name": "python3"
  },
  "language_info": {
   "codemirror_mode": {
    "name": "ipython",
    "version": 3
   },
   "file_extension": ".py",
   "mimetype": "text/x-python",
   "name": "python",
   "nbconvert_exporter": "python",
   "pygments_lexer": "ipython3",
   "version": "3.12.1"
  },
  "orig_nbformat": 4
 },
 "nbformat": 4,
 "nbformat_minor": 2
}
