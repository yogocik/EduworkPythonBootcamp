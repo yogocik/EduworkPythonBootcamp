{
 "cells": [
  {
   "attachments": {},
   "cell_type": "markdown",
   "metadata": {},
   "source": [
    "## Switch Statement\n",
    "Saya membuat suatu contoh pengunaan switch statement terkait jadwal makan saya dalam sehari. Switch statement digunakan ketika ingin membuat beberapa kondisi yang diikuti dengan beberapa kegiatan yang berbeda."
   ]
  },
  {
   "cell_type": "code",
   "execution_count": 47,
   "metadata": {},
   "outputs": [
    {
     "name": "stdout",
     "output_type": "stream",
     "text": [
      "Waktunya makan cemilan\n"
     ]
    }
   ],
   "source": [
    "my_food_schedule = \"Sore\"\n",
    "match my_food_schedule:\n",
    "    case \"Pagi\":\n",
    "        print(\"Waktunya makan roti dan telur\")\n",
    "    case \"Siang\":\n",
    "        print(\"Waktunya makan nasi campur\")\n",
    "    case \"Sore\":\n",
    "        print(\"Waktunya makan cemilan\")\n",
    "    case \"Malam\":\n",
    "        print(\"Waktunya makan mie ayam\")\n",
    "    case _:\n",
    "        print(\"Sudah kenyang\")"
   ]
  },
  {
   "attachments": {},
   "cell_type": "markdown",
   "metadata": {},
   "source": [
    "Berdasarkan switch statement tersebut, dapat terlihat bahwa hasil yang diperoleh bergantung pada kondisi yang dipanggil dalam variabel yang digunakan. Jika kondisi nya sore, maka hasil yang akan di print adalah kegiatan pada kondisi sore hari, begitu pula dengan kondisi lainnya."
   ]
  },
  {
   "attachments": {},
   "cell_type": "markdown",
   "metadata": {},
   "source": [
    "## Exception"
   ]
  },
  {
   "cell_type": "code",
   "execution_count": 126,
   "metadata": {},
   "outputs": [
    {
     "name": "stdout",
     "output_type": "stream",
     "text": [
      "Operation failed: division by zero\n"
     ]
    }
   ],
   "source": [
    "number = 25\n",
    "number_1 = 0\n",
    "try:\n",
    "    result = number/number_1\n",
    "except ZeroDivisionError as x:\n",
    "    print(f\"Operation failed: {x}\")\n"
   ]
  },
  {
   "attachments": {},
   "cell_type": "markdown",
   "metadata": {},
   "source": [
    "## Branching"
   ]
  },
  {
   "cell_type": "code",
   "execution_count": 136,
   "metadata": {},
   "outputs": [
    {
     "name": "stdout",
     "output_type": "stream",
     "text": [
      "ini adalah tahun kabisat\n"
     ]
    }
   ],
   "source": [
    "def leap_year(year):\n",
    "    if year % 4 == 0 and year % 100 != 0 or year % 400 == 0:\n",
    "    # conditional statement di atas memiliki arti bahwa jika nilai year habis dibagi 4\n",
    "    # dan tidak habis dibagi 100 atau habis dibagi 400, maka nilai year adalah tahun kabisat\n",
    "        print(\"ini adalah tahun kabisat\")\n",
    "    else:\n",
    "        print(\"ini bukan tahun kabisat\")\n",
    "    # jika nilai year bukan tahun kabisat, maka hasil di atas yang akan di print\n",
    "leap_year(2024)"
   ]
  },
  {
   "attachments": {},
   "cell_type": "markdown",
   "metadata": {},
   "source": [
    "## Loops"
   ]
  },
  {
   "cell_type": "code",
   "execution_count": 146,
   "metadata": {},
   "outputs": [
    {
     "name": "stdout",
     "output_type": "stream",
     "text": [
      "625\n"
     ]
    }
   ],
   "source": [
    "sum_number = 0\n",
    "for num in range(1, 51):\n",
    "    if num%2 != 0:\n",
    "        sum_number += num\n",
    "\n",
    "print(sum_number)  "
   ]
  },
  {
   "attachments": {},
   "cell_type": "markdown",
   "metadata": {},
   "source": [
    "## Python Polymorphism"
   ]
  },
  {
   "cell_type": "code",
   "execution_count": 30,
   "metadata": {},
   "outputs": [],
   "source": [
    "import math"
   ]
  },
  {
   "cell_type": "code",
   "execution_count": 99,
   "metadata": {},
   "outputs": [],
   "source": [
    "class Rectangle:\n",
    "    def __init__(self, width, height):\n",
    "        self.width = width\n",
    "        self.height = height\n",
    "    \n",
    "    def calculate_area(self):\n",
    "        return self.width * self.height\n",
    "\n",
    "class Circle:\n",
    "    def __init__(self, diameter):\n",
    "        self.diameter = diameter\n",
    "        \n",
    "    def calculate_area(self):\n",
    "        return self.diameter * math.pi\n",
    "\n",
    "rectangle = Rectangle(5, 6)\n",
    "circle = Circle(7)"
   ]
  },
  {
   "attachments": {},
   "cell_type": "markdown",
   "metadata": {},
   "source": [
    "memanggil metode calculate_area dari objek yang berbeda:"
   ]
  },
  {
   "cell_type": "code",
   "execution_count": 101,
   "metadata": {},
   "outputs": [
    {
     "name": "stdout",
     "output_type": "stream",
     "text": [
      "The rectangle total area: 30\n",
      "The circle total area: 21.99\n"
     ]
    }
   ],
   "source": [
    "rectangle_area = rectangle.calculate_area()\n",
    "circle_area = circle.calculate_area()\n",
    "\n",
    "print(f\"The rectangle total area: {rectangle_area}\")\n",
    "print(f\"The circle total area: {circle_area:.2f}\")"
   ]
  },
  {
   "attachments": {},
   "cell_type": "markdown",
   "metadata": {},
   "source": [
    "## Python Inheritance"
   ]
  },
  {
   "cell_type": "code",
   "execution_count": 62,
   "metadata": {},
   "outputs": [
    {
     "name": "stdout",
     "output_type": "stream",
     "text": [
      "The Red Lamborghini dated from 2023\n",
      "The White Polygon dated from 2022\n"
     ]
    }
   ],
   "source": [
    "class Vehicle:\n",
    "    def __init__(self, model, year, color):\n",
    "        self.model = model\n",
    "        self.year = year\n",
    "        self.color = color\n",
    "\n",
    "    def print_result(self):\n",
    "        print(f\"The {self.color} {self.model} dated from {self.year}\")\n",
    "\n",
    "class Car(Vehicle):\n",
    "    def __init__(self, model, year, color):\n",
    "        super().__init__(model, year, color)\n",
    "\n",
    "class Bicycle(Vehicle):\n",
    "    def __init__(self, model, year, color):\n",
    "        super().__init__(model, year, color)\n",
    "\n",
    "car = Car(\"Lamborghini\", \"2023\", \"Red\")\n",
    "bicycle = Bicycle(\"Polygon\", \"2022\", \"White\")\n",
    "\n",
    "car.print_result()\n",
    "bicycle.print_result()"
   ]
  },
  {
   "attachments": {},
   "cell_type": "markdown",
   "metadata": {},
   "source": [
    "## Encapsulation"
   ]
  },
  {
   "cell_type": "code",
   "execution_count": 161,
   "metadata": {},
   "outputs": [
    {
     "name": "stdout",
     "output_type": "stream",
     "text": [
      "My name is Budi and i'm 21 years old boy\n"
     ]
    }
   ],
   "source": [
    "class Person:\n",
    "    def __init__(self, name, age, gender):\n",
    "        self.name = name\n",
    "        self._age = age\n",
    "        self._gender = gender\n",
    "        \n",
    "    def introduce(self):\n",
    "        print(\"My name is\",self.name, \"and i'm\" ,self._age, \"years old\", self._gender)\n",
    "\n",
    "value = Person(\"Budi\", 21, \"boy\")\n",
    "value.introduce()"
   ]
  }
 ],
 "metadata": {
  "kernelspec": {
   "display_name": "Python 3",
   "language": "python",
   "name": "python3"
  },
  "language_info": {
   "codemirror_mode": {
    "name": "ipython",
    "version": 3
   },
   "file_extension": ".py",
   "mimetype": "text/x-python",
   "name": "python",
   "nbconvert_exporter": "python",
   "pygments_lexer": "ipython3",
   "version": "3.12.0"
  },
  "orig_nbformat": 4
 },
 "nbformat": 4,
 "nbformat_minor": 2
}
