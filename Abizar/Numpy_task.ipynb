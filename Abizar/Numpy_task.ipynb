{
 "cells": [
  {
   "cell_type": "code",
   "execution_count": 2,
   "metadata": {},
   "outputs": [],
   "source": [
    "import numpy as np\n",
    "import random"
   ]
  },
  {
   "cell_type": "code",
   "execution_count": 30,
   "metadata": {},
   "outputs": [
    {
     "name": "stdout",
     "output_type": "stream",
     "text": [
      "[6 6 6 7 6]\n"
     ]
    }
   ],
   "source": [
    "# Random array 1D, 5 element\n",
    "random_array = np.random.randint(1,11,5)\n",
    "print(random_array)"
   ]
  },
  {
   "cell_type": "code",
   "execution_count": 33,
   "metadata": {},
   "outputs": [
    {
     "name": "stdout",
     "output_type": "stream",
     "text": [
      "Min: 6 Max: 7 Mean: 6.2 Total: 31\n"
     ]
    }
   ],
   "source": [
    "# Calculate total, mean, min, max values.\n",
    "print(\"Min:\", random_array.min(),\n",
    "      \"Max:\", random_array.max(), \n",
    "      \"Mean:\", random_array.mean(), \n",
    "      \"Total:\", random_array.sum())"
   ]
  },
  {
   "cell_type": "code",
   "execution_count": 69,
   "metadata": {},
   "outputs": [
    {
     "name": "stdout",
     "output_type": "stream",
     "text": [
      "a [[88 49 50]\n",
      " [30 87 18]\n",
      " [97 72 55]]\n",
      "\n",
      " b [[1 1 8]\n",
      " [7 4 1]\n",
      " [5 8 5]]\n"
     ]
    }
   ],
   "source": [
    "# 2D array random numbers size 3x3\n",
    "a = np.random.randint(1,100,size=(3,3))\n",
    "b = np.random.randint(1,10,size=(3,3))\n",
    "\n",
    "print(\"a\", a) \n",
    "      \n",
    "print(\"\\n b\", b)"
   ]
  },
  {
   "cell_type": "code",
   "execution_count": 70,
   "metadata": {},
   "outputs": [
    {
     "data": {
      "text/plain": [
       "array([[ 88,  49, 400],\n",
       "       [210, 348,  18],\n",
       "       [485, 576, 275]])"
      ]
     },
     "execution_count": 70,
     "metadata": {},
     "output_type": "execute_result"
    }
   ],
   "source": [
    "a * b"
   ]
  },
  {
   "cell_type": "code",
   "execution_count": 71,
   "metadata": {},
   "outputs": [
    {
     "data": {
      "text/plain": [
       "array([[ 89,  50,  58],\n",
       "       [ 37,  91,  19],\n",
       "       [102,  80,  60]])"
      ]
     },
     "execution_count": 71,
     "metadata": {},
     "output_type": "execute_result"
    }
   ],
   "source": [
    "a+b"
   ]
  },
  {
   "cell_type": "code",
   "execution_count": 72,
   "metadata": {},
   "outputs": [
    {
     "data": {
      "text/plain": [
       "array([[87, 48, 42],\n",
       "       [23, 83, 17],\n",
       "       [92, 64, 50]])"
      ]
     },
     "execution_count": 72,
     "metadata": {},
     "output_type": "execute_result"
    }
   ],
   "source": [
    "a-b"
   ]
  },
  {
   "cell_type": "code",
   "execution_count": 73,
   "metadata": {},
   "outputs": [
    {
     "data": {
      "text/plain": [
       "array([[88.        , 49.        ,  6.25      ],\n",
       "       [ 4.28571429, 21.75      , 18.        ],\n",
       "       [19.4       ,  9.        , 11.        ]])"
      ]
     },
     "execution_count": 73,
     "metadata": {},
     "output_type": "execute_result"
    }
   ],
   "source": [
    "a/b"
   ]
  },
  {
   "cell_type": "code",
   "execution_count": 76,
   "metadata": {},
   "outputs": [
    {
     "data": {
      "text/plain": [
       "-2213.999999999975"
      ]
     },
     "execution_count": 76,
     "metadata": {},
     "output_type": "execute_result"
    }
   ],
   "source": [
    "#Determinant of a 3x3 matrix\n",
    "np.linalg.det(a)"
   ]
  },
  {
   "cell_type": "code",
   "execution_count": 83,
   "metadata": {},
   "outputs": [
    {
     "data": {
      "text/plain": [
       "array([ 4,  3, 10,  3,  3,  6,  6,  5,  6,  2])"
      ]
     },
     "execution_count": 83,
     "metadata": {},
     "output_type": "execute_result"
    }
   ],
   "source": [
    "#create 1D array in range 1 to 10 with 10 element\n",
    "array1D =np.random.randint(1,11,10)\n",
    "array1D"
   ]
  },
  {
   "cell_type": "code",
   "execution_count": 88,
   "metadata": {},
   "outputs": [
    {
     "name": "stdout",
     "output_type": "stream",
     "text": [
      "[ 4 10  6  6  6  2]\n"
     ]
    }
   ],
   "source": [
    "# Even number\n",
    "print(array1D[array1D % 2 ==0])"
   ]
  },
  {
   "cell_type": "code",
   "execution_count": 89,
   "metadata": {},
   "outputs": [
    {
     "name": "stdout",
     "output_type": "stream",
     "text": [
      "[10  6  6  6]\n"
     ]
    }
   ],
   "source": [
    "# Array1D values > 5\n",
    "print(array1D[array1D > 5 ])"
   ]
  },
  {
   "cell_type": "code",
   "execution_count": 102,
   "metadata": {},
   "outputs": [
    {
     "data": {
      "text/plain": [
       "array([[ 6,  6,  2, 10],\n",
       "       [16, 16,  5,  1],\n",
       "       [ 7,  2,  4,  9],\n",
       "       [ 6, 14, 15,  5]])"
      ]
     },
     "execution_count": 102,
     "metadata": {},
     "output_type": "execute_result"
    }
   ],
   "source": [
    "# 2D array\n",
    "array2D = np.random.randint(1,20,size=(4,4))\n",
    "array2D"
   ]
  },
  {
   "cell_type": "code",
   "execution_count": 103,
   "metadata": {},
   "outputs": [
    {
     "data": {
      "text/plain": [
       "7.75"
      ]
     },
     "execution_count": 103,
     "metadata": {},
     "output_type": "execute_result"
    }
   ],
   "source": [
    "#mean\n",
    "array2D.mean()"
   ]
  },
  {
   "cell_type": "code",
   "execution_count": 104,
   "metadata": {},
   "outputs": [
    {
     "data": {
      "text/plain": [
       "4.905354217587146"
      ]
     },
     "execution_count": 104,
     "metadata": {},
     "output_type": "execute_result"
    }
   ],
   "source": [
    "# Standart Deviation\n",
    "np.std(array2D)"
   ]
  },
  {
   "cell_type": "code",
   "execution_count": 105,
   "metadata": {},
   "outputs": [
    {
     "data": {
      "text/plain": [
       "6.0"
      ]
     },
     "execution_count": 105,
     "metadata": {},
     "output_type": "execute_result"
    }
   ],
   "source": [
    "#Median\n",
    "np.median(array2D)"
   ]
  },
  {
   "cell_type": "code",
   "execution_count": 112,
   "metadata": {},
   "outputs": [
    {
     "data": {
      "text/plain": [
       "array([[ 1.        ,  0.59726763, -0.20702087, -0.83025565],\n",
       "       [ 0.59726763,  1.        ,  0.54770186, -0.90143345],\n",
       "       [-0.20702087,  0.54770186,  1.        , -0.37014097],\n",
       "       [-0.83025565, -0.90143345, -0.37014097,  1.        ]])"
      ]
     },
     "execution_count": 112,
     "metadata": {},
     "output_type": "execute_result"
    }
   ],
   "source": [
    "# Correlation coefficients\n",
    "np.corrcoef(array2D, rowvar=False)"
   ]
  },
  {
   "cell_type": "code",
   "execution_count": 116,
   "metadata": {},
   "outputs": [
    {
     "data": {
      "text/plain": [
       "array([0. , 0.1, 0.2, 0.3, 0.4, 0.5, 0.6, 0.7, 0.8, 0.9, 1. , 1.1, 1.2,\n",
       "       1.3, 1.4, 1.5, 1.6, 1.7, 1.8, 1.9, 2. , 2.1, 2.2, 2.3, 2.4, 2.5,\n",
       "       2.6, 2.7, 2.8, 2.9, 3. , 3.1])"
      ]
     },
     "execution_count": 116,
     "metadata": {},
     "output_type": "execute_result"
    }
   ],
   "source": [
    "# 1D array form 0 to pi, with step 0.1\n",
    "array_1D = np.arange(0, np.pi, 0.1)\n",
    "array_1D"
   ]
  },
  {
   "cell_type": "code",
   "execution_count": 124,
   "metadata": {},
   "outputs": [
    {
     "data": {
      "text/plain": [
       "array([  0.        ,   0.10033467,   0.20271004,   0.30933625,\n",
       "         0.42279322,   0.54630249,   0.68413681,   0.84228838,\n",
       "         1.02963856,   1.26015822,   1.55740772,   1.96475966,\n",
       "         2.57215162,   3.60210245,   5.79788372,  14.10141995,\n",
       "       -34.23253274,  -7.69660214,  -4.28626167,  -2.92709751,\n",
       "        -2.18503986,  -1.70984654,  -1.37382306,  -1.11921364,\n",
       "        -0.91601429,  -0.7470223 ,  -0.60159661,  -0.47272763,\n",
       "        -0.35552983,  -0.24640539,  -0.14254654,  -0.04161665])"
      ]
     },
     "execution_count": 124,
     "metadata": {},
     "output_type": "execute_result"
    }
   ],
   "source": [
    "# Tan\n",
    "tan_values = np.tan(array_1D)\n",
    "tan_values"
   ]
  },
  {
   "cell_type": "code",
   "execution_count": 125,
   "metadata": {},
   "outputs": [
    {
     "data": {
      "text/plain": [
       "array([ 1.        ,  0.99500417,  0.98006658,  0.95533649,  0.92106099,\n",
       "        0.87758256,  0.82533561,  0.76484219,  0.69670671,  0.62160997,\n",
       "        0.54030231,  0.45359612,  0.36235775,  0.26749883,  0.16996714,\n",
       "        0.0707372 , -0.02919952, -0.12884449, -0.22720209, -0.32328957,\n",
       "       -0.41614684, -0.5048461 , -0.58850112, -0.66627602, -0.73739372,\n",
       "       -0.80114362, -0.85688875, -0.90407214, -0.94222234, -0.97095817,\n",
       "       -0.9899925 , -0.99913515])"
      ]
     },
     "execution_count": 125,
     "metadata": {},
     "output_type": "execute_result"
    }
   ],
   "source": [
    "# Cos\n",
    "cos_values = np.cos(array_1D)\n",
    "cos_values"
   ]
  },
  {
   "cell_type": "code",
   "execution_count": 126,
   "metadata": {},
   "outputs": [
    {
     "data": {
      "text/plain": [
       "array([0.        , 0.09983342, 0.19866933, 0.29552021, 0.38941834,\n",
       "       0.47942554, 0.56464247, 0.64421769, 0.71735609, 0.78332691,\n",
       "       0.84147098, 0.89120736, 0.93203909, 0.96355819, 0.98544973,\n",
       "       0.99749499, 0.9995736 , 0.99166481, 0.97384763, 0.94630009,\n",
       "       0.90929743, 0.86320937, 0.8084964 , 0.74570521, 0.67546318,\n",
       "       0.59847214, 0.51550137, 0.42737988, 0.33498815, 0.23924933,\n",
       "       0.14112001, 0.04158066])"
      ]
     },
     "execution_count": 126,
     "metadata": {},
     "output_type": "execute_result"
    }
   ],
   "source": [
    "# Sin\n",
    "sin_values = np.sin(array_1D)\n",
    "sin_values"
   ]
  },
  {
   "cell_type": "code",
   "execution_count": 127,
   "metadata": {},
   "outputs": [
    {
     "data": {
      "text/plain": [
       "(0.0, 0.9995736030415051)"
      ]
     },
     "execution_count": 127,
     "metadata": {},
     "output_type": "execute_result"
    }
   ],
   "source": [
    "# Sin min and max values\n",
    "np.min(sin_values), np.max(sin_values)"
   ]
  },
  {
   "cell_type": "code",
   "execution_count": 143,
   "metadata": {},
   "outputs": [],
   "source": [
    "# Save array\n",
    "np.save('array_sin.npy', sin_values)"
   ]
  },
  {
   "cell_type": "code",
   "execution_count": 145,
   "metadata": {},
   "outputs": [
    {
     "name": "stdout",
     "output_type": "stream",
     "text": [
      "[0.         0.09983342 0.19866933 0.29552021 0.38941834 0.47942554\n",
      " 0.56464247 0.64421769 0.71735609 0.78332691 0.84147098 0.89120736\n",
      " 0.93203909 0.96355819 0.98544973 0.99749499 0.9995736  0.99166481\n",
      " 0.97384763 0.94630009 0.90929743 0.86320937 0.8084964  0.74570521\n",
      " 0.67546318 0.59847214 0.51550137 0.42737988 0.33498815 0.23924933\n",
      " 0.14112001 0.04158066]\n"
     ]
    }
   ],
   "source": [
    "# Loaded Array\n",
    "Load_arr = np.load('array_sin.npy')\n",
    "print(Load_arr)"
   ]
  }
 ],
 "metadata": {
  "kernelspec": {
   "display_name": "Python 3",
   "language": "python",
   "name": "python3"
  },
  "language_info": {
   "codemirror_mode": {
    "name": "ipython",
    "version": 3
   },
   "file_extension": ".py",
   "mimetype": "text/x-python",
   "name": "python",
   "nbconvert_exporter": "python",
   "pygments_lexer": "ipython3",
   "version": "3.12.0"
  }
 },
 "nbformat": 4,
 "nbformat_minor": 2
}
