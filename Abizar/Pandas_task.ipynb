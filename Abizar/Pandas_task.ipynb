{
 "cells": [
  {
   "cell_type": "code",
   "execution_count": 1,
   "metadata": {},
   "outputs": [],
   "source": [
    "import pandas as pd"
   ]
  },
  {
   "cell_type": "markdown",
   "metadata": {},
   "source": [
    "# Create DataFrame"
   ]
  },
  {
   "cell_type": "code",
   "execution_count": 14,
   "metadata": {},
   "outputs": [],
   "source": [
    "data = {\n",
    "    \"nama\" : [\"Ali\", \"Jerry\", \"Mukhlis\", \"Devina\", \"Rizky\", \"Asep\", \"April\", \"Ridwan\", \"Alif\", \"Helmi\",\n",
    "              \"Joseph\", \"Rinaldy\", \"Akbar\", \"Anies\", \"Yusuf\", \"Aldy\", \"Aldrian\", \"Giordy\", \"Jamal\", \"Supri\"],\n",
    "    \"usia\" : [23, 24, 45, 23, 54, 34, 24, 56, 34, 25, 21, 20, 26, 34, 27, 34, 36, 21, 34, 37],\n",
    "    \"kota\" : [\"Jakarta\", \"Bandung\", \"Medan\", \"Padang\", \"Merauke\", \"Pontianak\", \"Sumedang\", \"Ambon\", \"Lampung\", \"Garut\",\n",
    "              \"Riau\", \"Palembang\", \"Aceh\", \"Subang\", \"Cirebon\", \"Depok\", \"Bogor\", \"Pangkal Pinang\", \"Bangka Belitung\", \"Balikpapan\" ]\n",
    "            \n",
    "        }"
   ]
  },
  {
   "cell_type": "code",
   "execution_count": 15,
   "metadata": {},
   "outputs": [
    {
     "name": "stdout",
     "output_type": "stream",
     "text": [
      "       nama  usia             kota\n",
      "0       Ali    23          Jakarta\n",
      "1     Jerry    24          Bandung\n",
      "2   Mukhlis    45            Medan\n",
      "3    Devina    23           Padang\n",
      "4     Rizky    54          Merauke\n",
      "5      Asep    34        Pontianak\n",
      "6     April    24         Sumedang\n",
      "7    Ridwan    56            Ambon\n",
      "8      Alif    34          Lampung\n",
      "9     Helmi    25            Garut\n",
      "10   Joseph    21             Riau\n",
      "11  Rinaldy    20        Palembang\n",
      "12    Akbar    26             Aceh\n",
      "13    Anies    34           Subang\n",
      "14    Yusuf    27          Cirebon\n",
      "15     Aldy    34            Depok\n",
      "16  Aldrian    36            Bogor\n",
      "17   Giordy    21   Pangkal Pinang\n",
      "18    Jamal    34  Bangka Belitung\n",
      "19    Supri    37       Balikpapan\n"
     ]
    }
   ],
   "source": [
    "df = pd.DataFrame(data) #making DataFrame\n",
    "print(df)"
   ]
  },
  {
   "cell_type": "markdown",
   "metadata": {},
   "source": [
    "# Show the first five rows in 'data'"
   ]
  },
  {
   "cell_type": "code",
   "execution_count": 17,
   "metadata": {},
   "outputs": [
    {
     "data": {
      "text/html": [
       "<div>\n",
       "<style scoped>\n",
       "    .dataframe tbody tr th:only-of-type {\n",
       "        vertical-align: middle;\n",
       "    }\n",
       "\n",
       "    .dataframe tbody tr th {\n",
       "        vertical-align: top;\n",
       "    }\n",
       "\n",
       "    .dataframe thead th {\n",
       "        text-align: right;\n",
       "    }\n",
       "</style>\n",
       "<table border=\"1\" class=\"dataframe\">\n",
       "  <thead>\n",
       "    <tr style=\"text-align: right;\">\n",
       "      <th></th>\n",
       "      <th>nama</th>\n",
       "      <th>usia</th>\n",
       "      <th>kota</th>\n",
       "    </tr>\n",
       "  </thead>\n",
       "  <tbody>\n",
       "    <tr>\n",
       "      <th>0</th>\n",
       "      <td>Ali</td>\n",
       "      <td>23</td>\n",
       "      <td>Jakarta</td>\n",
       "    </tr>\n",
       "    <tr>\n",
       "      <th>1</th>\n",
       "      <td>Jerry</td>\n",
       "      <td>24</td>\n",
       "      <td>Bandung</td>\n",
       "    </tr>\n",
       "    <tr>\n",
       "      <th>2</th>\n",
       "      <td>Mukhlis</td>\n",
       "      <td>45</td>\n",
       "      <td>Medan</td>\n",
       "    </tr>\n",
       "    <tr>\n",
       "      <th>3</th>\n",
       "      <td>Devina</td>\n",
       "      <td>23</td>\n",
       "      <td>Padang</td>\n",
       "    </tr>\n",
       "    <tr>\n",
       "      <th>4</th>\n",
       "      <td>Rizky</td>\n",
       "      <td>54</td>\n",
       "      <td>Merauke</td>\n",
       "    </tr>\n",
       "  </tbody>\n",
       "</table>\n",
       "</div>"
      ],
      "text/plain": [
       "      nama  usia     kota\n",
       "0      Ali    23  Jakarta\n",
       "1    Jerry    24  Bandung\n",
       "2  Mukhlis    45    Medan\n",
       "3   Devina    23   Padang\n",
       "4    Rizky    54  Merauke"
      ]
     },
     "execution_count": 17,
     "metadata": {},
     "output_type": "execute_result"
    }
   ],
   "source": [
    "df.loc[0:4] #showing the first five rows"
   ]
  },
  {
   "cell_type": "markdown",
   "metadata": {},
   "source": [
    "# added new column 'gender', 'alamat', 'pekerjaan' in DataFrame 'data'"
   ]
  },
  {
   "cell_type": "code",
   "execution_count": 18,
   "metadata": {},
   "outputs": [],
   "source": [
    "df[\"gender\"] = [\"Male\", \"Male\", \"Male\", \"Female\", \"Male\", \"Male\", \"Female\", \"Male\", \"Male\", \"Male\",\n",
    "                \"Male\", \"Male\", \"Male\", \"Female\", \"Male\", \"Male\", \"Male\", \"Male\", \"Male\", \"Male\"]\n",
    "df[\"alamat\"] = [\"Jl. Merdeka No. 10\", \"Jl. Bahagia No. 5\", \"Jl. Jendral Sudirman No. 20\", \"Jl. Cinta No. 15\", \"Jl. Harmoni No. 30\",\n",
    "                \"Jl. Kenangan No. 25\", \"Jl. Indah No. 12\", \"Jl. Makmur No. 18\", \"Jl. Sejahtera No. 8\", \"Jl. Puncak No. 11\",\n",
    "                \"Jl. Damai No. 22\", \"Jl. Berkah No. 35\", \"Jl. Berkat No. 16\", \"Jl. Kasih No. 29\", \"Jl. Kesejahteraan No. 14\",\n",
    "                \"Jl. Ceria No. 9\", \"Jl. Bahagia No. 7\", \"Jl. Makmur No. 2\", \"Jl. Jaya No. 40\", \"Jl. Kebahagiaan No. 33\"]\n",
    "df[\"pekerjaan\"] = [\"Engineer\", \"Teacher\", \"Doctor\", \"Designer\", \"Manager\", \"Programmer\", \"Nurse\", \"CEO\", \"Artist\", \"Entrepreneur\",\n",
    "                   \"Analyst\", \"Architect\", \"Engineer\", \"Artist\", \"Accountant\", \"Doctor\", \"Manager\", \"Engineer\", \"Artist\", \"Entrepreneur\"]"
   ]
  },
  {
   "cell_type": "code",
   "execution_count": 19,
   "metadata": {},
   "outputs": [
    {
     "data": {
      "text/html": [
       "<div>\n",
       "<style scoped>\n",
       "    .dataframe tbody tr th:only-of-type {\n",
       "        vertical-align: middle;\n",
       "    }\n",
       "\n",
       "    .dataframe tbody tr th {\n",
       "        vertical-align: top;\n",
       "    }\n",
       "\n",
       "    .dataframe thead th {\n",
       "        text-align: right;\n",
       "    }\n",
       "</style>\n",
       "<table border=\"1\" class=\"dataframe\">\n",
       "  <thead>\n",
       "    <tr style=\"text-align: right;\">\n",
       "      <th></th>\n",
       "      <th>nama</th>\n",
       "      <th>usia</th>\n",
       "      <th>kota</th>\n",
       "      <th>gender</th>\n",
       "      <th>alamat</th>\n",
       "      <th>pekerjaan</th>\n",
       "    </tr>\n",
       "  </thead>\n",
       "  <tbody>\n",
       "    <tr>\n",
       "      <th>0</th>\n",
       "      <td>Ali</td>\n",
       "      <td>23</td>\n",
       "      <td>Jakarta</td>\n",
       "      <td>Male</td>\n",
       "      <td>Jl. Merdeka No. 10</td>\n",
       "      <td>Engineer</td>\n",
       "    </tr>\n",
       "    <tr>\n",
       "      <th>1</th>\n",
       "      <td>Jerry</td>\n",
       "      <td>24</td>\n",
       "      <td>Bandung</td>\n",
       "      <td>Male</td>\n",
       "      <td>Jl. Bahagia No. 5</td>\n",
       "      <td>Teacher</td>\n",
       "    </tr>\n",
       "    <tr>\n",
       "      <th>2</th>\n",
       "      <td>Mukhlis</td>\n",
       "      <td>45</td>\n",
       "      <td>Medan</td>\n",
       "      <td>Male</td>\n",
       "      <td>Jl. Jendral Sudirman No. 20</td>\n",
       "      <td>Doctor</td>\n",
       "    </tr>\n",
       "    <tr>\n",
       "      <th>3</th>\n",
       "      <td>Devina</td>\n",
       "      <td>23</td>\n",
       "      <td>Padang</td>\n",
       "      <td>Female</td>\n",
       "      <td>Jl. Cinta No. 15</td>\n",
       "      <td>Designer</td>\n",
       "    </tr>\n",
       "    <tr>\n",
       "      <th>4</th>\n",
       "      <td>Rizky</td>\n",
       "      <td>54</td>\n",
       "      <td>Merauke</td>\n",
       "      <td>Male</td>\n",
       "      <td>Jl. Harmoni No. 30</td>\n",
       "      <td>Manager</td>\n",
       "    </tr>\n",
       "  </tbody>\n",
       "</table>\n",
       "</div>"
      ],
      "text/plain": [
       "      nama  usia     kota  gender                       alamat pekerjaan\n",
       "0      Ali    23  Jakarta    Male           Jl. Merdeka No. 10  Engineer\n",
       "1    Jerry    24  Bandung    Male            Jl. Bahagia No. 5   Teacher\n",
       "2  Mukhlis    45    Medan    Male  Jl. Jendral Sudirman No. 20    Doctor\n",
       "3   Devina    23   Padang  Female             Jl. Cinta No. 15  Designer\n",
       "4    Rizky    54  Merauke    Male           Jl. Harmoni No. 30   Manager"
      ]
     },
     "execution_count": 19,
     "metadata": {},
     "output_type": "execute_result"
    }
   ],
   "source": [
    "df.head()"
   ]
  },
  {
   "cell_type": "markdown",
   "metadata": {},
   "source": [
    "# Filter 'usia' > 25"
   ]
  },
  {
   "cell_type": "code",
   "execution_count": 9,
   "metadata": {},
   "outputs": [
    {
     "data": {
      "text/html": [
       "<div>\n",
       "<style scoped>\n",
       "    .dataframe tbody tr th:only-of-type {\n",
       "        vertical-align: middle;\n",
       "    }\n",
       "\n",
       "    .dataframe tbody tr th {\n",
       "        vertical-align: top;\n",
       "    }\n",
       "\n",
       "    .dataframe thead th {\n",
       "        text-align: right;\n",
       "    }\n",
       "</style>\n",
       "<table border=\"1\" class=\"dataframe\">\n",
       "  <thead>\n",
       "    <tr style=\"text-align: right;\">\n",
       "      <th></th>\n",
       "      <th>nama</th>\n",
       "      <th>usia</th>\n",
       "      <th>kota</th>\n",
       "      <th>gender</th>\n",
       "      <th>alamat</th>\n",
       "      <th>pekerjaan</th>\n",
       "    </tr>\n",
       "  </thead>\n",
       "  <tbody>\n",
       "    <tr>\n",
       "      <th>2</th>\n",
       "      <td>Mukhlis</td>\n",
       "      <td>45</td>\n",
       "      <td>Medan</td>\n",
       "      <td>Male</td>\n",
       "      <td>Jl. Jendral Sudirman No. 20</td>\n",
       "      <td>Doctor</td>\n",
       "    </tr>\n",
       "    <tr>\n",
       "      <th>4</th>\n",
       "      <td>Rizky</td>\n",
       "      <td>54</td>\n",
       "      <td>Merauke</td>\n",
       "      <td>Male</td>\n",
       "      <td>Jl. Harmoni No. 30</td>\n",
       "      <td>Manager</td>\n",
       "    </tr>\n",
       "    <tr>\n",
       "      <th>5</th>\n",
       "      <td>Asep</td>\n",
       "      <td>34</td>\n",
       "      <td>Pontianak</td>\n",
       "      <td>Male</td>\n",
       "      <td>Jl. Kenangan No. 25</td>\n",
       "      <td>Programmer</td>\n",
       "    </tr>\n",
       "    <tr>\n",
       "      <th>7</th>\n",
       "      <td>Ridwan</td>\n",
       "      <td>56</td>\n",
       "      <td>Ambon</td>\n",
       "      <td>Male</td>\n",
       "      <td>Jl. Makmur No. 18</td>\n",
       "      <td>CEO</td>\n",
       "    </tr>\n",
       "    <tr>\n",
       "      <th>8</th>\n",
       "      <td>Alif</td>\n",
       "      <td>34</td>\n",
       "      <td>Lampung</td>\n",
       "      <td>Male</td>\n",
       "      <td>Jl. Sejahtera No. 8</td>\n",
       "      <td>Artist</td>\n",
       "    </tr>\n",
       "    <tr>\n",
       "      <th>12</th>\n",
       "      <td>Akbar</td>\n",
       "      <td>26</td>\n",
       "      <td>Aceh</td>\n",
       "      <td>Male</td>\n",
       "      <td>Jl. Berkat No. 16</td>\n",
       "      <td>Engineer</td>\n",
       "    </tr>\n",
       "    <tr>\n",
       "      <th>13</th>\n",
       "      <td>Anies</td>\n",
       "      <td>34</td>\n",
       "      <td>Subang</td>\n",
       "      <td>Female</td>\n",
       "      <td>Jl. Kasih No. 29</td>\n",
       "      <td>Artist</td>\n",
       "    </tr>\n",
       "    <tr>\n",
       "      <th>14</th>\n",
       "      <td>Yusuf</td>\n",
       "      <td>27</td>\n",
       "      <td>Cirebon</td>\n",
       "      <td>Male</td>\n",
       "      <td>Jl. Kesejahteraan No. 14</td>\n",
       "      <td>Accountant</td>\n",
       "    </tr>\n",
       "    <tr>\n",
       "      <th>15</th>\n",
       "      <td>Aldy</td>\n",
       "      <td>34</td>\n",
       "      <td>Depok</td>\n",
       "      <td>Male</td>\n",
       "      <td>Jl. Ceria No. 9</td>\n",
       "      <td>Doctor</td>\n",
       "    </tr>\n",
       "    <tr>\n",
       "      <th>16</th>\n",
       "      <td>Aldrian</td>\n",
       "      <td>36</td>\n",
       "      <td>Bogor</td>\n",
       "      <td>Male</td>\n",
       "      <td>Jl. Bahagia No. 7</td>\n",
       "      <td>Manager</td>\n",
       "    </tr>\n",
       "    <tr>\n",
       "      <th>18</th>\n",
       "      <td>Jamal</td>\n",
       "      <td>34</td>\n",
       "      <td>Bangka Belitung</td>\n",
       "      <td>Male</td>\n",
       "      <td>Jl. Jaya No. 40</td>\n",
       "      <td>Artist</td>\n",
       "    </tr>\n",
       "    <tr>\n",
       "      <th>19</th>\n",
       "      <td>Supri</td>\n",
       "      <td>37</td>\n",
       "      <td>Balikpapan</td>\n",
       "      <td>Male</td>\n",
       "      <td>Jl. Kebahagiaan No. 33</td>\n",
       "      <td>Entrepreneur</td>\n",
       "    </tr>\n",
       "  </tbody>\n",
       "</table>\n",
       "</div>"
      ],
      "text/plain": [
       "       nama  usia             kota  gender                       alamat  \\\n",
       "2   Mukhlis    45            Medan    Male  Jl. Jendral Sudirman No. 20   \n",
       "4     Rizky    54          Merauke    Male           Jl. Harmoni No. 30   \n",
       "5      Asep    34        Pontianak    Male          Jl. Kenangan No. 25   \n",
       "7    Ridwan    56            Ambon    Male            Jl. Makmur No. 18   \n",
       "8      Alif    34          Lampung    Male          Jl. Sejahtera No. 8   \n",
       "12    Akbar    26             Aceh    Male            Jl. Berkat No. 16   \n",
       "13    Anies    34           Subang  Female             Jl. Kasih No. 29   \n",
       "14    Yusuf    27          Cirebon    Male     Jl. Kesejahteraan No. 14   \n",
       "15     Aldy    34            Depok    Male              Jl. Ceria No. 9   \n",
       "16  Aldrian    36            Bogor    Male            Jl. Bahagia No. 7   \n",
       "18    Jamal    34  Bangka Belitung    Male              Jl. Jaya No. 40   \n",
       "19    Supri    37       Balikpapan    Male       Jl. Kebahagiaan No. 33   \n",
       "\n",
       "       pekerjaan  \n",
       "2         Doctor  \n",
       "4        Manager  \n",
       "5     Programmer  \n",
       "7            CEO  \n",
       "8         Artist  \n",
       "12      Engineer  \n",
       "13        Artist  \n",
       "14    Accountant  \n",
       "15        Doctor  \n",
       "16       Manager  \n",
       "18        Artist  \n",
       "19  Entrepreneur  "
      ]
     },
     "execution_count": 9,
     "metadata": {},
     "output_type": "execute_result"
    }
   ],
   "source": [
    "select = df.query(\"usia > 25\").copy()\n",
    "select"
   ]
  },
  {
   "cell_type": "markdown",
   "metadata": {},
   "source": [
    "# Filter 'data' usia > 30 and Gender == Female"
   ]
  },
  {
   "cell_type": "code",
   "execution_count": 10,
   "metadata": {},
   "outputs": [
    {
     "data": {
      "text/html": [
       "<div>\n",
       "<style scoped>\n",
       "    .dataframe tbody tr th:only-of-type {\n",
       "        vertical-align: middle;\n",
       "    }\n",
       "\n",
       "    .dataframe tbody tr th {\n",
       "        vertical-align: top;\n",
       "    }\n",
       "\n",
       "    .dataframe thead th {\n",
       "        text-align: right;\n",
       "    }\n",
       "</style>\n",
       "<table border=\"1\" class=\"dataframe\">\n",
       "  <thead>\n",
       "    <tr style=\"text-align: right;\">\n",
       "      <th></th>\n",
       "      <th>nama</th>\n",
       "      <th>usia</th>\n",
       "      <th>kota</th>\n",
       "      <th>gender</th>\n",
       "      <th>alamat</th>\n",
       "      <th>pekerjaan</th>\n",
       "    </tr>\n",
       "  </thead>\n",
       "  <tbody>\n",
       "    <tr>\n",
       "      <th>13</th>\n",
       "      <td>Anies</td>\n",
       "      <td>34</td>\n",
       "      <td>Subang</td>\n",
       "      <td>Female</td>\n",
       "      <td>Jl. Kasih No. 29</td>\n",
       "      <td>Artist</td>\n",
       "    </tr>\n",
       "  </tbody>\n",
       "</table>\n",
       "</div>"
      ],
      "text/plain": [
       "     nama  usia    kota  gender            alamat pekerjaan\n",
       "13  Anies    34  Subang  Female  Jl. Kasih No. 29    Artist"
      ]
     },
     "execution_count": 10,
     "metadata": {},
     "output_type": "execute_result"
    }
   ],
   "source": [
    "select = df[(df['usia'] > 30) & (df['gender'] == \"Female\")]\n",
    "select"
   ]
  },
  {
   "cell_type": "markdown",
   "metadata": {},
   "source": [
    "# using .loc[] and .iloc[] to access row 3 and 4 "
   ]
  },
  {
   "cell_type": "code",
   "execution_count": 11,
   "metadata": {},
   "outputs": [
    {
     "data": {
      "text/html": [
       "<div>\n",
       "<style scoped>\n",
       "    .dataframe tbody tr th:only-of-type {\n",
       "        vertical-align: middle;\n",
       "    }\n",
       "\n",
       "    .dataframe tbody tr th {\n",
       "        vertical-align: top;\n",
       "    }\n",
       "\n",
       "    .dataframe thead th {\n",
       "        text-align: right;\n",
       "    }\n",
       "</style>\n",
       "<table border=\"1\" class=\"dataframe\">\n",
       "  <thead>\n",
       "    <tr style=\"text-align: right;\">\n",
       "      <th></th>\n",
       "      <th>nama</th>\n",
       "      <th>usia</th>\n",
       "      <th>kota</th>\n",
       "      <th>gender</th>\n",
       "      <th>alamat</th>\n",
       "      <th>pekerjaan</th>\n",
       "    </tr>\n",
       "  </thead>\n",
       "  <tbody>\n",
       "    <tr>\n",
       "      <th>2</th>\n",
       "      <td>Mukhlis</td>\n",
       "      <td>45</td>\n",
       "      <td>Medan</td>\n",
       "      <td>Male</td>\n",
       "      <td>Jl. Jendral Sudirman No. 20</td>\n",
       "      <td>Doctor</td>\n",
       "    </tr>\n",
       "    <tr>\n",
       "      <th>3</th>\n",
       "      <td>Devina</td>\n",
       "      <td>23</td>\n",
       "      <td>Padang</td>\n",
       "      <td>Female</td>\n",
       "      <td>Jl. Cinta No. 15</td>\n",
       "      <td>Designer</td>\n",
       "    </tr>\n",
       "  </tbody>\n",
       "</table>\n",
       "</div>"
      ],
      "text/plain": [
       "      nama  usia    kota  gender                       alamat pekerjaan\n",
       "2  Mukhlis    45   Medan    Male  Jl. Jendral Sudirman No. 20    Doctor\n",
       "3   Devina    23  Padang  Female             Jl. Cinta No. 15  Designer"
      ]
     },
     "execution_count": 11,
     "metadata": {},
     "output_type": "execute_result"
    }
   ],
   "source": [
    "df.loc[2:3]"
   ]
  },
  {
   "cell_type": "code",
   "execution_count": 12,
   "metadata": {},
   "outputs": [
    {
     "data": {
      "text/html": [
       "<div>\n",
       "<style scoped>\n",
       "    .dataframe tbody tr th:only-of-type {\n",
       "        vertical-align: middle;\n",
       "    }\n",
       "\n",
       "    .dataframe tbody tr th {\n",
       "        vertical-align: top;\n",
       "    }\n",
       "\n",
       "    .dataframe thead th {\n",
       "        text-align: right;\n",
       "    }\n",
       "</style>\n",
       "<table border=\"1\" class=\"dataframe\">\n",
       "  <thead>\n",
       "    <tr style=\"text-align: right;\">\n",
       "      <th></th>\n",
       "      <th>nama</th>\n",
       "      <th>usia</th>\n",
       "      <th>kota</th>\n",
       "      <th>gender</th>\n",
       "      <th>alamat</th>\n",
       "      <th>pekerjaan</th>\n",
       "    </tr>\n",
       "  </thead>\n",
       "  <tbody>\n",
       "    <tr>\n",
       "      <th>2</th>\n",
       "      <td>Mukhlis</td>\n",
       "      <td>45</td>\n",
       "      <td>Medan</td>\n",
       "      <td>Male</td>\n",
       "      <td>Jl. Jendral Sudirman No. 20</td>\n",
       "      <td>Doctor</td>\n",
       "    </tr>\n",
       "    <tr>\n",
       "      <th>3</th>\n",
       "      <td>Devina</td>\n",
       "      <td>23</td>\n",
       "      <td>Padang</td>\n",
       "      <td>Female</td>\n",
       "      <td>Jl. Cinta No. 15</td>\n",
       "      <td>Designer</td>\n",
       "    </tr>\n",
       "  </tbody>\n",
       "</table>\n",
       "</div>"
      ],
      "text/plain": [
       "      nama  usia    kota  gender                       alamat pekerjaan\n",
       "2  Mukhlis    45   Medan    Male  Jl. Jendral Sudirman No. 20    Doctor\n",
       "3   Devina    23  Padang  Female             Jl. Cinta No. 15  Designer"
      ]
     },
     "execution_count": 12,
     "metadata": {},
     "output_type": "execute_result"
    }
   ],
   "source": [
    "df.iloc[2:4]"
   ]
  },
  {
   "cell_type": "markdown",
   "metadata": {},
   "source": [
    "# Sum average of 'usia' form DataFrame 'data'"
   ]
  },
  {
   "cell_type": "code",
   "execution_count": 13,
   "metadata": {},
   "outputs": [
    {
     "data": {
      "text/plain": [
       "31.6"
      ]
     },
     "execution_count": 13,
     "metadata": {},
     "output_type": "execute_result"
    }
   ],
   "source": [
    "average_usia = df[\"usia\"].mean()\n",
    "average_usia"
   ]
  },
  {
   "cell_type": "markdown",
   "metadata": {},
   "source": [
    "# Export DataFrame 'data' to .csv"
   ]
  },
  {
   "cell_type": "code",
   "execution_count": 20,
   "metadata": {},
   "outputs": [],
   "source": [
    "df.to_csv(path_or_buf=\"./data.csv\", index=False)"
   ]
  }
 ],
 "metadata": {
  "kernelspec": {
   "display_name": "Python 3",
   "language": "python",
   "name": "python3"
  },
  "language_info": {
   "codemirror_mode": {
    "name": "ipython",
    "version": 3
   },
   "file_extension": ".py",
   "mimetype": "text/x-python",
   "name": "python",
   "nbconvert_exporter": "python",
   "pygments_lexer": "ipython3",
   "version": "3.12.0"
  }
 },
 "nbformat": 4,
 "nbformat_minor": 2
}
