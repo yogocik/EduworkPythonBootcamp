{
 "cells": [
  {
   "cell_type": "markdown",
   "metadata": {},
   "source": [
    "Bagian 2: Object-Oriented Programming (OOP)\n",
    "---\n",
    "\n",
    "Buatlah dua kelas, Rectangle dan Circle, yang keduanya memiliki metode ```calculate_area()```. Implementasikan polimorfisme dengan cara memanggil metode ```calculate_area()``` pada objek yang berbeda dan tunjukkan hasilnya.\n"
   ]
  },
  {
   "cell_type": "code",
   "execution_count": 3,
   "metadata": {},
   "outputs": [
    {
     "name": "stdout",
     "output_type": "stream",
     "text": [
      "Luas dari Rectangle: 20\n",
      "Luas dari Circle: 113.09733552923255\n"
     ]
    }
   ],
   "source": [
    "import math # untuk mendapatkan nilai pi\n",
    "\n",
    "class Rectangle:\n",
    "    def __init__(self, width, height):\n",
    "        self.width = width\n",
    "        self.height = height\n",
    "\n",
    "    def calculate_area(self):\n",
    "        return self.width * self.height\n",
    "\n",
    "class Circle:\n",
    "    def __init__(self, radius):\n",
    "        self.radius = radius\n",
    "\n",
    "    def calculate_area(self):\n",
    "        return math.pi * self.radius ** 2\n",
    "\n",
    "# Buat objek dari kelas Rectangle dan Circle\n",
    "rectangle_obj = Rectangle(4, 5)\n",
    "circle_obj = Circle(6)\n",
    "\n",
    "# Panggil metode calculate_area() pada objek yang berbeda\n",
    "area_rectangle = rectangle_obj.calculate_area()\n",
    "area_circle = circle_obj.calculate_area()\n",
    "\n",
    "# Cetak hasilnya\n",
    "print(f\"Luas dari Rectangle: {area_rectangle}\")\n",
    "print(f\"Luas dari Circle: {area_circle}\")"
   ]
  }
 ],
 "metadata": {
  "kernelspec": {
   "display_name": "Python 3",
   "language": "python",
   "name": "python3"
  },
  "language_info": {
   "codemirror_mode": {
    "name": "ipython",
    "version": 3
   },
   "file_extension": ".py",
   "mimetype": "text/x-python",
   "name": "python",
   "nbconvert_exporter": "python",
   "pygments_lexer": "ipython3",
   "version": "3.12.1"
  }
 },
 "nbformat": 4,
 "nbformat_minor": 2
}
