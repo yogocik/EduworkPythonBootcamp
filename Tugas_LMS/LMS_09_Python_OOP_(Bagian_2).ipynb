{
 "cells": [
  {
   "cell_type": "markdown",
   "metadata": {},
   "source": [
    "Bagian 2: Object-Oriented Programming (OOP)\n",
    "---\n",
    "\n",
    "\n",
    "Polimorfisme\n",
    "---\n",
    "\n",
    "- Buatlah dua kelas, Rectangle dan Circle, yang keduanya memiliki metode ```calculate_area()```. Implementasikan polimorfisme dengan cara memanggil metode ```calculate_area()``` pada objek yang berbeda dan tunjukkan hasilnya.\n"
   ]
  },
  {
   "cell_type": "code",
   "execution_count": 3,
   "metadata": {},
   "outputs": [
    {
     "name": "stdout",
     "output_type": "stream",
     "text": [
      "Luas dari Rectangle: 20\n",
      "Luas dari Circle: 113.09733552923255\n"
     ]
    }
   ],
   "source": [
    "import math # untuk mendapatkan nilai pi\n",
    "\n",
    "class Rectangle:\n",
    "    def __init__(self, width, height):\n",
    "        self.width = width\n",
    "        self.height = height\n",
    "\n",
    "    def calculate_area(self):\n",
    "        return self.width * self.height\n",
    "\n",
    "class Circle:\n",
    "    def __init__(self, radius):\n",
    "        self.radius = radius\n",
    "\n",
    "    def calculate_area(self):\n",
    "        return math.pi * self.radius ** 2\n",
    "\n",
    "# Buat objek dari kelas Rectangle dan Circle\n",
    "rectangle_obj = Rectangle(4, 5)\n",
    "circle_obj = Circle(6)\n",
    "\n",
    "# Panggil metode calculate_area() pada objek yang berbeda\n",
    "area_rectangle = rectangle_obj.calculate_area()\n",
    "area_circle = circle_obj.calculate_area()\n",
    "\n",
    "# Cetak hasilnya\n",
    "print(f\"Luas dari Rectangle: {area_rectangle}\")\n",
    "print(f\"Luas dari Circle: {area_circle}\")"
   ]
  },
  {
   "cell_type": "markdown",
   "metadata": {},
   "source": [
    "Inheritance\n",
    "---\n",
    "\n",
    "- Buatlah tiga kelas: Vehicle, Car, dan Bicycle. Gunakan konsep inheritance sehingga Car dan Bicycle mewarisi sifat dan metode dari Vehicle.\n"
   ]
  },
  {
   "cell_type": "code",
   "execution_count": 4,
   "metadata": {},
   "outputs": [
    {
     "name": "stdout",
     "output_type": "stream",
     "text": [
      "Vehicle: Toyota Camry\n",
      "Type: Car, Number of Doors: 4\n",
      "\n",
      "Vehicle: Giant Defy\n",
      "Type: Bicycle, Number of Gears: 18\n"
     ]
    }
   ],
   "source": [
    "class Vehicle:\n",
    "    def __init__(self, brand, model):\n",
    "        self.brand = brand\n",
    "        self.model = model\n",
    "\n",
    "    def display_info(self):\n",
    "        print(f\"Vehicle: {self.brand} {self.model}\")\n",
    "\n",
    "class Car(Vehicle):\n",
    "    def __init__(self, brand, model, num_doors):\n",
    "        super().__init__(brand, model)\n",
    "        self.num_doors = num_doors\n",
    "\n",
    "    def display_info(self):\n",
    "        super().display_info()\n",
    "        print(f\"Type: Car, Number of Doors: {self.num_doors}\")\n",
    "\n",
    "class Bicycle(Vehicle):\n",
    "    def __init__(self, brand, model, num_gears):\n",
    "        super().__init__(brand, model)\n",
    "        self.num_gears = num_gears\n",
    "\n",
    "    def display_info(self):\n",
    "        super().display_info()\n",
    "        print(f\"Type: Bicycle, Number of Gears: {self.num_gears}\")\n",
    "\n",
    "# Membuat objek dari masing-masing kelas\n",
    "car_obj = Car(\"Toyota\", \"Camry\", 4)\n",
    "bicycle_obj = Bicycle(\"Giant\", \"Defy\", 18)\n",
    "\n",
    "# Memanggil metode display_info() pada objek yang berbeda\n",
    "car_obj.display_info()\n",
    "print()  # Menambahkan baris kosong untuk pemisah\n",
    "bicycle_obj.display_info()"
   ]
  },
  {
   "cell_type": "markdown",
   "metadata": {},
   "source": [
    "Encapsulation\n",
    "---\n",
    "\n",
    "- Implementasikan konsep encapsulation dalam sebuah kelas Person. Jadikan beberapa atribut kelas tersebut bersifat privat dan sediakan metode untuk mengakses dan mengubah nilai atribut-atribut tersebut.\n"
   ]
  },
  {
   "cell_type": "code",
   "execution_count": 5,
   "metadata": {},
   "outputs": [
    {
     "name": "stdout",
     "output_type": "stream",
     "text": [
      "Name: John Doe\n",
      "Age: 25\n",
      "Address: 123 Main Street\n",
      "\n",
      "Setelah perubahan:\n",
      "Name: Jane Doe\n",
      "Age: 30\n",
      "Address: 456 Oak Avenue\n"
     ]
    }
   ],
   "source": [
    "class Person:\n",
    "    def __init__(self, name, age, address):\n",
    "        # Atribut privat dengan awalan underscore (_)\n",
    "        self._name = name\n",
    "        self._age = age\n",
    "        self._address = address\n",
    "\n",
    "    # Metode get untuk mengakses nilai atribut privat\n",
    "    def get_name(self):\n",
    "        return self._name\n",
    "\n",
    "    def get_age(self):\n",
    "        return self._age\n",
    "\n",
    "    def get_address(self):\n",
    "        return self._address\n",
    "\n",
    "    # Metode set untuk mengubah nilai atribut privat\n",
    "    def set_name(self, name):\n",
    "        self._name = name\n",
    "\n",
    "    def set_age(self, age):\n",
    "        self._age = age\n",
    "\n",
    "    def set_address(self, address):\n",
    "        self._address = address\n",
    "\n",
    "# Membuat objek dari kelas Person\n",
    "person_obj = Person(\"John Doe\", 25, \"123 Main Street\")\n",
    "\n",
    "# Mengakses nilai atribut privat menggunakan metode get\n",
    "print(f\"Name: {person_obj.get_name()}\")\n",
    "print(f\"Age: {person_obj.get_age()}\")\n",
    "print(f\"Address: {person_obj.get_address()}\")\n",
    "\n",
    "# Mengubah nilai atribut privat menggunakan metode set\n",
    "person_obj.set_name(\"Jane Doe\")\n",
    "person_obj.set_age(30)\n",
    "person_obj.set_address(\"456 Oak Avenue\")\n",
    "\n",
    "# Mengakses nilai atribut privat yang telah diubah\n",
    "print(\"\\nSetelah perubahan:\")\n",
    "print(f\"Name: {person_obj.get_name()}\")\n",
    "print(f\"Age: {person_obj.get_age()}\")\n",
    "print(f\"Address: {person_obj.get_address()}\")"
   ]
  }
 ],
 "metadata": {
  "kernelspec": {
   "display_name": "Python 3",
   "language": "python",
   "name": "python3"
  },
  "language_info": {
   "codemirror_mode": {
    "name": "ipython",
    "version": 3
   },
   "file_extension": ".py",
   "mimetype": "text/x-python",
   "name": "python",
   "nbconvert_exporter": "python",
   "pygments_lexer": "ipython3",
   "version": "3.12.1"
  }
 },
 "nbformat": 4,
 "nbformat_minor": 2
}
