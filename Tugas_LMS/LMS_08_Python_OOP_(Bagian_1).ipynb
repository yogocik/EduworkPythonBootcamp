{
 "cells": [
  {
   "cell_type": "markdown",
   "metadata": {},
   "source": [
    "1. Bagian 1: Statements (Switch, Exception, Branching, Loops)\n",
    "- Berikan contoh penggunaan switch statement dalam Python dan jelaskan kegunaan serta cara kerjanya.\n",
    "- Buatlah sebuah fungsi yang membaca dua angka dari pengguna dan mengembalikan hasil pembagian. Tambahkan blok exception untuk menangani situasi di mana pengguna mencoba untuk membagi dengan nol.\n",
    "- Tuliskan program Python untuk menentukan apakah suatu tahun tertentu adalah tahun kabisat atau tidak. Berikan penjelasan singkat tentang konsep kondisional yang Anda gunakan.\n",
    "- Buatlah program yang menggunakan loop untuk menghitung jumlah bilangan ganjil dari 1 hingga 50.\n"
   ]
  },
  {
   "cell_type": "markdown",
   "metadata": {},
   "source": [
    "Switch statement\n",
    "---\n",
    "\n",
    "Dalam Python sebenarnya tidak ada fitur ```switch``` statement, namun Python menyediakan fitur ```match``` dan ```case``` yang mirip dengan ```switch``` statement. Fitur ini memungkinkan kita melakukan pencocokan pola (pattern matching) untuk memeriksa nilai suatu ekspresi dan menjalankan blok kode yang sesuai. Berikut di bawah ini contoh penggunaannya"
   ]
  },
  {
   "cell_type": "code",
   "execution_count": 8,
   "metadata": {},
   "outputs": [
    {
     "name": "stdout",
     "output_type": "stream",
     "text": [
      "Ini adalah case pertama\n",
      "Ini adalah case kedua\n",
      "Ini adalah case dafault\n"
     ]
    }
   ],
   "source": [
    "def switch_case(nilai_case):\n",
    "    match nilai_case: # pattern matching\n",
    "        case 'case_1': \n",
    "            return \"Ini adalah case pertama\"\n",
    "        case 'case_2':\n",
    "            return \"Ini adalah case kedua\"\n",
    "        case _:\n",
    "            return \"Ini adalah case dafault\" # output jika case sebelumnya tidak ada yang cocok\n",
    "\n",
    "print(switch_case('case_1'))\n",
    "print(switch_case('case_2'))\n",
    "print(switch_case('case_3'))"
   ]
  },
  {
   "cell_type": "markdown",
   "metadata": {},
   "source": [
    "\n",
    "Exception\n",
    "---\n",
    "\n",
    "Berikut kode program penggunaan exception pada pembagian antara 2 angka. Ketika program dijalankan makan kita akan diminta menginput 2 angka. Lalu setelah melakukan input, program akan memberikan output yaitu hasil pembagian angka pertama dibagikan angka ke-2."
   ]
  },
  {
   "cell_type": "code",
   "execution_count": 13,
   "metadata": {},
   "outputs": [
    {
     "name": "stdout",
     "output_type": "stream",
     "text": [
      "Error: Tidak dapat membagi dengan nol.\n",
      "Hasil pembagian: None\n"
     ]
    }
   ],
   "source": [
    "def pembagian():\n",
    "    try:\n",
    "        # Meminta pengguna untuk memasukkan dua angka\n",
    "        angka1 = float(input(\"Masukkan angka pertama: \"))\n",
    "        angka2 = float(input(\"Masukkan angka kedua: \"))\n",
    "\n",
    "        # Melakukan pembagian dan kembalikan hasilnya\n",
    "        hasil = angka1 / angka2\n",
    "        return hasil\n",
    "\n",
    "    except ValueError:\n",
    "        print(\"Masukkan harus berupa angka.\")\n",
    "    except ZeroDivisionError:\n",
    "        print(\"Error: Tidak dapat membagi dengan nol.\")\n",
    "    except Exception as e:\n",
    "        print(f\"Terjadi kesalahan: {e}\")\n",
    "\n",
    "# Panggil fungsi dan tangani exception\n",
    "try:\n",
    "    hasil_pembagian = pembagian()\n",
    "    print(f\"Hasil pembagian: {hasil_pembagian}\")\n",
    "\n",
    "except KeyboardInterrupt:\n",
    "    print(\"\\nProses pembagian dibatalkan oleh pengguna.\")\n",
    "except Exception as e:\n",
    "    print(f\"Terjadi kesalahan saat memproses: {e}\")"
   ]
  },
  {
   "cell_type": "markdown",
   "metadata": {},
   "source": [
    "Branching\n",
    "---\n",
    "\n",
    "Berikit di bawah ini contoh branching menggunakan ```if``` dan ```else``` untuk menentukan apakah input tahun merupakan tahun kabisat atau tidak.\n",
    "\n",
    "Ketika program dijalankan maka kita akan diminta menginput tahun, setelah dievaluasi makan program akan mengembalikan output apakah tahun tersebut adalah kabisat atau tidak.\n",
    "\n",
    "Aturan penentuan tahun kabisat :\n",
    "- Jika tahun habis dibagi oleh 4, itu adalah tahun kabisat.\n",
    "- Namun, jika tahun habis dibagi oleh 100, itu bukan tahun kabisat, kecuali...\n",
    "- Jika tahun habis dibagi oleh 400, itu tetap merupakan tahun kabisat."
   ]
  },
  {
   "cell_type": "code",
   "execution_count": 16,
   "metadata": {},
   "outputs": [
    {
     "name": "stdout",
     "output_type": "stream",
     "text": [
      "2020 adalah tahun kabisat.\n"
     ]
    }
   ],
   "source": [
    "def cek_tahun_kabisat(tahun):\n",
    "    if (tahun % 4 == 0 and tahun % 100 != 0) or (tahun % 400 == 0):\n",
    "        return True\n",
    "    else:\n",
    "        return False\n",
    "\n",
    "# Minta pengguna untuk memasukkan tahun\n",
    "tahun = int(input(\"Masukkan tahun: \"))\n",
    "\n",
    "# Cek apakah tahun tersebut adalah tahun kabisat atau tidak\n",
    "if cek_tahun_kabisat(tahun):\n",
    "    print(f\"{tahun} adalah tahun kabisat.\")\n",
    "else:\n",
    "    print(f\"{tahun} bukan tahun kabisat.\")"
   ]
  },
  {
   "cell_type": "markdown",
   "metadata": {},
   "source": [
    "Looping\n",
    "---"
   ]
  },
  {
   "cell_type": "code",
   "execution_count": 1,
   "metadata": {},
   "outputs": [
    {
     "name": "stdout",
     "output_type": "stream",
     "text": [
      "Jumlah bilangan ganjil dari 1 hingga 50 adalah: 625\n"
     ]
    }
   ],
   "source": [
    "# Inisialisasi variabel untuk menyimpan jumlah bilangan ganjil\n",
    "jumlah_ganjil = 0\n",
    "\n",
    "# Loop untuk menghitung jumlah bilangan ganjil dari 1 hingga 50\n",
    "for i in range(1, 51, 2): # start(1), stop(51), step(2)\n",
    "    jumlah_ganjil += i\n",
    "\n",
    "# Cetak hasil\n",
    "print(f\"Jumlah bilangan ganjil dari 1 hingga 50 adalah: {jumlah_ganjil}\")"
   ]
  }
 ],
 "metadata": {
  "kernelspec": {
   "display_name": "Python 3",
   "language": "python",
   "name": "python3"
  },
  "language_info": {
   "codemirror_mode": {
    "name": "ipython",
    "version": 3
   },
   "file_extension": ".py",
   "mimetype": "text/x-python",
   "name": "python",
   "nbconvert_exporter": "python",
   "pygments_lexer": "ipython3",
   "version": "3.12.1"
  }
 },
 "nbformat": 4,
 "nbformat_minor": 2
}
