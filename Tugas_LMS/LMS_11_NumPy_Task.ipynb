{
 "cells": [
  {
   "cell_type": "markdown",
   "metadata": {},
   "source": [
    "Soal Teori :\n",
    "---\n",
    "\n",
    "__1. Langkah-langkah untuk menginstal NumPy di environment Python :__\n",
    "\n",
    "- Pastikan pip sudah terinstal dengan menjalankan kode di bawah ini."
   ]
  },
  {
   "cell_type": "code",
   "execution_count": null,
   "metadata": {},
   "outputs": [],
   "source": [
    "!pip --version"
   ]
  },
  {
   "cell_type": "markdown",
   "metadata": {},
   "source": [
    "- Kemudian instal NumPy dengan menjalankan kode berikut."
   ]
  },
  {
   "cell_type": "code",
   "execution_count": null,
   "metadata": {},
   "outputs": [],
   "source": [
    "!pip install numpy"
   ]
  },
  {
   "cell_type": "markdown",
   "metadata": {},
   "source": [
    "- Apabila sudah terinstal, kita dapa cek versi dengan menjalankan kode berikut."
   ]
  },
  {
   "cell_type": "code",
   "execution_count": null,
   "metadata": {},
   "outputs": [],
   "source": [
    "import numpy as np\n",
    "print(np.__version__)"
   ]
  },
  {
   "cell_type": "markdown",
   "metadata": {},
   "source": [
    "__2. Perintah untuk instal NumPy menggunakan pip :__\n",
    "\n",
    "- Terminal "
   ]
  },
  {
   "cell_type": "code",
   "execution_count": null,
   "metadata": {},
   "outputs": [],
   "source": [
    "pip install numpy"
   ]
  },
  {
   "cell_type": "markdown",
   "metadata": {},
   "source": [
    "- IPython Notebook"
   ]
  },
  {
   "cell_type": "code",
   "execution_count": null,
   "metadata": {},
   "outputs": [],
   "source": [
    "!pip install numpy"
   ]
  },
  {
   "cell_type": "markdown",
   "metadata": {},
   "source": [
    "__3. Cara memeriksa apakah NumPy sudah terinstal di sistem:__"
   ]
  },
  {
   "cell_type": "markdown",
   "metadata": {},
   "source": [
    "- Dari terminal\n",
    "\n",
    "Jalankan kode berikut. Jika terinstal maka akan terlihat informasi detail tentang NumPy tersebut."
   ]
  },
  {
   "cell_type": "code",
   "execution_count": null,
   "metadata": {},
   "outputs": [],
   "source": [
    "pip show numpy"
   ]
  },
  {
   "cell_type": "markdown",
   "metadata": {},
   "source": []
  },
  {
   "cell_type": "markdown",
   "metadata": {},
   "source": [
    "- Dari IPython Notebook\n",
    "\n",
    "Jalankan kode berikut."
   ]
  },
  {
   "cell_type": "code",
   "execution_count": null,
   "metadata": {},
   "outputs": [],
   "source": [
    "import numpy as np\n",
    "print(np.__version__)"
   ]
  },
  {
   "cell_type": "markdown",
   "metadata": {},
   "source": [
    "__4. Perbedaan instalasi NumPy dengan pip dan conda:__\n",
    "\n",
    "pip merupakan standard package manager khusus untuk Python sedangkan conda meupakan package manager yang lebih universal yang bisa juga digunakan untuk package non-Python"
   ]
  },
  {
   "cell_type": "markdown",
   "metadata": {},
   "source": [
    "__5. Cara membuat array NumPy satu dimensi :__\n",
    "\n",
    "- Untuk membuat array NumPy satu dimensi dapat menggunakan fungsi ```numpy.array()``` , ```numpy.arrange()``` , ```numpy.linspace()```"
   ]
  },
  {
   "cell_type": "markdown",
   "metadata": {},
   "source": [
    "__6. Perbedaan antara array NumPy satu dimensi dan list Python biasa :__\n",
    "\n",
    "- Performa\n",
    "\n",
    "Array NumPy memiliki performa yang lebih baik dari list Python.\n",
    "- Tipe data\n",
    "\n",
    "Tipe data pada array NumPy seragam sedangkan pada list dapat beragam.\n",
    "- Ukuran dimensi\n",
    "\n",
    "Array Numpy memiliki dimensi yang tetap sedangkan dimensi list Python lebih fleksibel.\n",
    "- Fungsionalitas\n",
    "\n",
    "NumPy menyediakan berbagai fungsi dan metode yang dioptimalkan untuk manipulasi dan analisis data numerik, seperti operasi aritmatika, statistik, pemotongan, penyaringan, dll. List Python memiliki sedikit fungsi bawaan untuk operasi data numerik, dan operasi aritmatika dilakukan secara elemen demi elemen.\n",
    "- Memori\n",
    "\n",
    "Array NumPy cenderung menggunakan lebih sedikit memori daripada list Python, karena elemen-elemennya disimpan secara berdampingan dalam memori tanpa ada penambahan overhead untuk tipe data Python yang tersimpan bersama dengan setiap elemen."
   ]
  },
  {
   "cell_type": "markdown",
   "metadata": {},
   "source": [
    "7. Cara untuk membuat array NumPy dua dimensi menggunakan list bersarang :\n",
    "\n",
    "- Caranya adalah dengan menggukan fungsi ```numpy.array()```. Lihat contoh di bawah."
   ]
  },
  {
   "cell_type": "code",
   "execution_count": 6,
   "metadata": {},
   "outputs": [],
   "source": [
    "nested_list = [\n",
    "    [1,2,3],\n",
    "    [4,5,6],\n",
    "    [7,8,9]\n",
    "]"
   ]
  },
  {
   "cell_type": "code",
   "execution_count": 7,
   "metadata": {},
   "outputs": [],
   "source": [
    "import numpy as np"
   ]
  },
  {
   "cell_type": "code",
   "execution_count": 8,
   "metadata": {},
   "outputs": [
    {
     "data": {
      "text/plain": [
       "array([[1, 2, 3],\n",
       "       [4, 5, 6],\n",
       "       [7, 8, 9]])"
      ]
     },
     "execution_count": 8,
     "metadata": {},
     "output_type": "execute_result"
    }
   ],
   "source": [
    "my_array = np.array(nested_list)\n",
    "my_array"
   ]
  },
  {
   "cell_type": "markdown",
   "metadata": {},
   "source": [
    "__8.  Fungsi dari atribut shape dalam array NumPy :__\n",
    "\n",
    "Atribut shape dalam array NumPy memberikan informasi tentang dimensi dan ukuran array. Atribut shape adalah tuple yang menunjukkan jumlah elemen dalam setiap dimensi array."
   ]
  },
  {
   "cell_type": "markdown",
   "metadata": {},
   "source": [
    "9. Cara mengakses elemen tertentu dalam array NumPy :\n",
    "\n",
    "Untuk mengakses elemen dalam array NumPy maka kita dapat melakukan indexing. Lihat kode berikut."
   ]
  },
  {
   "cell_type": "code",
   "execution_count": 9,
   "metadata": {},
   "outputs": [
    {
     "data": {
      "text/plain": [
       "2"
      ]
     },
     "execution_count": 9,
     "metadata": {},
     "output_type": "execute_result"
    }
   ],
   "source": [
    "# syntax :\n",
    "# <nama_var_array>[index_baris][index_kolom]\n",
    "\n",
    "my_array[0][1]"
   ]
  },
  {
   "cell_type": "markdown",
   "metadata": {},
   "source": [
    "__10. Perintah untuk menghitung jumlah elemen dalam array NumPy :__"
   ]
  },
  {
   "cell_type": "code",
   "execution_count": 10,
   "metadata": {},
   "outputs": [
    {
     "data": {
      "text/plain": [
       "9"
      ]
     },
     "execution_count": 10,
     "metadata": {},
     "output_type": "execute_result"
    }
   ],
   "source": [
    "np.size(my_array)"
   ]
  },
  {
   "cell_type": "markdown",
   "metadata": {},
   "source": [
    "__11. Perbedaan antara np.zeros dan np.ones dalam konteks array NumPy :__\n",
    "\n",
    "Perbedaan utama antara ```np.zeros``` dan ```np.ones``` adalah nilai awal yang digunakan dalam pembuatan array. ```np.zeros``` menghasilkan array dengan semua elemen nol, sedangkan ```np.ones``` menghasilkan array dengan semua elemen satu."
   ]
  },
  {
   "cell_type": "markdown",
   "metadata": {},
   "source": [
    "__12. Apa yang dimaksud dengan broadcasting dalam NumPy, dan mengapa hal itu berguna?__\n",
    "\n",
    "Broadcasting adalah mekanisme dalam NumPy yang memungkinkan operasi aritmatika (seperti penambahan, pengurangan, perkalian, dll.) dilakukan pada array dengan bentuk yang berbeda atau ukuran yang tidak sama. Dalam broadcasting, NumPy secara otomatis menyesuaikan bentuk atau dimensi array yang lebih kecil agar sesuai dengan array yang lebih besar sehingga operasi aritmatika dapat dilakukan.\n",
    "\n",
    "Konsep ini berguna karena memungkinkan kita untuk melakukan operasi aritmatika pada array NumPy dengan cara yang lebih fleksibel tanpa perlu menambahkan dimensi atau menyalin data, yang dapat menghemat memori dan meningkatkan kinerja. "
   ]
  },
  {
   "cell_type": "markdown",
   "metadata": {},
   "source": [
    "__13. Bagaimana cara melakukan operasi matematika dasar (penjumlahan, pengurangan, perkalian) antara dua array NumPy?__\n",
    "\n",
    "Kita dapat melakukan operasi matematika dasar (penjumlahan, pengurangan, perkalian) antara dua array NumPy dengan menggunakan operator aritmatika standar (+, -, *) atau fungsi-fungsi NumPy yang sesuai."
   ]
  },
  {
   "cell_type": "markdown",
   "metadata": {},
   "source": [
    "___14. Perbedaan antara metode reshape dan resize dalam NumPy :___\n",
    "\n",
    "Perbedaan utama antara reshape dan resize adalah dalam cara mereka memperlakukan array asli dan dalam penanganan bentuk. reshape mengembalikan array baru dengan bentuk yang diinginkan tanpa mengubah array asli, sementara resize mengubah array asli untuk memiliki bentuk yang baru."
   ]
  },
  {
   "cell_type": "markdown",
   "metadata": {},
   "source": [
    "___15.  menggabungkan dua array NumPy menjadi satu :___\n",
    "\n",
    "- Menggunakan ```numpy.concatenate()```\n",
    "\n",
    "Metode ```numpy.concatenate()``` digunakan untuk menggabungkan dua atau lebih array NumPy secara berdampingan, baik dalam satu dimensi maupun dalam dimensi yang ditentukan. "
   ]
  },
  {
   "cell_type": "code",
   "execution_count": 11,
   "metadata": {},
   "outputs": [
    {
     "name": "stdout",
     "output_type": "stream",
     "text": [
      "Hasil Penggabungan:\n",
      "[1 2 3 4 5 6]\n"
     ]
    }
   ],
   "source": [
    "import numpy as np\n",
    "\n",
    "# Membuat dua array NumPy\n",
    "arr1 = np.array([1, 2, 3])\n",
    "arr2 = np.array([4, 5, 6])\n",
    "\n",
    "# Menggabungkan dua array menjadi satu dalam satu dimensi\n",
    "gabung = np.concatenate((arr1, arr2))\n",
    "\n",
    "print(\"Hasil Penggabungan:\")\n",
    "print(gabung)"
   ]
  },
  {
   "cell_type": "markdown",
   "metadata": {},
   "source": [
    "__16. slicing dalam konteks array NumPy dan cara menggunakannya :__\n",
    "\n",
    "Slicing dalam konteks array NumPy mengacu pada proses memperoleh bagian atau sub-array dari array NumPy yang lebih besar dengan menentukan rentang indeks tertentu. Dengan menggunakan slicing, Anda dapat mengambil sebagian atau seluruh elemen dari array NumPy dengan cara yang sangat efisien.\n",
    "\n",
    "Cara penggunaannya adalah seperti kode di bawah."
   ]
  },
  {
   "cell_type": "code",
   "execution_count": 12,
   "metadata": {},
   "outputs": [
    {
     "name": "stdout",
     "output_type": "stream",
     "text": [
      "[2 3 4]\n"
     ]
    }
   ],
   "source": [
    "import numpy as np\n",
    "\n",
    "# Membuat array NumPy\n",
    "arr = np.array([1, 2, 3, 4, 5])\n",
    "\n",
    "# Mengambil bagian dari array menggunakan slicing\n",
    "sub_arr = arr[1:4]  # Mengambil elemen dari indeks 1 hingga indeks 3\n",
    "\n",
    "print(sub_arr)  # Output: [2 3 4]"
   ]
  },
  {
   "cell_type": "markdown",
   "metadata": {},
   "source": [
    "__17. Bagaimana cara menghitung rata-rata, median, dan standar deviasi dari array NumPy?__\n",
    "\n",
    "- Menghitung Rata-rata:\n",
    "\n",
    "-> Menggunakan fungsi ```numpy.mean()```\n",
    "- Menghitung Median:\n",
    "\n",
    "-> Menggunakan fungsi ```numpy.median()```\n",
    "-  Menghitung Standar Deviasi:\n",
    "\n",
    "-> Menggunakan fungsi ```numpy.std()```"
   ]
  },
  {
   "cell_type": "markdown",
   "metadata": {},
   "source": [
    "__18. Kegunaan dari fungsi np.arange dalam NumPy :__\n",
    "\n",
    "Fungsi ```np.arange()``` dalam NumPy digunakan untuk membuat array yang berisi urutan angka dalam suatu rentang tertentu. Rentang ini dapat ditentukan dengan memberikan nilai awal, nilai akhir, dan langkah (step) antara angka-angka dalam rentang tersebut."
   ]
  },
  {
   "cell_type": "markdown",
   "metadata": {},
   "source": [
    "__19. Cara menyimpan dan memuat array NumPy ke dan dari file :__\n",
    "\n",
    "-> Menggunakan metode ```numpy.save()``` dan ```numpy.load()```"
   ]
  },
  {
   "cell_type": "markdown",
   "metadata": {},
   "source": [
    "- menyimpan"
   ]
  },
  {
   "cell_type": "code",
   "execution_count": 13,
   "metadata": {},
   "outputs": [],
   "source": [
    "import numpy as np\n",
    "\n",
    "# Membuat array NumPy\n",
    "arr = np.array([[1, 2, 3],\n",
    "                [4, 5, 6],\n",
    "                [7, 8, 9]])\n",
    "\n",
    "# Menyimpan array ke dalam file 'array.npy'\n",
    "np.save('array.npy', arr)"
   ]
  },
  {
   "cell_type": "markdown",
   "metadata": {},
   "source": [
    "- Memuat"
   ]
  },
  {
   "cell_type": "code",
   "execution_count": 14,
   "metadata": {},
   "outputs": [
    {
     "name": "stdout",
     "output_type": "stream",
     "text": [
      "Array yang Dimuat:\n",
      "[[1 2 3]\n",
      " [4 5 6]\n",
      " [7 8 9]]\n"
     ]
    }
   ],
   "source": [
    "import numpy as np\n",
    "\n",
    "# Memuat array dari file 'array.npy'\n",
    "arr_loaded = np.load('array.npy')\n",
    "\n",
    "print(\"Array yang Dimuat:\")\n",
    "print(arr_loaded)"
   ]
  },
  {
   "cell_type": "markdown",
   "metadata": {},
   "source": [
    "---"
   ]
  },
  {
   "cell_type": "markdown",
   "metadata": {},
   "source": [
    "Soal Praktikum\n",
    "---"
   ]
  },
  {
   "cell_type": "markdown",
   "metadata": {},
   "source": [
    "__1. Buatlah array NumPy 1D dengan 5 elemen bilangan bulat acak antara 1 hingga 10.__"
   ]
  },
  {
   "cell_type": "code",
   "execution_count": 16,
   "metadata": {},
   "outputs": [],
   "source": [
    "import numpy as np"
   ]
  },
  {
   "cell_type": "code",
   "execution_count": 19,
   "metadata": {},
   "outputs": [
    {
     "data": {
      "text/plain": [
       "array([9, 9, 1, 1, 5])"
      ]
     },
     "execution_count": 19,
     "metadata": {},
     "output_type": "execute_result"
    }
   ],
   "source": [
    "random_array = np.random.randint(1,11, size= 5) # bilangan acak 1 - 10\n",
    "random_array"
   ]
  },
  {
   "cell_type": "markdown",
   "metadata": {},
   "source": [
    "__2. Hitung jumlah, rata-rata, nilai minimum, dan nilai maksimum dari array yang telah dibuat.__"
   ]
  },
  {
   "cell_type": "code",
   "execution_count": 22,
   "metadata": {},
   "outputs": [
    {
     "name": "stdout",
     "output_type": "stream",
     "text": [
      "25\n",
      "5.0\n",
      "1\n",
      "9\n"
     ]
    }
   ],
   "source": [
    "# Jumlah\n",
    "print(np.sum(random_array))\n",
    "\n",
    "# Rata-rata\n",
    "print(np.mean(random_array))\n",
    "\n",
    "# Nilai minimum\n",
    "print(np.min(random_array))\n",
    "\n",
    "# Nilai maksimum\n",
    "print(np.max(random_array))"
   ]
  },
  {
   "cell_type": "markdown",
   "metadata": {},
   "source": [
    "______3. Buatlah dua buah array NumPy 2D dengan ukuran 3x3 yang berisi bilangan bulat acak.______"
   ]
  },
  {
   "cell_type": "code",
   "execution_count": 24,
   "metadata": {},
   "outputs": [],
   "source": [
    "random_array_1 = np.random.randint(1,11, size= (3,3))\n",
    "random_array_2 = np.random.randint(1,11, size= (3,3))"
   ]
  },
  {
   "cell_type": "code",
   "execution_count": 26,
   "metadata": {},
   "outputs": [
    {
     "name": "stdout",
     "output_type": "stream",
     "text": [
      "[[6 1 5]\n",
      " [4 6 9]\n",
      " [4 3 5]]\n"
     ]
    }
   ],
   "source": [
    "print(random_array_1)"
   ]
  },
  {
   "cell_type": "code",
   "execution_count": 27,
   "metadata": {},
   "outputs": [
    {
     "name": "stdout",
     "output_type": "stream",
     "text": [
      "[[3 3 5]\n",
      " [9 3 9]\n",
      " [3 6 4]]\n"
     ]
    }
   ],
   "source": [
    "print(random_array_2)"
   ]
  },
  {
   "cell_type": "markdown",
   "metadata": {},
   "source": [
    "__4. Lakukan penjumlahan, pengurangan, perkalian, dan pembagian antara kedua array tersebut.__"
   ]
  },
  {
   "cell_type": "code",
   "execution_count": 28,
   "metadata": {},
   "outputs": [
    {
     "data": {
      "text/plain": [
       "array([[ 9,  4, 10],\n",
       "       [13,  9, 18],\n",
       "       [ 7,  9,  9]])"
      ]
     },
     "execution_count": 28,
     "metadata": {},
     "output_type": "execute_result"
    }
   ],
   "source": [
    "# Penjumlahan\n",
    "addition = random_array_1 + random_array_2\n",
    "addition"
   ]
  },
  {
   "cell_type": "code",
   "execution_count": 29,
   "metadata": {},
   "outputs": [
    {
     "data": {
      "text/plain": [
       "array([[-3,  2,  0],\n",
       "       [ 5, -3,  0],\n",
       "       [-1,  3, -1]])"
      ]
     },
     "execution_count": 29,
     "metadata": {},
     "output_type": "execute_result"
    }
   ],
   "source": [
    "# Pengurangan\n",
    "substaction = random_array_2 - random_array_1\n",
    "substaction"
   ]
  },
  {
   "cell_type": "code",
   "execution_count": 30,
   "metadata": {},
   "outputs": [
    {
     "data": {
      "text/plain": [
       "array([[18,  3, 25],\n",
       "       [36, 18, 81],\n",
       "       [12, 18, 20]])"
      ]
     },
     "execution_count": 30,
     "metadata": {},
     "output_type": "execute_result"
    }
   ],
   "source": [
    "# Perkalian\n",
    "multiplication = random_array_1 * random_array_2\n",
    "multiplication"
   ]
  },
  {
   "cell_type": "code",
   "execution_count": 31,
   "metadata": {},
   "outputs": [
    {
     "data": {
      "text/plain": [
       "array([[0.5 , 3.  , 1.  ],\n",
       "       [2.25, 0.5 , 1.  ],\n",
       "       [0.75, 2.  , 0.8 ]])"
      ]
     },
     "execution_count": 31,
     "metadata": {},
     "output_type": "execute_result"
    }
   ],
   "source": [
    "# Pembagian\n",
    "division = random_array_2/random_array_1\n",
    "division"
   ]
  },
  {
   "cell_type": "markdown",
   "metadata": {},
   "source": [
    "__5. Hitung determinan dari salah satu array tersebut.__"
   ]
  },
  {
   "cell_type": "code",
   "execution_count": 32,
   "metadata": {},
   "outputs": [
    {
     "name": "stdout",
     "output_type": "stream",
     "text": [
      "-26.000000000000004\n"
     ]
    }
   ],
   "source": [
    "print(np.linalg.det(random_array_1))"
   ]
  },
  {
   "cell_type": "markdown",
   "metadata": {},
   "source": [
    "__6. Buatlah array NumPy 1D dengan 10 elemen bilangan bulat dari 1 hingga 10.__"
   ]
  },
  {
   "cell_type": "code",
   "execution_count": 33,
   "metadata": {},
   "outputs": [
    {
     "data": {
      "text/plain": [
       "array([ 1,  2,  3,  4,  5,  6,  7,  8,  9, 10])"
      ]
     },
     "execution_count": 33,
     "metadata": {},
     "output_type": "execute_result"
    }
   ],
   "source": [
    "range_array = np.arange(1,11)\n",
    "range_array"
   ]
  },
  {
   "cell_type": "markdown",
   "metadata": {},
   "source": [
    "__7. Tampilkan elemen dengan indeks genap.__"
   ]
  },
  {
   "cell_type": "code",
   "execution_count": 34,
   "metadata": {},
   "outputs": [
    {
     "name": "stdout",
     "output_type": "stream",
     "text": [
      "[ 2  4  6  8 10]\n"
     ]
    }
   ],
   "source": [
    "elemen_genap = range_array[1::2]\n",
    "print(elemen_genap)"
   ]
  },
  {
   "cell_type": "markdown",
   "metadata": {},
   "source": [
    "__8. Ambil subset array yang hanya berisi nilai lebih dari 5.__"
   ]
  },
  {
   "cell_type": "code",
   "execution_count": 35,
   "metadata": {},
   "outputs": [
    {
     "name": "stdout",
     "output_type": "stream",
     "text": [
      "[ 6  7  8  9 10]\n"
     ]
    }
   ],
   "source": [
    "subset = range_array[range_array>5]\n",
    "print(subset)"
   ]
  },
  {
   "cell_type": "markdown",
   "metadata": {},
   "source": [
    "__9. Buatlah array NumPy 2D berukuran 4x4 dengan bilangan bulat acak.__"
   ]
  },
  {
   "cell_type": "code",
   "execution_count": 38,
   "metadata": {},
   "outputs": [
    {
     "data": {
      "text/plain": [
       "array([[ 6,  5,  5,  3],\n",
       "       [ 2,  5,  1, 10],\n",
       "       [ 5, 10,  2,  3],\n",
       "       [ 1,  1,  6,  5]])"
      ]
     },
     "execution_count": 38,
     "metadata": {},
     "output_type": "execute_result"
    }
   ],
   "source": [
    "random_numpy = np.random.randint(1,11, size=(4,4))\n",
    "random_numpy"
   ]
  },
  {
   "cell_type": "markdown",
   "metadata": {},
   "source": [
    "__10. Hitung nilai rata-rata, standar deviasi, median, dan korelasi antar-kolom dari array tersebut.__"
   ]
  },
  {
   "cell_type": "code",
   "execution_count": 39,
   "metadata": {},
   "outputs": [
    {
     "name": "stdout",
     "output_type": "stream",
     "text": [
      "4.375\n"
     ]
    }
   ],
   "source": [
    "# Rata-rata\n",
    "print(np.mean(random_numpy))"
   ]
  },
  {
   "cell_type": "code",
   "execution_count": 40,
   "metadata": {},
   "outputs": [
    {
     "name": "stdout",
     "output_type": "stream",
     "text": [
      "2.7357585785299112\n"
     ]
    }
   ],
   "source": [
    "# Standar deviasi\n",
    "print(np.std(random_numpy))"
   ]
  },
  {
   "cell_type": "code",
   "execution_count": 41,
   "metadata": {},
   "outputs": [
    {
     "name": "stdout",
     "output_type": "stream",
     "text": [
      "5.0\n"
     ]
    }
   ],
   "source": [
    "# Median\n",
    "print(np.median(random_numpy))"
   ]
  },
  {
   "cell_type": "code",
   "execution_count": 42,
   "metadata": {},
   "outputs": [
    {
     "data": {
      "text/plain": [
       "array([[ 1.        ,  0.66488997, -0.05882353, -0.65690351],\n",
       "       [ 0.66488997,  1.        , -0.66488997, -0.28057851],\n",
       "       [-0.05882353, -0.66488997,  1.        , -0.5297609 ],\n",
       "       [-0.65690351, -0.28057851, -0.5297609 ,  1.        ]])"
      ]
     },
     "execution_count": 42,
     "metadata": {},
     "output_type": "execute_result"
    }
   ],
   "source": [
    "# Korelasi antar kolom\n",
    "korelasi = np.corrcoef(random_numpy, rowvar= False)\n",
    "korelasi"
   ]
  },
  {
   "cell_type": "markdown",
   "metadata": {},
   "source": [
    "__11. Buatlah array NumPy 1D dengan nilai-nilai dari 0 hingga π dengan interval 0.1.__"
   ]
  },
  {
   "cell_type": "code",
   "execution_count": 43,
   "metadata": {},
   "outputs": [
    {
     "data": {
      "text/plain": [
       "array([0. , 0.1, 0.2, 0.3, 0.4, 0.5, 0.6, 0.7, 0.8, 0.9, 1. , 1.1, 1.2,\n",
       "       1.3, 1.4, 1.5, 1.6, 1.7, 1.8, 1.9, 2. , 2.1, 2.2, 2.3, 2.4, 2.5,\n",
       "       2.6, 2.7, 2.8, 2.9, 3. , 3.1, 3.2])"
      ]
     },
     "execution_count": 43,
     "metadata": {},
     "output_type": "execute_result"
    }
   ],
   "source": [
    "pi_arr = np.arange(0, np.pi + 0.1, 0.1)\n",
    "pi_arr"
   ]
  },
  {
   "cell_type": "markdown",
   "metadata": {},
   "source": [
    "__12. Hitung nilai sin, cos, dan tan dari setiap elemen array tersebut.__"
   ]
  },
  {
   "cell_type": "code",
   "execution_count": 47,
   "metadata": {},
   "outputs": [
    {
     "data": {
      "text/plain": [
       "array([ 0.        ,  0.09983342,  0.19866933,  0.29552021,  0.38941834,\n",
       "        0.47942554,  0.56464247,  0.64421769,  0.71735609,  0.78332691,\n",
       "        0.84147098,  0.89120736,  0.93203909,  0.96355819,  0.98544973,\n",
       "        0.99749499,  0.9995736 ,  0.99166481,  0.97384763,  0.94630009,\n",
       "        0.90929743,  0.86320937,  0.8084964 ,  0.74570521,  0.67546318,\n",
       "        0.59847214,  0.51550137,  0.42737988,  0.33498815,  0.23924933,\n",
       "        0.14112001,  0.04158066, -0.05837414])"
      ]
     },
     "execution_count": 47,
     "metadata": {},
     "output_type": "execute_result"
    }
   ],
   "source": [
    "# sin\n",
    "hasil_sin = np.sin(pi_arr)\n",
    "hasil_sin"
   ]
  },
  {
   "cell_type": "code",
   "execution_count": 48,
   "metadata": {},
   "outputs": [
    {
     "data": {
      "text/plain": [
       "array([ 1.        ,  0.99500417,  0.98006658,  0.95533649,  0.92106099,\n",
       "        0.87758256,  0.82533561,  0.76484219,  0.69670671,  0.62160997,\n",
       "        0.54030231,  0.45359612,  0.36235775,  0.26749883,  0.16996714,\n",
       "        0.0707372 , -0.02919952, -0.12884449, -0.22720209, -0.32328957,\n",
       "       -0.41614684, -0.5048461 , -0.58850112, -0.66627602, -0.73739372,\n",
       "       -0.80114362, -0.85688875, -0.90407214, -0.94222234, -0.97095817,\n",
       "       -0.9899925 , -0.99913515, -0.99829478])"
      ]
     },
     "execution_count": 48,
     "metadata": {},
     "output_type": "execute_result"
    }
   ],
   "source": [
    "# cos\n",
    "hasil_cos = np.cos(pi_arr)\n",
    "hasil_cos"
   ]
  },
  {
   "cell_type": "code",
   "execution_count": 49,
   "metadata": {},
   "outputs": [
    {
     "data": {
      "text/plain": [
       "array([  0.        ,   0.10033467,   0.20271004,   0.30933625,\n",
       "         0.42279322,   0.54630249,   0.68413681,   0.84228838,\n",
       "         1.02963856,   1.26015822,   1.55740772,   1.96475966,\n",
       "         2.57215162,   3.60210245,   5.79788372,  14.10141995,\n",
       "       -34.23253274,  -7.69660214,  -4.28626167,  -2.92709751,\n",
       "        -2.18503986,  -1.70984654,  -1.37382306,  -1.11921364,\n",
       "        -0.91601429,  -0.7470223 ,  -0.60159661,  -0.47272763,\n",
       "        -0.35552983,  -0.24640539,  -0.14254654,  -0.04161665,\n",
       "         0.05847385])"
      ]
     },
     "execution_count": 49,
     "metadata": {},
     "output_type": "execute_result"
    }
   ],
   "source": [
    "# tan\n",
    "hasil_tan = np.tan(pi_arr)\n",
    "hasil_tan"
   ]
  },
  {
   "cell_type": "markdown",
   "metadata": {},
   "source": [
    "__13. Tampilkan nilai maksimum dan minimum dari hasil perhitungan sin.__"
   ]
  },
  {
   "cell_type": "code",
   "execution_count": 50,
   "metadata": {},
   "outputs": [
    {
     "name": "stdout",
     "output_type": "stream",
     "text": [
      "0.9995736030415051\n"
     ]
    }
   ],
   "source": [
    "# max\n",
    "print(np.max(hasil_sin))"
   ]
  },
  {
   "cell_type": "code",
   "execution_count": 51,
   "metadata": {},
   "outputs": [
    {
     "name": "stdout",
     "output_type": "stream",
     "text": [
      "-0.058374143427580086\n"
     ]
    }
   ],
   "source": [
    "# min\n",
    "print(np.min(hasil_sin))"
   ]
  }
 ],
 "metadata": {
  "kernelspec": {
   "display_name": "Python 3",
   "language": "python",
   "name": "python3"
  },
  "language_info": {
   "codemirror_mode": {
    "name": "ipython",
    "version": 3
   },
   "file_extension": ".py",
   "mimetype": "text/x-python",
   "name": "python",
   "nbconvert_exporter": "python",
   "pygments_lexer": "ipython3",
   "version": "3.12.1"
  }
 },
 "nbformat": 4,
 "nbformat_minor": 2
}
