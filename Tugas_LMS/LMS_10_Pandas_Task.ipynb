{
 "cells": [
  {
   "cell_type": "code",
   "execution_count": 1,
   "metadata": {},
   "outputs": [],
   "source": [
    "import pandas as pd"
   ]
  },
  {
   "cell_type": "markdown",
   "metadata": {},
   "source": [
    "1 Membuat data dalam bentuk Dictionary bernama \"data\" dengan keys : ```Nama``` , ```Usia``` , ```Kota```\n",
    "---"
   ]
  },
  {
   "cell_type": "code",
   "execution_count": 2,
   "metadata": {},
   "outputs": [],
   "source": [
    "data = {\n",
    "    \"Nama\" : ['Arbyn','Thoriq','Afri','Army','Jundy','Agung','Bintang','Iqbal','Ramdan','reiven','Theo','Mimi','Evan','Muy','Toni','Alam','Marko','Felix','Rama','Rani'],\n",
    "    \"Usia\" : [28,32,20,25,35,45,18,27,15,30,29,26,27,31,29,23,37,25,27,33],\n",
    "    \"Kota\" : ['Medan','Padang','Samosir','Surabaya','Bogor','Jakarta','Riau','Bogor','Bogor','Medan','Medan','Padang','Jakarta','Palembang','Sumedang','Depok','Semarang','Jakarta','Medan','Surabaya']\n",
    "}"
   ]
  },
  {
   "cell_type": "markdown",
   "metadata": {},
   "source": [
    "2 Membuat dataFrame dari data yang ada pada Dictionary dan menampilkannya :\n",
    "---"
   ]
  },
  {
   "cell_type": "code",
   "execution_count": 4,
   "metadata": {},
   "outputs": [
    {
     "name": "stdout",
     "output_type": "stream",
     "text": [
      "       Nama  Usia       Kota\n",
      "0     Arbyn    28      Medan\n",
      "1    Thoriq    32     Padang\n",
      "2      Afri    20    Samosir\n",
      "3      Army    25   Surabaya\n",
      "4     Jundy    35      Bogor\n",
      "5     Agung    45    Jakarta\n",
      "6   Bintang    18       Riau\n",
      "7     Iqbal    27      Bogor\n",
      "8    Ramdan    15      Bogor\n",
      "9    reiven    30      Medan\n",
      "10     Theo    29      Medan\n",
      "11     Mimi    26     Padang\n",
      "12     Evan    27    Jakarta\n",
      "13      Muy    31  Palembang\n",
      "14     Toni    29   Sumedang\n",
      "15     Alam    23      Depok\n",
      "16    Marko    37   Semarang\n",
      "17    Felix    25    Jakarta\n",
      "18     Rama    27      Medan\n",
      "19     Rani    33   Surabaya\n"
     ]
    }
   ],
   "source": [
    "data_from_dict = pd.DataFrame(data)\n",
    "print(data_from_dict)"
   ]
  },
  {
   "cell_type": "markdown",
   "metadata": {},
   "source": [
    "3 Menampilkan 5 baris pertama dari dataFrame :\n",
    "---"
   ]
  },
  {
   "cell_type": "code",
   "execution_count": 5,
   "metadata": {},
   "outputs": [
    {
     "data": {
      "text/html": [
       "<div>\n",
       "<style scoped>\n",
       "    .dataframe tbody tr th:only-of-type {\n",
       "        vertical-align: middle;\n",
       "    }\n",
       "\n",
       "    .dataframe tbody tr th {\n",
       "        vertical-align: top;\n",
       "    }\n",
       "\n",
       "    .dataframe thead th {\n",
       "        text-align: right;\n",
       "    }\n",
       "</style>\n",
       "<table border=\"1\" class=\"dataframe\">\n",
       "  <thead>\n",
       "    <tr style=\"text-align: right;\">\n",
       "      <th></th>\n",
       "      <th>Nama</th>\n",
       "      <th>Usia</th>\n",
       "      <th>Kota</th>\n",
       "    </tr>\n",
       "  </thead>\n",
       "  <tbody>\n",
       "    <tr>\n",
       "      <th>0</th>\n",
       "      <td>Arbyn</td>\n",
       "      <td>28</td>\n",
       "      <td>Medan</td>\n",
       "    </tr>\n",
       "    <tr>\n",
       "      <th>1</th>\n",
       "      <td>Thoriq</td>\n",
       "      <td>32</td>\n",
       "      <td>Padang</td>\n",
       "    </tr>\n",
       "    <tr>\n",
       "      <th>2</th>\n",
       "      <td>Afri</td>\n",
       "      <td>20</td>\n",
       "      <td>Samosir</td>\n",
       "    </tr>\n",
       "    <tr>\n",
       "      <th>3</th>\n",
       "      <td>Army</td>\n",
       "      <td>25</td>\n",
       "      <td>Surabaya</td>\n",
       "    </tr>\n",
       "    <tr>\n",
       "      <th>4</th>\n",
       "      <td>Jundy</td>\n",
       "      <td>35</td>\n",
       "      <td>Bogor</td>\n",
       "    </tr>\n",
       "  </tbody>\n",
       "</table>\n",
       "</div>"
      ],
      "text/plain": [
       "     Nama  Usia      Kota\n",
       "0   Arbyn    28     Medan\n",
       "1  Thoriq    32    Padang\n",
       "2    Afri    20   Samosir\n",
       "3    Army    25  Surabaya\n",
       "4   Jundy    35     Bogor"
      ]
     },
     "execution_count": 5,
     "metadata": {},
     "output_type": "execute_result"
    }
   ],
   "source": [
    "data_from_dict.head()"
   ]
  },
  {
   "cell_type": "markdown",
   "metadata": {},
   "source": [
    "4 Menambahkan series/kolom baru : ```Gender``` , ```Alamat``` , ```Pekerjaan``` dan menampilkannya\n",
    "---"
   ]
  },
  {
   "cell_type": "code",
   "execution_count": 7,
   "metadata": {},
   "outputs": [
    {
     "name": "stdout",
     "output_type": "stream",
     "text": [
      "       Nama  Usia       Kota  Gender       Alamat            Pekerjaan\n",
      "0     Arbyn    28      Medan    Male   Jalan ke-1              Teacher\n",
      "1    Thoriq    32     Padang    Male   Jalan ke-2             Engineer\n",
      "2      Afri    20    Samosir    Male   Jalan ke-3    Production Leader\n",
      "3      Army    25   Surabaya    Male   Jalan ke-4             Designer\n",
      "4     Jundy    35      Bogor    Male   Jalan ke-5        Administrator\n",
      "5     Agung    45    Jakarta    Male   Jalan ke-6        Web Developer\n",
      "6   Bintang    18       Riau    Male   Jalan ke-7         Data Analyst\n",
      "7     Iqbal    27      Bogor    Male   Jalan ke-8               Athlet\n",
      "8    Ramdan    15      Bogor    Male   Jalan ke-9           IT Support\n",
      "9    reiven    30      Medan    Male  Jalan ke-10              Teacher\n",
      "10     Theo    29      Medan    Male  Jalan ke-11             Designer\n",
      "11     Mimi    26     Padang  Female  Jalan ke-12           QA Analyst\n",
      "12     Evan    27    Jakarta    Male  Jalan ke-13             Surveyor\n",
      "13      Muy    31  Palembang    Male  Jalan ke-14  Project Team Leader\n",
      "14     Toni    29   Sumedang    Male  Jalan ke-15             Engineer\n",
      "15     Alam    23      Depok    Male  Jalan ke-16         Data Analyst\n",
      "16    Marko    37   Semarang    Male  Jalan ke-17                Diver\n",
      "17    Felix    25    Jakarta    Male  Jalan ke-18           Tour Guide\n",
      "18     Rama    27      Medan  Female  Jalan ke-19               Athlet\n",
      "19     Rani    33   Surabaya  Female  Jalan ke-20           QA Analyst\n"
     ]
    }
   ],
   "source": [
    "data_from_dict['Gender'] = ['Male','Male','Male','Male','Male','Male','Male','Male','Male','Male','Male','Female','Male','Male','Male','Male','Male','Male','Female','Female']\n",
    "data_from_dict['Alamat'] = ['Jalan ke-1','Jalan ke-2','Jalan ke-3','Jalan ke-4','Jalan ke-5','Jalan ke-6','Jalan ke-7','Jalan ke-8','Jalan ke-9','Jalan ke-10','Jalan ke-11','Jalan ke-12','Jalan ke-13','Jalan ke-14','Jalan ke-15','Jalan ke-16','Jalan ke-17','Jalan ke-18','Jalan ke-19','Jalan ke-20']\n",
    "data_from_dict['Pekerjaan'] = ['Teacher','Engineer','Production Leader','Designer','Administrator','Web Developer','Data Analyst','Athlet','IT Support','Teacher','Designer','QA Analyst','Surveyor','Project Team Leader','Engineer','Data Analyst','Diver','Tour Guide','Athlet','QA Analyst']\n",
    "print(data_from_dict)"
   ]
  },
  {
   "cell_type": "markdown",
   "metadata": {},
   "source": [
    "5 Filter data ```Usia > 25```\n",
    "---"
   ]
  },
  {
   "cell_type": "code",
   "execution_count": 8,
   "metadata": {},
   "outputs": [
    {
     "data": {
      "text/html": [
       "<div>\n",
       "<style scoped>\n",
       "    .dataframe tbody tr th:only-of-type {\n",
       "        vertical-align: middle;\n",
       "    }\n",
       "\n",
       "    .dataframe tbody tr th {\n",
       "        vertical-align: top;\n",
       "    }\n",
       "\n",
       "    .dataframe thead th {\n",
       "        text-align: right;\n",
       "    }\n",
       "</style>\n",
       "<table border=\"1\" class=\"dataframe\">\n",
       "  <thead>\n",
       "    <tr style=\"text-align: right;\">\n",
       "      <th></th>\n",
       "      <th>Nama</th>\n",
       "      <th>Usia</th>\n",
       "      <th>Kota</th>\n",
       "      <th>Gender</th>\n",
       "      <th>Alamat</th>\n",
       "      <th>Pekerjaan</th>\n",
       "    </tr>\n",
       "  </thead>\n",
       "  <tbody>\n",
       "    <tr>\n",
       "      <th>0</th>\n",
       "      <td>Arbyn</td>\n",
       "      <td>28</td>\n",
       "      <td>Medan</td>\n",
       "      <td>Male</td>\n",
       "      <td>Jalan ke-1</td>\n",
       "      <td>Teacher</td>\n",
       "    </tr>\n",
       "    <tr>\n",
       "      <th>1</th>\n",
       "      <td>Thoriq</td>\n",
       "      <td>32</td>\n",
       "      <td>Padang</td>\n",
       "      <td>Male</td>\n",
       "      <td>Jalan ke-2</td>\n",
       "      <td>Engineer</td>\n",
       "    </tr>\n",
       "    <tr>\n",
       "      <th>4</th>\n",
       "      <td>Jundy</td>\n",
       "      <td>35</td>\n",
       "      <td>Bogor</td>\n",
       "      <td>Male</td>\n",
       "      <td>Jalan ke-5</td>\n",
       "      <td>Administrator</td>\n",
       "    </tr>\n",
       "    <tr>\n",
       "      <th>5</th>\n",
       "      <td>Agung</td>\n",
       "      <td>45</td>\n",
       "      <td>Jakarta</td>\n",
       "      <td>Male</td>\n",
       "      <td>Jalan ke-6</td>\n",
       "      <td>Web Developer</td>\n",
       "    </tr>\n",
       "    <tr>\n",
       "      <th>7</th>\n",
       "      <td>Iqbal</td>\n",
       "      <td>27</td>\n",
       "      <td>Bogor</td>\n",
       "      <td>Male</td>\n",
       "      <td>Jalan ke-8</td>\n",
       "      <td>Athlet</td>\n",
       "    </tr>\n",
       "    <tr>\n",
       "      <th>9</th>\n",
       "      <td>reiven</td>\n",
       "      <td>30</td>\n",
       "      <td>Medan</td>\n",
       "      <td>Male</td>\n",
       "      <td>Jalan ke-10</td>\n",
       "      <td>Teacher</td>\n",
       "    </tr>\n",
       "    <tr>\n",
       "      <th>10</th>\n",
       "      <td>Theo</td>\n",
       "      <td>29</td>\n",
       "      <td>Medan</td>\n",
       "      <td>Male</td>\n",
       "      <td>Jalan ke-11</td>\n",
       "      <td>Designer</td>\n",
       "    </tr>\n",
       "    <tr>\n",
       "      <th>11</th>\n",
       "      <td>Mimi</td>\n",
       "      <td>26</td>\n",
       "      <td>Padang</td>\n",
       "      <td>Female</td>\n",
       "      <td>Jalan ke-12</td>\n",
       "      <td>QA Analyst</td>\n",
       "    </tr>\n",
       "    <tr>\n",
       "      <th>12</th>\n",
       "      <td>Evan</td>\n",
       "      <td>27</td>\n",
       "      <td>Jakarta</td>\n",
       "      <td>Male</td>\n",
       "      <td>Jalan ke-13</td>\n",
       "      <td>Surveyor</td>\n",
       "    </tr>\n",
       "    <tr>\n",
       "      <th>13</th>\n",
       "      <td>Muy</td>\n",
       "      <td>31</td>\n",
       "      <td>Palembang</td>\n",
       "      <td>Male</td>\n",
       "      <td>Jalan ke-14</td>\n",
       "      <td>Project Team Leader</td>\n",
       "    </tr>\n",
       "    <tr>\n",
       "      <th>14</th>\n",
       "      <td>Toni</td>\n",
       "      <td>29</td>\n",
       "      <td>Sumedang</td>\n",
       "      <td>Male</td>\n",
       "      <td>Jalan ke-15</td>\n",
       "      <td>Engineer</td>\n",
       "    </tr>\n",
       "    <tr>\n",
       "      <th>16</th>\n",
       "      <td>Marko</td>\n",
       "      <td>37</td>\n",
       "      <td>Semarang</td>\n",
       "      <td>Male</td>\n",
       "      <td>Jalan ke-17</td>\n",
       "      <td>Diver</td>\n",
       "    </tr>\n",
       "    <tr>\n",
       "      <th>18</th>\n",
       "      <td>Rama</td>\n",
       "      <td>27</td>\n",
       "      <td>Medan</td>\n",
       "      <td>Female</td>\n",
       "      <td>Jalan ke-19</td>\n",
       "      <td>Athlet</td>\n",
       "    </tr>\n",
       "    <tr>\n",
       "      <th>19</th>\n",
       "      <td>Rani</td>\n",
       "      <td>33</td>\n",
       "      <td>Surabaya</td>\n",
       "      <td>Female</td>\n",
       "      <td>Jalan ke-20</td>\n",
       "      <td>QA Analyst</td>\n",
       "    </tr>\n",
       "  </tbody>\n",
       "</table>\n",
       "</div>"
      ],
      "text/plain": [
       "      Nama  Usia       Kota  Gender       Alamat            Pekerjaan\n",
       "0    Arbyn    28      Medan    Male   Jalan ke-1              Teacher\n",
       "1   Thoriq    32     Padang    Male   Jalan ke-2             Engineer\n",
       "4    Jundy    35      Bogor    Male   Jalan ke-5        Administrator\n",
       "5    Agung    45    Jakarta    Male   Jalan ke-6        Web Developer\n",
       "7    Iqbal    27      Bogor    Male   Jalan ke-8               Athlet\n",
       "9   reiven    30      Medan    Male  Jalan ke-10              Teacher\n",
       "10    Theo    29      Medan    Male  Jalan ke-11             Designer\n",
       "11    Mimi    26     Padang  Female  Jalan ke-12           QA Analyst\n",
       "12    Evan    27    Jakarta    Male  Jalan ke-13             Surveyor\n",
       "13     Muy    31  Palembang    Male  Jalan ke-14  Project Team Leader\n",
       "14    Toni    29   Sumedang    Male  Jalan ke-15             Engineer\n",
       "16   Marko    37   Semarang    Male  Jalan ke-17                Diver\n",
       "18    Rama    27      Medan  Female  Jalan ke-19               Athlet\n",
       "19    Rani    33   Surabaya  Female  Jalan ke-20           QA Analyst"
      ]
     },
     "execution_count": 8,
     "metadata": {},
     "output_type": "execute_result"
    }
   ],
   "source": [
    "filtered = data_from_dict[data_from_dict['Usia'] > 25]\n",
    "filtered"
   ]
  },
  {
   "cell_type": "markdown",
   "metadata": {},
   "source": [
    "6 Filter data : ```Usia > 30``` & ```Gender  == Female```\n",
    "---"
   ]
  },
  {
   "cell_type": "code",
   "execution_count": 9,
   "metadata": {},
   "outputs": [
    {
     "data": {
      "text/html": [
       "<div>\n",
       "<style scoped>\n",
       "    .dataframe tbody tr th:only-of-type {\n",
       "        vertical-align: middle;\n",
       "    }\n",
       "\n",
       "    .dataframe tbody tr th {\n",
       "        vertical-align: top;\n",
       "    }\n",
       "\n",
       "    .dataframe thead th {\n",
       "        text-align: right;\n",
       "    }\n",
       "</style>\n",
       "<table border=\"1\" class=\"dataframe\">\n",
       "  <thead>\n",
       "    <tr style=\"text-align: right;\">\n",
       "      <th></th>\n",
       "      <th>Nama</th>\n",
       "      <th>Usia</th>\n",
       "      <th>Kota</th>\n",
       "      <th>Gender</th>\n",
       "      <th>Alamat</th>\n",
       "      <th>Pekerjaan</th>\n",
       "    </tr>\n",
       "  </thead>\n",
       "  <tbody>\n",
       "    <tr>\n",
       "      <th>19</th>\n",
       "      <td>Rani</td>\n",
       "      <td>33</td>\n",
       "      <td>Surabaya</td>\n",
       "      <td>Female</td>\n",
       "      <td>Jalan ke-20</td>\n",
       "      <td>QA Analyst</td>\n",
       "    </tr>\n",
       "  </tbody>\n",
       "</table>\n",
       "</div>"
      ],
      "text/plain": [
       "    Nama  Usia      Kota  Gender       Alamat   Pekerjaan\n",
       "19  Rani    33  Surabaya  Female  Jalan ke-20  QA Analyst"
      ]
     },
     "execution_count": 9,
     "metadata": {},
     "output_type": "execute_result"
    }
   ],
   "source": [
    "filtered = data_from_dict[(data_from_dict['Usia'] > 30) & (data_from_dict['Gender'] == 'Female')]\n",
    "filtered"
   ]
  },
  {
   "cell_type": "markdown",
   "metadata": {},
   "source": [
    "7 Akses baris ke-3 dan ke-4 menggunakan ```.loc``` dan ```.iloc```\n",
    "---"
   ]
  },
  {
   "cell_type": "markdown",
   "metadata": {},
   "source": [
    "- ```.loc``` Label-based Indexing"
   ]
  },
  {
   "cell_type": "code",
   "execution_count": 14,
   "metadata": {},
   "outputs": [
    {
     "data": {
      "text/html": [
       "<div>\n",
       "<style scoped>\n",
       "    .dataframe tbody tr th:only-of-type {\n",
       "        vertical-align: middle;\n",
       "    }\n",
       "\n",
       "    .dataframe tbody tr th {\n",
       "        vertical-align: top;\n",
       "    }\n",
       "\n",
       "    .dataframe thead th {\n",
       "        text-align: right;\n",
       "    }\n",
       "</style>\n",
       "<table border=\"1\" class=\"dataframe\">\n",
       "  <thead>\n",
       "    <tr style=\"text-align: right;\">\n",
       "      <th></th>\n",
       "      <th>Nama</th>\n",
       "      <th>Usia</th>\n",
       "      <th>Kota</th>\n",
       "      <th>Gender</th>\n",
       "      <th>Alamat</th>\n",
       "      <th>Pekerjaan</th>\n",
       "    </tr>\n",
       "  </thead>\n",
       "  <tbody>\n",
       "    <tr>\n",
       "      <th>3</th>\n",
       "      <td>Army</td>\n",
       "      <td>25</td>\n",
       "      <td>Surabaya</td>\n",
       "      <td>Male</td>\n",
       "      <td>Jalan ke-4</td>\n",
       "      <td>Designer</td>\n",
       "    </tr>\n",
       "    <tr>\n",
       "      <th>4</th>\n",
       "      <td>Jundy</td>\n",
       "      <td>35</td>\n",
       "      <td>Bogor</td>\n",
       "      <td>Male</td>\n",
       "      <td>Jalan ke-5</td>\n",
       "      <td>Administrator</td>\n",
       "    </tr>\n",
       "  </tbody>\n",
       "</table>\n",
       "</div>"
      ],
      "text/plain": [
       "    Nama  Usia      Kota Gender      Alamat      Pekerjaan\n",
       "3   Army    25  Surabaya   Male  Jalan ke-4       Designer\n",
       "4  Jundy    35     Bogor   Male  Jalan ke-5  Administrator"
      ]
     },
     "execution_count": 14,
     "metadata": {},
     "output_type": "execute_result"
    }
   ],
   "source": [
    "data_from_dict.loc[3:4]"
   ]
  },
  {
   "cell_type": "code",
   "execution_count": 18,
   "metadata": {},
   "outputs": [
    {
     "data": {
      "text/html": [
       "<div>\n",
       "<style scoped>\n",
       "    .dataframe tbody tr th:only-of-type {\n",
       "        vertical-align: middle;\n",
       "    }\n",
       "\n",
       "    .dataframe tbody tr th {\n",
       "        vertical-align: top;\n",
       "    }\n",
       "\n",
       "    .dataframe thead th {\n",
       "        text-align: right;\n",
       "    }\n",
       "</style>\n",
       "<table border=\"1\" class=\"dataframe\">\n",
       "  <thead>\n",
       "    <tr style=\"text-align: right;\">\n",
       "      <th></th>\n",
       "      <th>Nama</th>\n",
       "      <th>Usia</th>\n",
       "      <th>Kota</th>\n",
       "      <th>Gender</th>\n",
       "      <th>Alamat</th>\n",
       "      <th>Pekerjaan</th>\n",
       "    </tr>\n",
       "  </thead>\n",
       "  <tbody>\n",
       "    <tr>\n",
       "      <th>3</th>\n",
       "      <td>Army</td>\n",
       "      <td>25</td>\n",
       "      <td>Surabaya</td>\n",
       "      <td>Male</td>\n",
       "      <td>Jalan ke-4</td>\n",
       "      <td>Designer</td>\n",
       "    </tr>\n",
       "    <tr>\n",
       "      <th>4</th>\n",
       "      <td>Jundy</td>\n",
       "      <td>35</td>\n",
       "      <td>Bogor</td>\n",
       "      <td>Male</td>\n",
       "      <td>Jalan ke-5</td>\n",
       "      <td>Administrator</td>\n",
       "    </tr>\n",
       "  </tbody>\n",
       "</table>\n",
       "</div>"
      ],
      "text/plain": [
       "    Nama  Usia      Kota Gender      Alamat      Pekerjaan\n",
       "3   Army    25  Surabaya   Male  Jalan ke-4       Designer\n",
       "4  Jundy    35     Bogor   Male  Jalan ke-5  Administrator"
      ]
     },
     "execution_count": 18,
     "metadata": {},
     "output_type": "execute_result"
    }
   ],
   "source": [
    "data_from_dict.loc[[3,4]]"
   ]
  },
  {
   "cell_type": "markdown",
   "metadata": {},
   "source": [
    "- ```.iloc``` Integer-based Indexing"
   ]
  },
  {
   "cell_type": "code",
   "execution_count": 20,
   "metadata": {},
   "outputs": [
    {
     "data": {
      "text/html": [
       "<div>\n",
       "<style scoped>\n",
       "    .dataframe tbody tr th:only-of-type {\n",
       "        vertical-align: middle;\n",
       "    }\n",
       "\n",
       "    .dataframe tbody tr th {\n",
       "        vertical-align: top;\n",
       "    }\n",
       "\n",
       "    .dataframe thead th {\n",
       "        text-align: right;\n",
       "    }\n",
       "</style>\n",
       "<table border=\"1\" class=\"dataframe\">\n",
       "  <thead>\n",
       "    <tr style=\"text-align: right;\">\n",
       "      <th></th>\n",
       "      <th>Nama</th>\n",
       "      <th>Usia</th>\n",
       "      <th>Kota</th>\n",
       "      <th>Gender</th>\n",
       "      <th>Alamat</th>\n",
       "      <th>Pekerjaan</th>\n",
       "    </tr>\n",
       "  </thead>\n",
       "  <tbody>\n",
       "    <tr>\n",
       "      <th>3</th>\n",
       "      <td>Army</td>\n",
       "      <td>25</td>\n",
       "      <td>Surabaya</td>\n",
       "      <td>Male</td>\n",
       "      <td>Jalan ke-4</td>\n",
       "      <td>Designer</td>\n",
       "    </tr>\n",
       "    <tr>\n",
       "      <th>4</th>\n",
       "      <td>Jundy</td>\n",
       "      <td>35</td>\n",
       "      <td>Bogor</td>\n",
       "      <td>Male</td>\n",
       "      <td>Jalan ke-5</td>\n",
       "      <td>Administrator</td>\n",
       "    </tr>\n",
       "  </tbody>\n",
       "</table>\n",
       "</div>"
      ],
      "text/plain": [
       "    Nama  Usia      Kota Gender      Alamat      Pekerjaan\n",
       "3   Army    25  Surabaya   Male  Jalan ke-4       Designer\n",
       "4  Jundy    35     Bogor   Male  Jalan ke-5  Administrator"
      ]
     },
     "execution_count": 20,
     "metadata": {},
     "output_type": "execute_result"
    }
   ],
   "source": [
    "data_from_dict.iloc[3:5]"
   ]
  },
  {
   "cell_type": "markdown",
   "metadata": {},
   "source": [
    "8 Menghitung rata-rata \"Usia\"\n",
    "---"
   ]
  },
  {
   "cell_type": "code",
   "execution_count": 24,
   "metadata": {},
   "outputs": [
    {
     "name": "stdout",
     "output_type": "stream",
     "text": [
      "Rata-rata usia adalah : 28.1\n"
     ]
    }
   ],
   "source": [
    "average_age = data_from_dict['Usia'].mean()\n",
    "print(\"Rata-rata usia adalah : \" + str(average_age))"
   ]
  },
  {
   "cell_type": "markdown",
   "metadata": {},
   "source": [
    "9 Export dataFrame ke format .csv\n",
    "---"
   ]
  },
  {
   "cell_type": "code",
   "execution_count": 26,
   "metadata": {},
   "outputs": [],
   "source": [
    "data_from_dict.to_csv(path_or_buf=\"./data_pandas.csv\", index= False)"
   ]
  }
 ],
 "metadata": {
  "kernelspec": {
   "display_name": "Python 3",
   "language": "python",
   "name": "python3"
  },
  "language_info": {
   "codemirror_mode": {
    "name": "ipython",
    "version": 3
   },
   "file_extension": ".py",
   "mimetype": "text/x-python",
   "name": "python",
   "nbconvert_exporter": "python",
   "pygments_lexer": "ipython3",
   "version": "3.12.1"
  }
 },
 "nbformat": 4,
 "nbformat_minor": 2
}
